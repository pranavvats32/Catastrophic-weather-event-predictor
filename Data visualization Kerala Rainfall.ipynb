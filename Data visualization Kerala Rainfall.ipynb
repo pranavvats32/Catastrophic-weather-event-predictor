{
 "cells": [
  {
   "cell_type": "markdown",
   "metadata": {},
   "source": [
    "# Kerala Rainfall Visualization\n",
    "###  Vanshika Mishra RA1811031010036\n",
    "### Pranav Vats RA1811003010225"
   ]
  },
  {
   "cell_type": "code",
   "execution_count": 37,
   "metadata": {},
   "outputs": [],
   "source": [
    "import pandas as pd\n",
    "import numpy as np\n",
    "import matplotlib.pyplot as plt"
   ]
  },
  {
   "cell_type": "code",
   "execution_count": 38,
   "metadata": {},
   "outputs": [
    {
     "name": "stdout",
     "output_type": "stream",
     "text": [
      "(117, 19)\n"
     ]
    },
    {
     "data": {
      "text/html": [
       "<div>\n",
       "<style scoped>\n",
       "    .dataframe tbody tr th:only-of-type {\n",
       "        vertical-align: middle;\n",
       "    }\n",
       "\n",
       "    .dataframe tbody tr th {\n",
       "        vertical-align: top;\n",
       "    }\n",
       "\n",
       "    .dataframe thead th {\n",
       "        text-align: right;\n",
       "    }\n",
       "</style>\n",
       "<table border=\"1\" class=\"dataframe\">\n",
       "  <thead>\n",
       "    <tr style=\"text-align: right;\">\n",
       "      <th></th>\n",
       "      <th>SUBDIVISION</th>\n",
       "      <th>YEAR</th>\n",
       "      <th>JAN</th>\n",
       "      <th>FEB</th>\n",
       "      <th>MAR</th>\n",
       "      <th>APR</th>\n",
       "      <th>MAY</th>\n",
       "      <th>JUN</th>\n",
       "      <th>JUL</th>\n",
       "      <th>AUG</th>\n",
       "      <th>SEP</th>\n",
       "      <th>OCT</th>\n",
       "      <th>NOV</th>\n",
       "      <th>DEC</th>\n",
       "      <th>ANNUAL</th>\n",
       "      <th>JF</th>\n",
       "      <th>MAM</th>\n",
       "      <th>JJAS</th>\n",
       "      <th>OND</th>\n",
       "    </tr>\n",
       "  </thead>\n",
       "  <tbody>\n",
       "    <tr>\n",
       "      <th>0</th>\n",
       "      <td>Kerala</td>\n",
       "      <td>1901</td>\n",
       "      <td>28.7</td>\n",
       "      <td>44.7</td>\n",
       "      <td>51.6</td>\n",
       "      <td>160.0</td>\n",
       "      <td>174.7</td>\n",
       "      <td>824.6</td>\n",
       "      <td>743.0</td>\n",
       "      <td>357.5</td>\n",
       "      <td>197.7</td>\n",
       "      <td>266.9</td>\n",
       "      <td>350.8</td>\n",
       "      <td>48.4</td>\n",
       "      <td>3248.6</td>\n",
       "      <td>73.4</td>\n",
       "      <td>386.2</td>\n",
       "      <td>2122.8</td>\n",
       "      <td>666.1</td>\n",
       "    </tr>\n",
       "    <tr>\n",
       "      <th>1</th>\n",
       "      <td>Kerala</td>\n",
       "      <td>1902</td>\n",
       "      <td>6.7</td>\n",
       "      <td>2.6</td>\n",
       "      <td>57.3</td>\n",
       "      <td>83.9</td>\n",
       "      <td>134.5</td>\n",
       "      <td>390.9</td>\n",
       "      <td>1205.0</td>\n",
       "      <td>315.8</td>\n",
       "      <td>491.6</td>\n",
       "      <td>358.4</td>\n",
       "      <td>158.3</td>\n",
       "      <td>121.5</td>\n",
       "      <td>3326.6</td>\n",
       "      <td>9.3</td>\n",
       "      <td>275.7</td>\n",
       "      <td>2403.4</td>\n",
       "      <td>638.2</td>\n",
       "    </tr>\n",
       "    <tr>\n",
       "      <th>2</th>\n",
       "      <td>Kerala</td>\n",
       "      <td>1903</td>\n",
       "      <td>3.2</td>\n",
       "      <td>18.6</td>\n",
       "      <td>3.1</td>\n",
       "      <td>83.6</td>\n",
       "      <td>249.7</td>\n",
       "      <td>558.6</td>\n",
       "      <td>1022.5</td>\n",
       "      <td>420.2</td>\n",
       "      <td>341.8</td>\n",
       "      <td>354.1</td>\n",
       "      <td>157.0</td>\n",
       "      <td>59.0</td>\n",
       "      <td>3271.2</td>\n",
       "      <td>21.7</td>\n",
       "      <td>336.3</td>\n",
       "      <td>2343.0</td>\n",
       "      <td>570.1</td>\n",
       "    </tr>\n",
       "    <tr>\n",
       "      <th>3</th>\n",
       "      <td>Kerala</td>\n",
       "      <td>1904</td>\n",
       "      <td>23.7</td>\n",
       "      <td>3.0</td>\n",
       "      <td>32.2</td>\n",
       "      <td>71.5</td>\n",
       "      <td>235.7</td>\n",
       "      <td>1098.2</td>\n",
       "      <td>725.5</td>\n",
       "      <td>351.8</td>\n",
       "      <td>222.7</td>\n",
       "      <td>328.1</td>\n",
       "      <td>33.9</td>\n",
       "      <td>3.3</td>\n",
       "      <td>3129.7</td>\n",
       "      <td>26.7</td>\n",
       "      <td>339.4</td>\n",
       "      <td>2398.2</td>\n",
       "      <td>365.3</td>\n",
       "    </tr>\n",
       "    <tr>\n",
       "      <th>4</th>\n",
       "      <td>Kerala</td>\n",
       "      <td>1905</td>\n",
       "      <td>1.2</td>\n",
       "      <td>22.3</td>\n",
       "      <td>9.4</td>\n",
       "      <td>105.9</td>\n",
       "      <td>263.3</td>\n",
       "      <td>850.2</td>\n",
       "      <td>520.5</td>\n",
       "      <td>293.6</td>\n",
       "      <td>217.2</td>\n",
       "      <td>383.5</td>\n",
       "      <td>74.4</td>\n",
       "      <td>0.2</td>\n",
       "      <td>2741.6</td>\n",
       "      <td>23.4</td>\n",
       "      <td>378.5</td>\n",
       "      <td>1881.5</td>\n",
       "      <td>458.1</td>\n",
       "    </tr>\n",
       "  </tbody>\n",
       "</table>\n",
       "</div>"
      ],
      "text/plain": [
       "  SUBDIVISION  YEAR   JAN   FEB   MAR    APR    MAY     JUN     JUL    AUG  \\\n",
       "0      Kerala  1901  28.7  44.7  51.6  160.0  174.7   824.6   743.0  357.5   \n",
       "1      Kerala  1902   6.7   2.6  57.3   83.9  134.5   390.9  1205.0  315.8   \n",
       "2      Kerala  1903   3.2  18.6   3.1   83.6  249.7   558.6  1022.5  420.2   \n",
       "3      Kerala  1904  23.7   3.0  32.2   71.5  235.7  1098.2   725.5  351.8   \n",
       "4      Kerala  1905   1.2  22.3   9.4  105.9  263.3   850.2   520.5  293.6   \n",
       "\n",
       "     SEP    OCT    NOV    DEC  ANNUAL    JF    MAM    JJAS    OND  \n",
       "0  197.7  266.9  350.8   48.4  3248.6  73.4  386.2  2122.8  666.1  \n",
       "1  491.6  358.4  158.3  121.5  3326.6   9.3  275.7  2403.4  638.2  \n",
       "2  341.8  354.1  157.0   59.0  3271.2  21.7  336.3  2343.0  570.1  \n",
       "3  222.7  328.1   33.9    3.3  3129.7  26.7  339.4  2398.2  365.3  \n",
       "4  217.2  383.5   74.4    0.2  2741.6  23.4  378.5  1881.5  458.1  "
      ]
     },
     "execution_count": 38,
     "metadata": {},
     "output_type": "execute_result"
    }
   ],
   "source": [
    "df = pd.read_csv('Kerala-Rainfall-Historical.csv')\n",
    "print(df.shape)\n",
    "df.head()"
   ]
  },
  {
   "cell_type": "code",
   "execution_count": 39,
   "metadata": {},
   "outputs": [],
   "source": [
    "df_month = df[['YEAR', 'JAN', 'FEB', 'MAR', 'APR', 'MAY', 'JUN', 'JUL', 'AUG', 'SEP', 'OCT', 'NOV', 'DEC']]\n",
    "df_season = df[['YEAR', 'ANNUAL', 'JF', 'MAM', 'JJAS', 'OND']]"
   ]
  },
  {
   "cell_type": "code",
   "execution_count": 40,
   "metadata": {},
   "outputs": [],
   "source": [
    "import plotly.graph_objects as go\n",
    "import seaborn as sns"
   ]
  },
  {
   "cell_type": "code",
   "execution_count": 41,
   "metadata": {},
   "outputs": [
    {
     "data": {
      "application/vnd.plotly.v1+json": {
       "config": {
        "plotlyServerURL": "https://plot.ly"
       },
       "data": [
        {
         "hovertext": [
          "Average Polarity",
          "Average Polarity",
          "Average Polarity",
          "Average Polarity"
         ],
         "marker": {
          "color": "rgb(158,202,225)",
          "line": {
           "color": "rgb(8,48,107)",
           "width": 1.5
          }
         },
         "opacity": 0.6,
         "text": [
          "2914.25",
          "27.54",
          "376.52",
          "2015.69",
          "494.48"
         ],
         "textposition": "auto",
         "type": "bar",
         "x": [
          "Annual",
          "Jan-Feb",
          "Mar-May",
          "Jun-Sep",
          "Oct-Dec"
         ],
         "y": [
          2914.25,
          27.54,
          376.52,
          2015.69,
          494.48
         ]
        }
       ],
       "layout": {
        "template": {
         "data": {
          "bar": [
           {
            "error_x": {
             "color": "#2a3f5f"
            },
            "error_y": {
             "color": "#2a3f5f"
            },
            "marker": {
             "line": {
              "color": "#E5ECF6",
              "width": 0.5
             },
             "pattern": {
              "fillmode": "overlay",
              "size": 10,
              "solidity": 0.2
             }
            },
            "type": "bar"
           }
          ],
          "barpolar": [
           {
            "marker": {
             "line": {
              "color": "#E5ECF6",
              "width": 0.5
             },
             "pattern": {
              "fillmode": "overlay",
              "size": 10,
              "solidity": 0.2
             }
            },
            "type": "barpolar"
           }
          ],
          "carpet": [
           {
            "aaxis": {
             "endlinecolor": "#2a3f5f",
             "gridcolor": "white",
             "linecolor": "white",
             "minorgridcolor": "white",
             "startlinecolor": "#2a3f5f"
            },
            "baxis": {
             "endlinecolor": "#2a3f5f",
             "gridcolor": "white",
             "linecolor": "white",
             "minorgridcolor": "white",
             "startlinecolor": "#2a3f5f"
            },
            "type": "carpet"
           }
          ],
          "choropleth": [
           {
            "colorbar": {
             "outlinewidth": 0,
             "ticks": ""
            },
            "type": "choropleth"
           }
          ],
          "contour": [
           {
            "colorbar": {
             "outlinewidth": 0,
             "ticks": ""
            },
            "colorscale": [
             [
              0,
              "#0d0887"
             ],
             [
              0.1111111111111111,
              "#46039f"
             ],
             [
              0.2222222222222222,
              "#7201a8"
             ],
             [
              0.3333333333333333,
              "#9c179e"
             ],
             [
              0.4444444444444444,
              "#bd3786"
             ],
             [
              0.5555555555555556,
              "#d8576b"
             ],
             [
              0.6666666666666666,
              "#ed7953"
             ],
             [
              0.7777777777777778,
              "#fb9f3a"
             ],
             [
              0.8888888888888888,
              "#fdca26"
             ],
             [
              1,
              "#f0f921"
             ]
            ],
            "type": "contour"
           }
          ],
          "contourcarpet": [
           {
            "colorbar": {
             "outlinewidth": 0,
             "ticks": ""
            },
            "type": "contourcarpet"
           }
          ],
          "heatmap": [
           {
            "colorbar": {
             "outlinewidth": 0,
             "ticks": ""
            },
            "colorscale": [
             [
              0,
              "#0d0887"
             ],
             [
              0.1111111111111111,
              "#46039f"
             ],
             [
              0.2222222222222222,
              "#7201a8"
             ],
             [
              0.3333333333333333,
              "#9c179e"
             ],
             [
              0.4444444444444444,
              "#bd3786"
             ],
             [
              0.5555555555555556,
              "#d8576b"
             ],
             [
              0.6666666666666666,
              "#ed7953"
             ],
             [
              0.7777777777777778,
              "#fb9f3a"
             ],
             [
              0.8888888888888888,
              "#fdca26"
             ],
             [
              1,
              "#f0f921"
             ]
            ],
            "type": "heatmap"
           }
          ],
          "heatmapgl": [
           {
            "colorbar": {
             "outlinewidth": 0,
             "ticks": ""
            },
            "colorscale": [
             [
              0,
              "#0d0887"
             ],
             [
              0.1111111111111111,
              "#46039f"
             ],
             [
              0.2222222222222222,
              "#7201a8"
             ],
             [
              0.3333333333333333,
              "#9c179e"
             ],
             [
              0.4444444444444444,
              "#bd3786"
             ],
             [
              0.5555555555555556,
              "#d8576b"
             ],
             [
              0.6666666666666666,
              "#ed7953"
             ],
             [
              0.7777777777777778,
              "#fb9f3a"
             ],
             [
              0.8888888888888888,
              "#fdca26"
             ],
             [
              1,
              "#f0f921"
             ]
            ],
            "type": "heatmapgl"
           }
          ],
          "histogram": [
           {
            "marker": {
             "pattern": {
              "fillmode": "overlay",
              "size": 10,
              "solidity": 0.2
             }
            },
            "type": "histogram"
           }
          ],
          "histogram2d": [
           {
            "colorbar": {
             "outlinewidth": 0,
             "ticks": ""
            },
            "colorscale": [
             [
              0,
              "#0d0887"
             ],
             [
              0.1111111111111111,
              "#46039f"
             ],
             [
              0.2222222222222222,
              "#7201a8"
             ],
             [
              0.3333333333333333,
              "#9c179e"
             ],
             [
              0.4444444444444444,
              "#bd3786"
             ],
             [
              0.5555555555555556,
              "#d8576b"
             ],
             [
              0.6666666666666666,
              "#ed7953"
             ],
             [
              0.7777777777777778,
              "#fb9f3a"
             ],
             [
              0.8888888888888888,
              "#fdca26"
             ],
             [
              1,
              "#f0f921"
             ]
            ],
            "type": "histogram2d"
           }
          ],
          "histogram2dcontour": [
           {
            "colorbar": {
             "outlinewidth": 0,
             "ticks": ""
            },
            "colorscale": [
             [
              0,
              "#0d0887"
             ],
             [
              0.1111111111111111,
              "#46039f"
             ],
             [
              0.2222222222222222,
              "#7201a8"
             ],
             [
              0.3333333333333333,
              "#9c179e"
             ],
             [
              0.4444444444444444,
              "#bd3786"
             ],
             [
              0.5555555555555556,
              "#d8576b"
             ],
             [
              0.6666666666666666,
              "#ed7953"
             ],
             [
              0.7777777777777778,
              "#fb9f3a"
             ],
             [
              0.8888888888888888,
              "#fdca26"
             ],
             [
              1,
              "#f0f921"
             ]
            ],
            "type": "histogram2dcontour"
           }
          ],
          "mesh3d": [
           {
            "colorbar": {
             "outlinewidth": 0,
             "ticks": ""
            },
            "type": "mesh3d"
           }
          ],
          "parcoords": [
           {
            "line": {
             "colorbar": {
              "outlinewidth": 0,
              "ticks": ""
             }
            },
            "type": "parcoords"
           }
          ],
          "pie": [
           {
            "automargin": true,
            "type": "pie"
           }
          ],
          "scatter": [
           {
            "marker": {
             "colorbar": {
              "outlinewidth": 0,
              "ticks": ""
             }
            },
            "type": "scatter"
           }
          ],
          "scatter3d": [
           {
            "line": {
             "colorbar": {
              "outlinewidth": 0,
              "ticks": ""
             }
            },
            "marker": {
             "colorbar": {
              "outlinewidth": 0,
              "ticks": ""
             }
            },
            "type": "scatter3d"
           }
          ],
          "scattercarpet": [
           {
            "marker": {
             "colorbar": {
              "outlinewidth": 0,
              "ticks": ""
             }
            },
            "type": "scattercarpet"
           }
          ],
          "scattergeo": [
           {
            "marker": {
             "colorbar": {
              "outlinewidth": 0,
              "ticks": ""
             }
            },
            "type": "scattergeo"
           }
          ],
          "scattergl": [
           {
            "marker": {
             "colorbar": {
              "outlinewidth": 0,
              "ticks": ""
             }
            },
            "type": "scattergl"
           }
          ],
          "scattermapbox": [
           {
            "marker": {
             "colorbar": {
              "outlinewidth": 0,
              "ticks": ""
             }
            },
            "type": "scattermapbox"
           }
          ],
          "scatterpolar": [
           {
            "marker": {
             "colorbar": {
              "outlinewidth": 0,
              "ticks": ""
             }
            },
            "type": "scatterpolar"
           }
          ],
          "scatterpolargl": [
           {
            "marker": {
             "colorbar": {
              "outlinewidth": 0,
              "ticks": ""
             }
            },
            "type": "scatterpolargl"
           }
          ],
          "scatterternary": [
           {
            "marker": {
             "colorbar": {
              "outlinewidth": 0,
              "ticks": ""
             }
            },
            "type": "scatterternary"
           }
          ],
          "surface": [
           {
            "colorbar": {
             "outlinewidth": 0,
             "ticks": ""
            },
            "colorscale": [
             [
              0,
              "#0d0887"
             ],
             [
              0.1111111111111111,
              "#46039f"
             ],
             [
              0.2222222222222222,
              "#7201a8"
             ],
             [
              0.3333333333333333,
              "#9c179e"
             ],
             [
              0.4444444444444444,
              "#bd3786"
             ],
             [
              0.5555555555555556,
              "#d8576b"
             ],
             [
              0.6666666666666666,
              "#ed7953"
             ],
             [
              0.7777777777777778,
              "#fb9f3a"
             ],
             [
              0.8888888888888888,
              "#fdca26"
             ],
             [
              1,
              "#f0f921"
             ]
            ],
            "type": "surface"
           }
          ],
          "table": [
           {
            "cells": {
             "fill": {
              "color": "#EBF0F8"
             },
             "line": {
              "color": "white"
             }
            },
            "header": {
             "fill": {
              "color": "#C8D4E3"
             },
             "line": {
              "color": "white"
             }
            },
            "type": "table"
           }
          ]
         },
         "layout": {
          "annotationdefaults": {
           "arrowcolor": "#2a3f5f",
           "arrowhead": 0,
           "arrowwidth": 1
          },
          "autotypenumbers": "strict",
          "coloraxis": {
           "colorbar": {
            "outlinewidth": 0,
            "ticks": ""
           }
          },
          "colorscale": {
           "diverging": [
            [
             0,
             "#8e0152"
            ],
            [
             0.1,
             "#c51b7d"
            ],
            [
             0.2,
             "#de77ae"
            ],
            [
             0.3,
             "#f1b6da"
            ],
            [
             0.4,
             "#fde0ef"
            ],
            [
             0.5,
             "#f7f7f7"
            ],
            [
             0.6,
             "#e6f5d0"
            ],
            [
             0.7,
             "#b8e186"
            ],
            [
             0.8,
             "#7fbc41"
            ],
            [
             0.9,
             "#4d9221"
            ],
            [
             1,
             "#276419"
            ]
           ],
           "sequential": [
            [
             0,
             "#0d0887"
            ],
            [
             0.1111111111111111,
             "#46039f"
            ],
            [
             0.2222222222222222,
             "#7201a8"
            ],
            [
             0.3333333333333333,
             "#9c179e"
            ],
            [
             0.4444444444444444,
             "#bd3786"
            ],
            [
             0.5555555555555556,
             "#d8576b"
            ],
            [
             0.6666666666666666,
             "#ed7953"
            ],
            [
             0.7777777777777778,
             "#fb9f3a"
            ],
            [
             0.8888888888888888,
             "#fdca26"
            ],
            [
             1,
             "#f0f921"
            ]
           ],
           "sequentialminus": [
            [
             0,
             "#0d0887"
            ],
            [
             0.1111111111111111,
             "#46039f"
            ],
            [
             0.2222222222222222,
             "#7201a8"
            ],
            [
             0.3333333333333333,
             "#9c179e"
            ],
            [
             0.4444444444444444,
             "#bd3786"
            ],
            [
             0.5555555555555556,
             "#d8576b"
            ],
            [
             0.6666666666666666,
             "#ed7953"
            ],
            [
             0.7777777777777778,
             "#fb9f3a"
            ],
            [
             0.8888888888888888,
             "#fdca26"
            ],
            [
             1,
             "#f0f921"
            ]
           ]
          },
          "colorway": [
           "#636efa",
           "#EF553B",
           "#00cc96",
           "#ab63fa",
           "#FFA15A",
           "#19d3f3",
           "#FF6692",
           "#B6E880",
           "#FF97FF",
           "#FECB52"
          ],
          "font": {
           "color": "#2a3f5f"
          },
          "geo": {
           "bgcolor": "white",
           "lakecolor": "white",
           "landcolor": "#E5ECF6",
           "showlakes": true,
           "showland": true,
           "subunitcolor": "white"
          },
          "hoverlabel": {
           "align": "left"
          },
          "hovermode": "closest",
          "mapbox": {
           "style": "light"
          },
          "paper_bgcolor": "white",
          "plot_bgcolor": "#E5ECF6",
          "polar": {
           "angularaxis": {
            "gridcolor": "white",
            "linecolor": "white",
            "ticks": ""
           },
           "bgcolor": "#E5ECF6",
           "radialaxis": {
            "gridcolor": "white",
            "linecolor": "white",
            "ticks": ""
           }
          },
          "scene": {
           "xaxis": {
            "backgroundcolor": "#E5ECF6",
            "gridcolor": "white",
            "gridwidth": 2,
            "linecolor": "white",
            "showbackground": true,
            "ticks": "",
            "zerolinecolor": "white"
           },
           "yaxis": {
            "backgroundcolor": "#E5ECF6",
            "gridcolor": "white",
            "gridwidth": 2,
            "linecolor": "white",
            "showbackground": true,
            "ticks": "",
            "zerolinecolor": "white"
           },
           "zaxis": {
            "backgroundcolor": "#E5ECF6",
            "gridcolor": "white",
            "gridwidth": 2,
            "linecolor": "white",
            "showbackground": true,
            "ticks": "",
            "zerolinecolor": "white"
           }
          },
          "shapedefaults": {
           "line": {
            "color": "#2a3f5f"
           }
          },
          "ternary": {
           "aaxis": {
            "gridcolor": "white",
            "linecolor": "white",
            "ticks": ""
           },
           "baxis": {
            "gridcolor": "white",
            "linecolor": "white",
            "ticks": ""
           },
           "bgcolor": "#E5ECF6",
           "caxis": {
            "gridcolor": "white",
            "linecolor": "white",
            "ticks": ""
           }
          },
          "title": {
           "x": 0.05
          },
          "xaxis": {
           "automargin": true,
           "gridcolor": "white",
           "linecolor": "white",
           "ticks": "",
           "title": {
            "standoff": 15
           },
           "zerolinecolor": "white",
           "zerolinewidth": 2
          },
          "yaxis": {
           "automargin": true,
           "gridcolor": "white",
           "linecolor": "white",
           "ticks": "",
           "title": {
            "standoff": 15
           },
           "zerolinecolor": "white",
           "zerolinewidth": 2
          }
         }
        },
        "title": {
         "text": "Average Precipitation in Different Seasons",
         "x": 0.5
        },
        "xaxis": {
         "title": {
          "font": {
           "size": 16
          },
          "standoff": 12,
          "text": "Seasons"
         }
        },
        "yaxis": {
         "title": {
          "font": {
           "size": 16
          },
          "standoff": 12,
          "text": "Average Precipitation (mms)"
         }
        }
       }
      },
      "text/html": [
       "<div>                            <div id=\"21b25d43-f318-476b-8bc9-ae1e09a248be\" class=\"plotly-graph-div\" style=\"height:525px; width:100%;\"></div>            <script type=\"text/javascript\">                require([\"plotly\"], function(Plotly) {                    window.PLOTLYENV=window.PLOTLYENV || {};                                    if (document.getElementById(\"21b25d43-f318-476b-8bc9-ae1e09a248be\")) {                    Plotly.newPlot(                        \"21b25d43-f318-476b-8bc9-ae1e09a248be\",                        [{\"hovertext\":[\"Average Polarity\",\"Average Polarity\",\"Average Polarity\",\"Average Polarity\"],\"marker\":{\"color\":\"rgb(158,202,225)\",\"line\":{\"color\":\"rgb(8,48,107)\",\"width\":1.5}},\"opacity\":0.6,\"text\":[\"2914.25\",\"27.54\",\"376.52\",\"2015.69\",\"494.48\"],\"textposition\":\"auto\",\"type\":\"bar\",\"x\":[\"Annual\",\"Jan-Feb\",\"Mar-May\",\"Jun-Sep\",\"Oct-Dec\"],\"y\":[2914.25,27.54,376.52,2015.69,494.48]}],                        {\"template\":{\"data\":{\"bar\":[{\"error_x\":{\"color\":\"#2a3f5f\"},\"error_y\":{\"color\":\"#2a3f5f\"},\"marker\":{\"line\":{\"color\":\"#E5ECF6\",\"width\":0.5},\"pattern\":{\"fillmode\":\"overlay\",\"size\":10,\"solidity\":0.2}},\"type\":\"bar\"}],\"barpolar\":[{\"marker\":{\"line\":{\"color\":\"#E5ECF6\",\"width\":0.5},\"pattern\":{\"fillmode\":\"overlay\",\"size\":10,\"solidity\":0.2}},\"type\":\"barpolar\"}],\"carpet\":[{\"aaxis\":{\"endlinecolor\":\"#2a3f5f\",\"gridcolor\":\"white\",\"linecolor\":\"white\",\"minorgridcolor\":\"white\",\"startlinecolor\":\"#2a3f5f\"},\"baxis\":{\"endlinecolor\":\"#2a3f5f\",\"gridcolor\":\"white\",\"linecolor\":\"white\",\"minorgridcolor\":\"white\",\"startlinecolor\":\"#2a3f5f\"},\"type\":\"carpet\"}],\"choropleth\":[{\"colorbar\":{\"outlinewidth\":0,\"ticks\":\"\"},\"type\":\"choropleth\"}],\"contour\":[{\"colorbar\":{\"outlinewidth\":0,\"ticks\":\"\"},\"colorscale\":[[0.0,\"#0d0887\"],[0.1111111111111111,\"#46039f\"],[0.2222222222222222,\"#7201a8\"],[0.3333333333333333,\"#9c179e\"],[0.4444444444444444,\"#bd3786\"],[0.5555555555555556,\"#d8576b\"],[0.6666666666666666,\"#ed7953\"],[0.7777777777777778,\"#fb9f3a\"],[0.8888888888888888,\"#fdca26\"],[1.0,\"#f0f921\"]],\"type\":\"contour\"}],\"contourcarpet\":[{\"colorbar\":{\"outlinewidth\":0,\"ticks\":\"\"},\"type\":\"contourcarpet\"}],\"heatmap\":[{\"colorbar\":{\"outlinewidth\":0,\"ticks\":\"\"},\"colorscale\":[[0.0,\"#0d0887\"],[0.1111111111111111,\"#46039f\"],[0.2222222222222222,\"#7201a8\"],[0.3333333333333333,\"#9c179e\"],[0.4444444444444444,\"#bd3786\"],[0.5555555555555556,\"#d8576b\"],[0.6666666666666666,\"#ed7953\"],[0.7777777777777778,\"#fb9f3a\"],[0.8888888888888888,\"#fdca26\"],[1.0,\"#f0f921\"]],\"type\":\"heatmap\"}],\"heatmapgl\":[{\"colorbar\":{\"outlinewidth\":0,\"ticks\":\"\"},\"colorscale\":[[0.0,\"#0d0887\"],[0.1111111111111111,\"#46039f\"],[0.2222222222222222,\"#7201a8\"],[0.3333333333333333,\"#9c179e\"],[0.4444444444444444,\"#bd3786\"],[0.5555555555555556,\"#d8576b\"],[0.6666666666666666,\"#ed7953\"],[0.7777777777777778,\"#fb9f3a\"],[0.8888888888888888,\"#fdca26\"],[1.0,\"#f0f921\"]],\"type\":\"heatmapgl\"}],\"histogram\":[{\"marker\":{\"pattern\":{\"fillmode\":\"overlay\",\"size\":10,\"solidity\":0.2}},\"type\":\"histogram\"}],\"histogram2d\":[{\"colorbar\":{\"outlinewidth\":0,\"ticks\":\"\"},\"colorscale\":[[0.0,\"#0d0887\"],[0.1111111111111111,\"#46039f\"],[0.2222222222222222,\"#7201a8\"],[0.3333333333333333,\"#9c179e\"],[0.4444444444444444,\"#bd3786\"],[0.5555555555555556,\"#d8576b\"],[0.6666666666666666,\"#ed7953\"],[0.7777777777777778,\"#fb9f3a\"],[0.8888888888888888,\"#fdca26\"],[1.0,\"#f0f921\"]],\"type\":\"histogram2d\"}],\"histogram2dcontour\":[{\"colorbar\":{\"outlinewidth\":0,\"ticks\":\"\"},\"colorscale\":[[0.0,\"#0d0887\"],[0.1111111111111111,\"#46039f\"],[0.2222222222222222,\"#7201a8\"],[0.3333333333333333,\"#9c179e\"],[0.4444444444444444,\"#bd3786\"],[0.5555555555555556,\"#d8576b\"],[0.6666666666666666,\"#ed7953\"],[0.7777777777777778,\"#fb9f3a\"],[0.8888888888888888,\"#fdca26\"],[1.0,\"#f0f921\"]],\"type\":\"histogram2dcontour\"}],\"mesh3d\":[{\"colorbar\":{\"outlinewidth\":0,\"ticks\":\"\"},\"type\":\"mesh3d\"}],\"parcoords\":[{\"line\":{\"colorbar\":{\"outlinewidth\":0,\"ticks\":\"\"}},\"type\":\"parcoords\"}],\"pie\":[{\"automargin\":true,\"type\":\"pie\"}],\"scatter\":[{\"marker\":{\"colorbar\":{\"outlinewidth\":0,\"ticks\":\"\"}},\"type\":\"scatter\"}],\"scatter3d\":[{\"line\":{\"colorbar\":{\"outlinewidth\":0,\"ticks\":\"\"}},\"marker\":{\"colorbar\":{\"outlinewidth\":0,\"ticks\":\"\"}},\"type\":\"scatter3d\"}],\"scattercarpet\":[{\"marker\":{\"colorbar\":{\"outlinewidth\":0,\"ticks\":\"\"}},\"type\":\"scattercarpet\"}],\"scattergeo\":[{\"marker\":{\"colorbar\":{\"outlinewidth\":0,\"ticks\":\"\"}},\"type\":\"scattergeo\"}],\"scattergl\":[{\"marker\":{\"colorbar\":{\"outlinewidth\":0,\"ticks\":\"\"}},\"type\":\"scattergl\"}],\"scattermapbox\":[{\"marker\":{\"colorbar\":{\"outlinewidth\":0,\"ticks\":\"\"}},\"type\":\"scattermapbox\"}],\"scatterpolar\":[{\"marker\":{\"colorbar\":{\"outlinewidth\":0,\"ticks\":\"\"}},\"type\":\"scatterpolar\"}],\"scatterpolargl\":[{\"marker\":{\"colorbar\":{\"outlinewidth\":0,\"ticks\":\"\"}},\"type\":\"scatterpolargl\"}],\"scatterternary\":[{\"marker\":{\"colorbar\":{\"outlinewidth\":0,\"ticks\":\"\"}},\"type\":\"scatterternary\"}],\"surface\":[{\"colorbar\":{\"outlinewidth\":0,\"ticks\":\"\"},\"colorscale\":[[0.0,\"#0d0887\"],[0.1111111111111111,\"#46039f\"],[0.2222222222222222,\"#7201a8\"],[0.3333333333333333,\"#9c179e\"],[0.4444444444444444,\"#bd3786\"],[0.5555555555555556,\"#d8576b\"],[0.6666666666666666,\"#ed7953\"],[0.7777777777777778,\"#fb9f3a\"],[0.8888888888888888,\"#fdca26\"],[1.0,\"#f0f921\"]],\"type\":\"surface\"}],\"table\":[{\"cells\":{\"fill\":{\"color\":\"#EBF0F8\"},\"line\":{\"color\":\"white\"}},\"header\":{\"fill\":{\"color\":\"#C8D4E3\"},\"line\":{\"color\":\"white\"}},\"type\":\"table\"}]},\"layout\":{\"annotationdefaults\":{\"arrowcolor\":\"#2a3f5f\",\"arrowhead\":0,\"arrowwidth\":1},\"autotypenumbers\":\"strict\",\"coloraxis\":{\"colorbar\":{\"outlinewidth\":0,\"ticks\":\"\"}},\"colorscale\":{\"diverging\":[[0,\"#8e0152\"],[0.1,\"#c51b7d\"],[0.2,\"#de77ae\"],[0.3,\"#f1b6da\"],[0.4,\"#fde0ef\"],[0.5,\"#f7f7f7\"],[0.6,\"#e6f5d0\"],[0.7,\"#b8e186\"],[0.8,\"#7fbc41\"],[0.9,\"#4d9221\"],[1,\"#276419\"]],\"sequential\":[[0.0,\"#0d0887\"],[0.1111111111111111,\"#46039f\"],[0.2222222222222222,\"#7201a8\"],[0.3333333333333333,\"#9c179e\"],[0.4444444444444444,\"#bd3786\"],[0.5555555555555556,\"#d8576b\"],[0.6666666666666666,\"#ed7953\"],[0.7777777777777778,\"#fb9f3a\"],[0.8888888888888888,\"#fdca26\"],[1.0,\"#f0f921\"]],\"sequentialminus\":[[0.0,\"#0d0887\"],[0.1111111111111111,\"#46039f\"],[0.2222222222222222,\"#7201a8\"],[0.3333333333333333,\"#9c179e\"],[0.4444444444444444,\"#bd3786\"],[0.5555555555555556,\"#d8576b\"],[0.6666666666666666,\"#ed7953\"],[0.7777777777777778,\"#fb9f3a\"],[0.8888888888888888,\"#fdca26\"],[1.0,\"#f0f921\"]]},\"colorway\":[\"#636efa\",\"#EF553B\",\"#00cc96\",\"#ab63fa\",\"#FFA15A\",\"#19d3f3\",\"#FF6692\",\"#B6E880\",\"#FF97FF\",\"#FECB52\"],\"font\":{\"color\":\"#2a3f5f\"},\"geo\":{\"bgcolor\":\"white\",\"lakecolor\":\"white\",\"landcolor\":\"#E5ECF6\",\"showlakes\":true,\"showland\":true,\"subunitcolor\":\"white\"},\"hoverlabel\":{\"align\":\"left\"},\"hovermode\":\"closest\",\"mapbox\":{\"style\":\"light\"},\"paper_bgcolor\":\"white\",\"plot_bgcolor\":\"#E5ECF6\",\"polar\":{\"angularaxis\":{\"gridcolor\":\"white\",\"linecolor\":\"white\",\"ticks\":\"\"},\"bgcolor\":\"#E5ECF6\",\"radialaxis\":{\"gridcolor\":\"white\",\"linecolor\":\"white\",\"ticks\":\"\"}},\"scene\":{\"xaxis\":{\"backgroundcolor\":\"#E5ECF6\",\"gridcolor\":\"white\",\"gridwidth\":2,\"linecolor\":\"white\",\"showbackground\":true,\"ticks\":\"\",\"zerolinecolor\":\"white\"},\"yaxis\":{\"backgroundcolor\":\"#E5ECF6\",\"gridcolor\":\"white\",\"gridwidth\":2,\"linecolor\":\"white\",\"showbackground\":true,\"ticks\":\"\",\"zerolinecolor\":\"white\"},\"zaxis\":{\"backgroundcolor\":\"#E5ECF6\",\"gridcolor\":\"white\",\"gridwidth\":2,\"linecolor\":\"white\",\"showbackground\":true,\"ticks\":\"\",\"zerolinecolor\":\"white\"}},\"shapedefaults\":{\"line\":{\"color\":\"#2a3f5f\"}},\"ternary\":{\"aaxis\":{\"gridcolor\":\"white\",\"linecolor\":\"white\",\"ticks\":\"\"},\"baxis\":{\"gridcolor\":\"white\",\"linecolor\":\"white\",\"ticks\":\"\"},\"bgcolor\":\"#E5ECF6\",\"caxis\":{\"gridcolor\":\"white\",\"linecolor\":\"white\",\"ticks\":\"\"}},\"title\":{\"x\":0.05},\"xaxis\":{\"automargin\":true,\"gridcolor\":\"white\",\"linecolor\":\"white\",\"ticks\":\"\",\"title\":{\"standoff\":15},\"zerolinecolor\":\"white\",\"zerolinewidth\":2},\"yaxis\":{\"automargin\":true,\"gridcolor\":\"white\",\"linecolor\":\"white\",\"ticks\":\"\",\"title\":{\"standoff\":15},\"zerolinecolor\":\"white\",\"zerolinewidth\":2}}},\"title\":{\"text\":\"Average Precipitation in Different Seasons\",\"x\":0.5},\"xaxis\":{\"title\":{\"font\":{\"size\":16},\"standoff\":12,\"text\":\"Seasons\"}},\"yaxis\":{\"title\":{\"font\":{\"size\":16},\"standoff\":12,\"text\":\"Average Precipitation (mms)\"}}},                        {\"responsive\": true}                    ).then(function(){\n",
       "                            \n",
       "var gd = document.getElementById('21b25d43-f318-476b-8bc9-ae1e09a248be');\n",
       "var x = new MutationObserver(function (mutations, observer) {{\n",
       "        var display = window.getComputedStyle(gd).display;\n",
       "        if (!display || display === 'none') {{\n",
       "            console.log([gd, 'removed!']);\n",
       "            Plotly.purge(gd);\n",
       "            observer.disconnect();\n",
       "        }}\n",
       "}});\n",
       "\n",
       "// Listen for the removal of the full notebook cells\n",
       "var notebookContainer = gd.closest('#notebook-container');\n",
       "if (notebookContainer) {{\n",
       "    x.observe(notebookContainer, {childList: true});\n",
       "}}\n",
       "\n",
       "// Listen for the clearing of the current output cell\n",
       "var outputEl = gd.closest('.output');\n",
       "if (outputEl) {{\n",
       "    x.observe(outputEl, {childList: true});\n",
       "}}\n",
       "\n",
       "                        })                };                });            </script>        </div>"
      ]
     },
     "metadata": {},
     "output_type": "display_data"
    }
   ],
   "source": [
    "bar_ann = round(df_season['ANNUAL'].mean(), 2)\n",
    "bar_jf = round(df_season['JF'].mean(), 2)\n",
    "bar_mam = round(df_season['MAM'].mean(), 2)\n",
    "bar_jjas = round(df_season['JJAS'].mean(), 2)\n",
    "bar_ond = round(df_season['OND'].mean(), 2)\n",
    "\n",
    "x = ['Annual', 'Jan-Feb', 'Mar-May', 'Jun-Sep', 'Oct-Dec']\n",
    "y = [bar_ann, bar_jf, bar_mam, bar_jjas, bar_ond]\n",
    "\n",
    "fig = go.Figure(data=[go.Bar(x=x, y=y, text=y, textposition='auto',\n",
    "            hovertext=['Average Polarity', 'Average Polarity', 'Average Polarity', 'Average Polarity'])])\n",
    "\n",
    "fig.update_traces(marker_color='rgb(158,202,225)', marker_line_color='rgb(8,48,107)',\n",
    "                  marker_line_width=1.5, opacity=0.6)\n",
    "fig.update_layout(title_text=\"Average Precipitation in Different Seasons\", title_x=0.5)\n",
    "fig.update_xaxes(\n",
    "        title_text = \"Seasons\",\n",
    "        title_font = {\"size\": 16},\n",
    "        title_standoff = 12)\n",
    "fig.update_yaxes(\n",
    "        title_text = \"Average Precipitation (mms)\",\n",
    "        title_font = {\"size\": 16},\n",
    "        title_standoff = 12)\n",
    "fig.show()"
   ]
  },
  {
   "cell_type": "code",
   "execution_count": 42,
   "metadata": {},
   "outputs": [
    {
     "data": {
      "application/vnd.plotly.v1+json": {
       "config": {
        "plotlyServerURL": "https://plot.ly"
       },
       "data": [
        {
         "boxpoints": "all",
         "jitter": 0.4,
         "name": "Jan",
         "pointpos": -1.6,
         "type": "box",
         "y": [
          28.7,
          6.7,
          3.2,
          23.7,
          1.2,
          26.7,
          18.8,
          8,
          54.1,
          2.7,
          3,
          1.9,
          3.1,
          0.7,
          16.9,
          0,
          2.9,
          42.9,
          43,
          35.2,
          43,
          30.5,
          24.7,
          19.3,
          4.1,
          28.6,
          18.8,
          12.7,
          12.8,
          10.8,
          3.3,
          0.1,
          1,
          74.5,
          23.9,
          1.2,
          6.5,
          0.3,
          13.6,
          0.6,
          15.9,
          2.4,
          83.5,
          6.4,
          4.4,
          1.8,
          22.2,
          43,
          0.6,
          0.1,
          6.6,
          5.2,
          13.1,
          23.5,
          4.2,
          7.9,
          1.2,
          4.4,
          3,
          9.4,
          13.7,
          28.4,
          30.2,
          1.1,
          9.1,
          3,
          14.3,
          7.3,
          2.7,
          12.9,
          31.6,
          2.6,
          0,
          1.6,
          5.2,
          0.1,
          1.1,
          3.3,
          2.4,
          0,
          7,
          0.7,
          0.2,
          36.8,
          61.2,
          5.6,
          0.6,
          0.8,
          10.3,
          14.9,
          10.9,
          2.4,
          0,
          24.3,
          10.3,
          2.8,
          2.1,
          6,
          1.8,
          11.7,
          16.5,
          4.7,
          0.7,
          2.4,
          19.8,
          8.1,
          0.5,
          0.8,
          3.3,
          18.6,
          20.5,
          7.4,
          3.9,
          4.6,
          3.1,
          3,
          12.7
         ]
        },
        {
         "boxpoints": "all",
         "jitter": 0.4,
         "name": "Feb",
         "pointpos": -1.6,
         "type": "box",
         "y": [
          44.7,
          2.6,
          18.6,
          3,
          22.3,
          7.4,
          4.8,
          20.8,
          11.8,
          25.7,
          4.3,
          15,
          5.2,
          6.8,
          23.5,
          7.8,
          47.6,
          5,
          6.1,
          5.5,
          4.7,
          21.4,
          0.7,
          2.9,
          16.5,
          5.8,
          35.3,
          65.9,
          29.8,
          10.8,
          0.3,
          19.3,
          9.3,
          1.7,
          8.3,
          16.5,
          21.2,
          79,
          3.6,
          1.5,
          4.6,
          4.7,
          14.6,
          26.6,
          9.9,
          5.4,
          27.3,
          8.3,
          1.8,
          53.7,
          6.5,
          48.2,
          22.6,
          2.8,
          6.3,
          11.7,
          16,
          19.3,
          21.4,
          8.4,
          31.3,
          54.7,
          24.8,
          7.8,
          0.9,
          6.9,
          0.1,
          30.5,
          6.4,
          17.6,
          18.5,
          7.5,
          0.3,
          5.4,
          21.4,
          1.5,
          15.7,
          14.7,
          30,
          0.9,
          6.8,
          0.1,
          1.5,
          60,
          6.1,
          18.7,
          0.8,
          17.5,
          0,
          4.8,
          4.4,
          0.9,
          17.8,
          27.1,
          6.5,
          9.1,
          1.5,
          2.1,
          23.8,
          57.8,
          28.3,
          8.7,
          50.9,
          8.1,
          7,
          0.5,
          5.6,
          30.3,
          1.5,
          1,
          45.7,
          11,
          40.1,
          10.3,
          5.8,
          16.4,
          0.3
         ]
        },
        {
         "boxpoints": "all",
         "jitter": 0.4,
         "name": "Mar",
         "pointpos": -1.6,
         "type": "box",
         "y": [
          51.6,
          57.3,
          3.1,
          32.2,
          9.4,
          9.9,
          55.7,
          38.2,
          61.3,
          23.3,
          18.2,
          11.2,
          20.7,
          18.1,
          42.7,
          22,
          79.4,
          32.8,
          33.9,
          24.1,
          15,
          16.3,
          78.9,
          66.6,
          76.9,
          23.1,
          49.6,
          51.3,
          58.9,
          39,
          19.2,
          28.6,
          36.9,
          47.7,
          18.1,
          116,
          58.7,
          53.3,
          24.9,
          3.8,
          12.7,
          23.2,
          38.4,
          61.6,
          12.7,
          108.4,
          98,
          48.2,
          4.5,
          31.1,
          41.6,
          20.8,
          18.5,
          90.6,
          28.2,
          15.1,
          25.7,
          57.3,
          6.3,
          44.4,
          11.4,
          39.6,
          69.8,
          67.2,
          28.3,
          67.7,
          24.6,
          89.2,
          19.4,
          25.8,
          20,
          2.5,
          12.3,
          16,
          63.4,
          21,
          28.3,
          31.4,
          11.7,
          20.8,
          28.5,
          21.9,
          0.9,
          95.3,
          29.3,
          11.2,
          4.3,
          38.1,
          30.1,
          18,
          33.2,
          0.1,
          20.1,
          18.1,
          37.3,
          14.4,
          36.1,
          8.1,
          21.4,
          21.5,
          7,
          35.7,
          82.1,
          37.9,
          25.3,
          90.7,
          7.3,
          217.2,
          62.6,
          31.4,
          24.1,
          21,
          49.9,
          17.9,
          50.1,
          22.4,
          87.8
         ]
        },
        {
         "boxpoints": "all",
         "jitter": 0.4,
         "name": "Apr",
         "pointpos": -1.6,
         "type": "box",
         "y": [
          160,
          83.9,
          83.6,
          71.5,
          105.9,
          59.4,
          170.8,
          102.9,
          93.8,
          124.5,
          51,
          122.7,
          75.7,
          32.7,
          106,
          82.4,
          38.1,
          51.3,
          65.9,
          172,
          171.3,
          89.6,
          43.5,
          111,
          93.4,
          55.8,
          86.5,
          121.1,
          210.7,
          102.7,
          126.9,
          113,
          139.5,
          92.4,
          120.7,
          34,
          175.5,
          164.5,
          172.8,
          126.5,
          101.9,
          180.3,
          107.5,
          61.6,
          104.1,
          139.8,
          142.2,
          125,
          98.1,
          68.5,
          175.9,
          112.2,
          132.4,
          136.9,
          125.9,
          151.6,
          70.2,
          135.1,
          150.7,
          206.6,
          94.1,
          95.1,
          96.3,
          83.3,
          109.8,
          167.4,
          70.1,
          133.3,
          117.2,
          132.7,
          113,
          87.5,
          131.5,
          128,
          123.8,
          134.5,
          102.3,
          73.9,
          42,
          114.8,
          75.9,
          60.4,
          13.1,
          162.1,
          66.6,
          63.1,
          57.2,
          177.6,
          141.5,
          41.8,
          97,
          43,
          66.5,
          154.5,
          134.9,
          124.3,
          60.6,
          61.1,
          111.6,
          96.3,
          238,
          117.3,
          134.4,
          113.2,
          205.9,
          65.3,
          138.5,
          108.4,
          69,
          138.9,
          165.2,
          171.1,
          49.3,
          95.7,
          214.1,
          33.3,
          52.8
         ]
        },
        {
         "boxpoints": "all",
         "jitter": 0.4,
         "name": "May",
         "pointpos": -1.6,
         "type": "box",
         "y": [
          174.7,
          134.5,
          249.7,
          235.7,
          263.3,
          160.8,
          101.4,
          142.6,
          473.2,
          148.8,
          180.6,
          217.3,
          198.8,
          164.2,
          154.5,
          199,
          122.9,
          683,
          247,
          87.7,
          104.1,
          293.6,
          80,
          185.4,
          258.2,
          222.6,
          265.4,
          81.9,
          148,
          404.9,
          131.7,
          646.5,
          738.8,
          106.7,
          56.6,
          466.5,
          137.1,
          179.6,
          105.1,
          217.4,
          417.5,
          191.9,
          478.4,
          212.7,
          53.4,
          83,
          85.7,
          212.3,
          440,
          242,
          148.5,
          214.6,
          55.4,
          179.5,
          544.2,
          351.3,
          381.2,
          353.5,
          347.2,
          540,
          500.5,
          472.4,
          157.1,
          94.8,
          214.5,
          95.2,
          244.9,
          90,
          227.4,
          289.1,
          317.5,
          436,
          119.9,
          221.5,
          162.2,
          75.8,
          306.4,
          396.8,
          127.7,
          105.3,
          166.3,
          148.2,
          76,
          84.6,
          254.2,
          126.7,
          108.3,
          157.2,
          169.4,
          488.5,
          113.4,
          218.4,
          159,
          141.3,
          355.6,
          74.3,
          133.6,
          151.6,
          453.2,
          124.5,
          238.6,
          330.8,
          91,
          610.9,
          134.8,
          521.2,
          192.7,
          81.2,
          191.6,
          190.6,
          124.2,
          95.3,
          119.3,
          251,
          201.8,
          258.4,
          213.3
         ]
        },
        {
         "boxpoints": "all",
         "jitter": 0.4,
         "name": "Jun",
         "pointpos": -1.6,
         "type": "box",
         "y": [
          824.6,
          390.9,
          558.6,
          1098.2,
          850.2,
          414.9,
          770.9,
          592.6,
          704.7,
          680,
          990,
          948.2,
          541.7,
          565.3,
          696.1,
          920.2,
          703.7,
          464.3,
          636.8,
          964.3,
          489.1,
          663.1,
          722.5,
          1011.7,
          688.8,
          563.9,
          720.2,
          590.7,
          946.6,
          633.1,
          541.7,
          341,
          859.3,
          852.9,
          431.3,
          620.8,
          485.6,
          681.6,
          625.8,
          606.4,
          797.6,
          813.6,
          794.5,
          498.9,
          549.8,
          919,
          556.1,
          910.2,
          536.3,
          638.3,
          774.1,
          576.7,
          340.5,
          798.3,
          782.4,
          755.4,
          872,
          713.3,
          872.8,
          480.3,
          1005.2,
          244.9,
          393.3,
          379.4,
          597.7,
          496.2,
          541.7,
          696.4,
          550.5,
          535.3,
          889.6,
          401.8,
          617,
          266.9,
          864.4,
          196.8,
          599.6,
          758.1,
          582.9,
          745.9,
          912.4,
          612.2,
          322.8,
          842.6,
          828.7,
          597.9,
          572.6,
          511.3,
          657.5,
          528.6,
          1096.1,
          819.3,
          657.1,
          845,
          493.4,
          572.4,
          544.2,
          732.5,
          607.3,
          633.8,
          715.3,
          503.1,
          566.7,
          673.4,
          619.2,
          482.4,
          705.9,
          469.9,
          438.2,
          667.5,
          788.5,
          430.3,
          1042.7,
          454.4,
          563.6,
          595.7,
          579.8
         ]
        },
        {
         "boxpoints": "all",
         "jitter": 0.4,
         "name": "Jul",
         "pointpos": -1.6,
         "type": "box",
         "y": [
          743,
          1205,
          1022.5,
          725.5,
          520.5,
          954.2,
          760.4,
          902.2,
          782.3,
          484.1,
          705.3,
          833.6,
          763.2,
          857.7,
          775.6,
          513.9,
          342.7,
          167.5,
          648,
          940.8,
          639.8,
          1025.1,
          1008.7,
          1526.5,
          593.5,
          885.2,
          888.2,
          420.6,
          844,
          401.7,
          653.9,
          716.4,
          773.4,
          415,
          687.3,
          672.1,
          970.5,
          648.6,
          749.6,
          877.3,
          517.9,
          828.8,
          831.6,
          614.1,
          704,
          671.7,
          669.3,
          619,
          758.7,
          905.7,
          544.6,
          430,
          1027.6,
          640.5,
          392.8,
          466.8,
          835.3,
          622.7,
          1155.7,
          750.9,
          1146.5,
          951.1,
          720.2,
          754.2,
          465.1,
          601.9,
          741.4,
          1308.9,
          818.8,
          558.1,
          648.6,
          714.4,
          583.5,
          1004.2,
          531.3,
          641.5,
          753.3,
          686.7,
          662.2,
          754,
          489.8,
          511.5,
          583.2,
          653.6,
          388.9,
          324.8,
          221,
          502.8,
          450.7,
          635.4,
          905.5,
          767.8,
          776.1,
          955.5,
          702.5,
          696,
          970.5,
          641.4,
          700.4,
          343.2,
          598.5,
          318.7,
          532,
          385.4,
          832.7,
          804,
          966.3,
          505.1,
          924.9,
          629,
          536.8,
          362.6,
          830.2,
          677.8,
          406,
          441.5,
          378.5
         ]
        },
        {
         "boxpoints": "all",
         "jitter": 0.4,
         "name": "Aug",
         "pointpos": -1.6,
         "type": "box",
         "y": [
          357.5,
          315.8,
          420.2,
          351.8,
          293.6,
          442.8,
          981.5,
          352.9,
          258,
          473.8,
          178.6,
          534.4,
          247.2,
          402.2,
          298.8,
          396.9,
          335.1,
          376,
          484.2,
          235,
          641.9,
          320.6,
          943,
          624,
          554.1,
          536,
          315,
          553.2,
          293.9,
          273.4,
          1199.2,
          423.2,
          479.5,
          337.2,
          280.9,
          367.9,
          281.2,
          287.9,
          459.9,
          610.8,
          458.5,
          329.3,
          183.3,
          230.7,
          351.8,
          695.6,
          739.6,
          487.9,
          445.2,
          387.3,
          190.6,
          413.6,
          356.4,
          467,
          236,
          319.5,
          358.8,
          526.6,
          397.3,
          336.8,
          678.3,
          510.7,
          511,
          548,
          296.1,
          202.1,
          508.4,
          380.7,
          284.8,
          554.8,
          385.2,
          294.9,
          487.5,
          533.6,
          675.9,
          342.6,
          234.2,
          516.8,
          383.7,
          438.1,
          495.6,
          495,
          579.9,
          284.4,
          315.3,
          340.3,
          396.6,
          379.8,
          285.5,
          370.8,
          465.5,
          508,
          301.9,
          479.9,
          457.3,
          327.4,
          536,
          371.8,
          266.3,
          566.5,
          361.3,
          438.2,
          350.3,
          417.9,
          291,
          432.6,
          489.6,
          349,
          269.3,
          356,
          492.7,
          501.6,
          369.7,
          733.9,
          252.2,
          231,
          462.6
         ]
        },
        {
         "boxpoints": "all",
         "jitter": 0.4,
         "name": "Sep",
         "pointpos": -1.6,
         "type": "box",
         "y": [
          197.7,
          491.6,
          341.8,
          222.7,
          217.2,
          131.2,
          225,
          175.9,
          195.4,
          248.6,
          60.2,
          136.8,
          176.9,
          241,
          396.6,
          339.3,
          470.3,
          96.4,
          255.9,
          178,
          156.7,
          222.4,
          254.3,
          289.1,
          158.8,
          322.7,
          335.6,
          75.9,
          268.9,
          411.5,
          163.2,
          317.3,
          469.7,
          48.4,
          283.3,
          286.7,
          139.8,
          223.2,
          134.1,
          68.2,
          257.9,
          99.8,
          257.6,
          155,
          110.9,
          199.4,
          394.5,
          166.6,
          354.5,
          411.6,
          313.8,
          57.4,
          100.5,
          201.6,
          438.5,
          178.4,
          41.3,
          86.1,
          405.5,
          371.2,
          399.3,
          394.9,
          223.9,
          398.2,
          150.1,
          293.2,
          145.8,
          325.4,
          216.4,
          212.5,
          331.2,
          185.7,
          61.3,
          383.6,
          457.7,
          116.2,
          201.3,
          119.4,
          211.7,
          139.5,
          376.6,
          70.6,
          421.1,
          171.1,
          117.6,
          235.4,
          157,
          451.7,
          271.1,
          103.3,
          48.5,
          297.5,
          88,
          212.6,
          280,
          342.7,
          292.2,
          517.6,
          88,
          195.8,
          216.8,
          99,
          93.6,
          192.8,
          414.7,
          474.8,
          526.7,
          347,
          326.5,
          275.6,
          391.2,
          241.1,
          318.6,
          298.8,
          292.9,
          84.1,
          435.5
         ]
        },
        {
         "boxpoints": "all",
         "jitter": 0.4,
         "name": "Oct",
         "pointpos": -1.6,
         "type": "box",
         "y": [
          266.9,
          358.4,
          354.1,
          328.1,
          383.5,
          251.7,
          309.7,
          253.3,
          212.1,
          356.6,
          302.3,
          469.5,
          422.5,
          374.4,
          196.6,
          320.7,
          264.1,
          233.2,
          249.2,
          350.1,
          302.4,
          266.3,
          203.1,
          176.5,
          295.4,
          216.7,
          135.8,
          321.5,
          350.4,
          433.9,
          149.3,
          543.2,
          397,
          335.9,
          403.8,
          231.7,
          401.9,
          223.7,
          339.8,
          257.7,
          221.6,
          374.4,
          427.2,
          289,
          253.8,
          266.1,
          183.7,
          183.9,
          229.1,
          250.4,
          250.6,
          339.6,
          410.5,
          303.1,
          378.2,
          353.3,
          280.1,
          191,
          200.4,
          255.9,
          274.2,
          475.6,
          282.6,
          325.7,
          183.7,
          392.3,
          172.7,
          178.9,
          235.6,
          278.3,
          220.9,
          351.5,
          260.8,
          142.1,
          368.9,
          221.3,
          437,
          171,
          163.8,
          282.3,
          265,
          164.4,
          136.2,
          286,
          204,
          165.5,
          272.1,
          68.5,
          308,
          323.2,
          307.8,
          290.7,
          431.2,
          428.4,
          198.3,
          294.1,
          288.9,
          444.8,
          567.9,
          214.2,
          319.6,
          511.7,
          407,
          320.6,
          240.1,
          376.4,
          357.2,
          343.4,
          205.2,
          441.4,
          227.2,
          187.5,
          259.9,
          355.5,
          308.1,
          105.1,
          228
         ]
        },
        {
         "boxpoints": "all",
         "jitter": 0.4,
         "name": "Nov",
         "pointpos": -1.6,
         "type": "box",
         "y": [
          350.8,
          158.3,
          157,
          33.9,
          74.4,
          163.1,
          219.1,
          47.9,
          171.1,
          280.4,
          145.7,
          138.7,
          109.9,
          100.9,
          302.5,
          134.3,
          256.4,
          295.4,
          280.1,
          302.3,
          136.2,
          293.7,
          83.9,
          162.9,
          223.7,
          88.8,
          137.6,
          155.2,
          158.2,
          207,
          164.3,
          223.2,
          126.1,
          93.4,
          153,
          211.1,
          121,
          69.5,
          298.1,
          287.5,
          220.5,
          84.7,
          223.4,
          244.1,
          259.5,
          273,
          32.4,
          215.6,
          71.9,
          149.2,
          229.6,
          49.6,
          62.2,
          31.6,
          178.1,
          178.2,
          192.5,
          206.1,
          151.9,
          358,
          85.9,
          31.5,
          93.4,
          191.7,
          131.7,
          245.4,
          74,
          119.4,
          119.4,
          80.5,
          38.3,
          140.5,
          84.5,
          61,
          204.3,
          286.7,
          361.7,
          365.6,
          261.7,
          162.3,
          138.6,
          127.5,
          116.5,
          67.7,
          74.9,
          194.7,
          216,
          67,
          92.9,
          158.8,
          99.9,
          287.6,
          153.8,
          117.6,
          182.6,
          89.9,
          298.4,
          135,
          68.1,
          78.1,
          181,
          137.5,
          76.4,
          120.7,
          184.3,
          162.8,
          87.4,
          55.4,
          274.4,
          335.1,
          169.7,
          112.9,
          154.9,
          99.5,
          223.6,
          57.9,
          152.1
         ]
        },
        {
         "boxpoints": "all",
         "jitter": 0.4,
         "line": {
          "color": "#3D9970"
         },
         "marker": {
          "color": "#3D9970"
         },
         "name": "Dec",
         "pointpos": -1.6,
         "type": "box",
         "y": [
          48.4,
          121.5,
          59,
          3.3,
          0.2,
          86,
          52.8,
          11,
          32.3,
          0.1,
          87.6,
          22,
          45.8,
          135.2,
          14.9,
          8.9,
          41.6,
          54.1,
          53,
          8.2,
          15.8,
          25.1,
          41.6,
          50.4,
          98.8,
          16.2,
          6.8,
          52.7,
          39.4,
          89.2,
          106.5,
          31.3,
          42.3,
          4.9,
          30.9,
          18.6,
          19.1,
          22.9,
          10.2,
          60.1,
          84.6,
          117.9,
          24.3,
          89.2,
          18,
          202.3,
          47,
          19.2,
          1.8,
          8.8,
          23.2,
          66.9,
          5.1,
          62.5,
          19.8,
          9.1,
          28.9,
          7.7,
          34,
          23.7,
          17.5,
          76.9,
          48.4,
          17.8,
          155.5,
          50.5,
          31.1,
          32.7,
          66.3,
          5.7,
          62.3,
          114.3,
          53.8,
          3.6,
          19.9,
          30.8,
          6.7,
          39,
          23.3,
          39.5,
          43.3,
          10.8,
          69.1,
          18,
          44,
          9.5,
          131.1,
          31.1,
          5.6,
          5.2,
          2.3,
          3.7,
          46.2,
          6.5,
          0.1,
          62.5,
          88.4,
          79.4,
          4.9,
          69.1,
          10.1,
          2.1,
          9.7,
          2.7,
          56.4,
          1.8,
          11.9,
          17,
          44.2,
          46.8,
          49.5,
          9.4,
          17,
          47.2,
          79.4,
          22,
          61.4
         ]
        }
       ],
       "layout": {
        "template": {
         "data": {
          "bar": [
           {
            "error_x": {
             "color": "#2a3f5f"
            },
            "error_y": {
             "color": "#2a3f5f"
            },
            "marker": {
             "line": {
              "color": "#E5ECF6",
              "width": 0.5
             },
             "pattern": {
              "fillmode": "overlay",
              "size": 10,
              "solidity": 0.2
             }
            },
            "type": "bar"
           }
          ],
          "barpolar": [
           {
            "marker": {
             "line": {
              "color": "#E5ECF6",
              "width": 0.5
             },
             "pattern": {
              "fillmode": "overlay",
              "size": 10,
              "solidity": 0.2
             }
            },
            "type": "barpolar"
           }
          ],
          "carpet": [
           {
            "aaxis": {
             "endlinecolor": "#2a3f5f",
             "gridcolor": "white",
             "linecolor": "white",
             "minorgridcolor": "white",
             "startlinecolor": "#2a3f5f"
            },
            "baxis": {
             "endlinecolor": "#2a3f5f",
             "gridcolor": "white",
             "linecolor": "white",
             "minorgridcolor": "white",
             "startlinecolor": "#2a3f5f"
            },
            "type": "carpet"
           }
          ],
          "choropleth": [
           {
            "colorbar": {
             "outlinewidth": 0,
             "ticks": ""
            },
            "type": "choropleth"
           }
          ],
          "contour": [
           {
            "colorbar": {
             "outlinewidth": 0,
             "ticks": ""
            },
            "colorscale": [
             [
              0,
              "#0d0887"
             ],
             [
              0.1111111111111111,
              "#46039f"
             ],
             [
              0.2222222222222222,
              "#7201a8"
             ],
             [
              0.3333333333333333,
              "#9c179e"
             ],
             [
              0.4444444444444444,
              "#bd3786"
             ],
             [
              0.5555555555555556,
              "#d8576b"
             ],
             [
              0.6666666666666666,
              "#ed7953"
             ],
             [
              0.7777777777777778,
              "#fb9f3a"
             ],
             [
              0.8888888888888888,
              "#fdca26"
             ],
             [
              1,
              "#f0f921"
             ]
            ],
            "type": "contour"
           }
          ],
          "contourcarpet": [
           {
            "colorbar": {
             "outlinewidth": 0,
             "ticks": ""
            },
            "type": "contourcarpet"
           }
          ],
          "heatmap": [
           {
            "colorbar": {
             "outlinewidth": 0,
             "ticks": ""
            },
            "colorscale": [
             [
              0,
              "#0d0887"
             ],
             [
              0.1111111111111111,
              "#46039f"
             ],
             [
              0.2222222222222222,
              "#7201a8"
             ],
             [
              0.3333333333333333,
              "#9c179e"
             ],
             [
              0.4444444444444444,
              "#bd3786"
             ],
             [
              0.5555555555555556,
              "#d8576b"
             ],
             [
              0.6666666666666666,
              "#ed7953"
             ],
             [
              0.7777777777777778,
              "#fb9f3a"
             ],
             [
              0.8888888888888888,
              "#fdca26"
             ],
             [
              1,
              "#f0f921"
             ]
            ],
            "type": "heatmap"
           }
          ],
          "heatmapgl": [
           {
            "colorbar": {
             "outlinewidth": 0,
             "ticks": ""
            },
            "colorscale": [
             [
              0,
              "#0d0887"
             ],
             [
              0.1111111111111111,
              "#46039f"
             ],
             [
              0.2222222222222222,
              "#7201a8"
             ],
             [
              0.3333333333333333,
              "#9c179e"
             ],
             [
              0.4444444444444444,
              "#bd3786"
             ],
             [
              0.5555555555555556,
              "#d8576b"
             ],
             [
              0.6666666666666666,
              "#ed7953"
             ],
             [
              0.7777777777777778,
              "#fb9f3a"
             ],
             [
              0.8888888888888888,
              "#fdca26"
             ],
             [
              1,
              "#f0f921"
             ]
            ],
            "type": "heatmapgl"
           }
          ],
          "histogram": [
           {
            "marker": {
             "pattern": {
              "fillmode": "overlay",
              "size": 10,
              "solidity": 0.2
             }
            },
            "type": "histogram"
           }
          ],
          "histogram2d": [
           {
            "colorbar": {
             "outlinewidth": 0,
             "ticks": ""
            },
            "colorscale": [
             [
              0,
              "#0d0887"
             ],
             [
              0.1111111111111111,
              "#46039f"
             ],
             [
              0.2222222222222222,
              "#7201a8"
             ],
             [
              0.3333333333333333,
              "#9c179e"
             ],
             [
              0.4444444444444444,
              "#bd3786"
             ],
             [
              0.5555555555555556,
              "#d8576b"
             ],
             [
              0.6666666666666666,
              "#ed7953"
             ],
             [
              0.7777777777777778,
              "#fb9f3a"
             ],
             [
              0.8888888888888888,
              "#fdca26"
             ],
             [
              1,
              "#f0f921"
             ]
            ],
            "type": "histogram2d"
           }
          ],
          "histogram2dcontour": [
           {
            "colorbar": {
             "outlinewidth": 0,
             "ticks": ""
            },
            "colorscale": [
             [
              0,
              "#0d0887"
             ],
             [
              0.1111111111111111,
              "#46039f"
             ],
             [
              0.2222222222222222,
              "#7201a8"
             ],
             [
              0.3333333333333333,
              "#9c179e"
             ],
             [
              0.4444444444444444,
              "#bd3786"
             ],
             [
              0.5555555555555556,
              "#d8576b"
             ],
             [
              0.6666666666666666,
              "#ed7953"
             ],
             [
              0.7777777777777778,
              "#fb9f3a"
             ],
             [
              0.8888888888888888,
              "#fdca26"
             ],
             [
              1,
              "#f0f921"
             ]
            ],
            "type": "histogram2dcontour"
           }
          ],
          "mesh3d": [
           {
            "colorbar": {
             "outlinewidth": 0,
             "ticks": ""
            },
            "type": "mesh3d"
           }
          ],
          "parcoords": [
           {
            "line": {
             "colorbar": {
              "outlinewidth": 0,
              "ticks": ""
             }
            },
            "type": "parcoords"
           }
          ],
          "pie": [
           {
            "automargin": true,
            "type": "pie"
           }
          ],
          "scatter": [
           {
            "marker": {
             "colorbar": {
              "outlinewidth": 0,
              "ticks": ""
             }
            },
            "type": "scatter"
           }
          ],
          "scatter3d": [
           {
            "line": {
             "colorbar": {
              "outlinewidth": 0,
              "ticks": ""
             }
            },
            "marker": {
             "colorbar": {
              "outlinewidth": 0,
              "ticks": ""
             }
            },
            "type": "scatter3d"
           }
          ],
          "scattercarpet": [
           {
            "marker": {
             "colorbar": {
              "outlinewidth": 0,
              "ticks": ""
             }
            },
            "type": "scattercarpet"
           }
          ],
          "scattergeo": [
           {
            "marker": {
             "colorbar": {
              "outlinewidth": 0,
              "ticks": ""
             }
            },
            "type": "scattergeo"
           }
          ],
          "scattergl": [
           {
            "marker": {
             "colorbar": {
              "outlinewidth": 0,
              "ticks": ""
             }
            },
            "type": "scattergl"
           }
          ],
          "scattermapbox": [
           {
            "marker": {
             "colorbar": {
              "outlinewidth": 0,
              "ticks": ""
             }
            },
            "type": "scattermapbox"
           }
          ],
          "scatterpolar": [
           {
            "marker": {
             "colorbar": {
              "outlinewidth": 0,
              "ticks": ""
             }
            },
            "type": "scatterpolar"
           }
          ],
          "scatterpolargl": [
           {
            "marker": {
             "colorbar": {
              "outlinewidth": 0,
              "ticks": ""
             }
            },
            "type": "scatterpolargl"
           }
          ],
          "scatterternary": [
           {
            "marker": {
             "colorbar": {
              "outlinewidth": 0,
              "ticks": ""
             }
            },
            "type": "scatterternary"
           }
          ],
          "surface": [
           {
            "colorbar": {
             "outlinewidth": 0,
             "ticks": ""
            },
            "colorscale": [
             [
              0,
              "#0d0887"
             ],
             [
              0.1111111111111111,
              "#46039f"
             ],
             [
              0.2222222222222222,
              "#7201a8"
             ],
             [
              0.3333333333333333,
              "#9c179e"
             ],
             [
              0.4444444444444444,
              "#bd3786"
             ],
             [
              0.5555555555555556,
              "#d8576b"
             ],
             [
              0.6666666666666666,
              "#ed7953"
             ],
             [
              0.7777777777777778,
              "#fb9f3a"
             ],
             [
              0.8888888888888888,
              "#fdca26"
             ],
             [
              1,
              "#f0f921"
             ]
            ],
            "type": "surface"
           }
          ],
          "table": [
           {
            "cells": {
             "fill": {
              "color": "#EBF0F8"
             },
             "line": {
              "color": "white"
             }
            },
            "header": {
             "fill": {
              "color": "#C8D4E3"
             },
             "line": {
              "color": "white"
             }
            },
            "type": "table"
           }
          ]
         },
         "layout": {
          "annotationdefaults": {
           "arrowcolor": "#2a3f5f",
           "arrowhead": 0,
           "arrowwidth": 1
          },
          "autotypenumbers": "strict",
          "coloraxis": {
           "colorbar": {
            "outlinewidth": 0,
            "ticks": ""
           }
          },
          "colorscale": {
           "diverging": [
            [
             0,
             "#8e0152"
            ],
            [
             0.1,
             "#c51b7d"
            ],
            [
             0.2,
             "#de77ae"
            ],
            [
             0.3,
             "#f1b6da"
            ],
            [
             0.4,
             "#fde0ef"
            ],
            [
             0.5,
             "#f7f7f7"
            ],
            [
             0.6,
             "#e6f5d0"
            ],
            [
             0.7,
             "#b8e186"
            ],
            [
             0.8,
             "#7fbc41"
            ],
            [
             0.9,
             "#4d9221"
            ],
            [
             1,
             "#276419"
            ]
           ],
           "sequential": [
            [
             0,
             "#0d0887"
            ],
            [
             0.1111111111111111,
             "#46039f"
            ],
            [
             0.2222222222222222,
             "#7201a8"
            ],
            [
             0.3333333333333333,
             "#9c179e"
            ],
            [
             0.4444444444444444,
             "#bd3786"
            ],
            [
             0.5555555555555556,
             "#d8576b"
            ],
            [
             0.6666666666666666,
             "#ed7953"
            ],
            [
             0.7777777777777778,
             "#fb9f3a"
            ],
            [
             0.8888888888888888,
             "#fdca26"
            ],
            [
             1,
             "#f0f921"
            ]
           ],
           "sequentialminus": [
            [
             0,
             "#0d0887"
            ],
            [
             0.1111111111111111,
             "#46039f"
            ],
            [
             0.2222222222222222,
             "#7201a8"
            ],
            [
             0.3333333333333333,
             "#9c179e"
            ],
            [
             0.4444444444444444,
             "#bd3786"
            ],
            [
             0.5555555555555556,
             "#d8576b"
            ],
            [
             0.6666666666666666,
             "#ed7953"
            ],
            [
             0.7777777777777778,
             "#fb9f3a"
            ],
            [
             0.8888888888888888,
             "#fdca26"
            ],
            [
             1,
             "#f0f921"
            ]
           ]
          },
          "colorway": [
           "#636efa",
           "#EF553B",
           "#00cc96",
           "#ab63fa",
           "#FFA15A",
           "#19d3f3",
           "#FF6692",
           "#B6E880",
           "#FF97FF",
           "#FECB52"
          ],
          "font": {
           "color": "#2a3f5f"
          },
          "geo": {
           "bgcolor": "white",
           "lakecolor": "white",
           "landcolor": "#E5ECF6",
           "showlakes": true,
           "showland": true,
           "subunitcolor": "white"
          },
          "hoverlabel": {
           "align": "left"
          },
          "hovermode": "closest",
          "mapbox": {
           "style": "light"
          },
          "paper_bgcolor": "white",
          "plot_bgcolor": "#E5ECF6",
          "polar": {
           "angularaxis": {
            "gridcolor": "white",
            "linecolor": "white",
            "ticks": ""
           },
           "bgcolor": "#E5ECF6",
           "radialaxis": {
            "gridcolor": "white",
            "linecolor": "white",
            "ticks": ""
           }
          },
          "scene": {
           "xaxis": {
            "backgroundcolor": "#E5ECF6",
            "gridcolor": "white",
            "gridwidth": 2,
            "linecolor": "white",
            "showbackground": true,
            "ticks": "",
            "zerolinecolor": "white"
           },
           "yaxis": {
            "backgroundcolor": "#E5ECF6",
            "gridcolor": "white",
            "gridwidth": 2,
            "linecolor": "white",
            "showbackground": true,
            "ticks": "",
            "zerolinecolor": "white"
           },
           "zaxis": {
            "backgroundcolor": "#E5ECF6",
            "gridcolor": "white",
            "gridwidth": 2,
            "linecolor": "white",
            "showbackground": true,
            "ticks": "",
            "zerolinecolor": "white"
           }
          },
          "shapedefaults": {
           "line": {
            "color": "#2a3f5f"
           }
          },
          "ternary": {
           "aaxis": {
            "gridcolor": "white",
            "linecolor": "white",
            "ticks": ""
           },
           "baxis": {
            "gridcolor": "white",
            "linecolor": "white",
            "ticks": ""
           },
           "bgcolor": "#E5ECF6",
           "caxis": {
            "gridcolor": "white",
            "linecolor": "white",
            "ticks": ""
           }
          },
          "title": {
           "x": 0.05
          },
          "xaxis": {
           "automargin": true,
           "gridcolor": "white",
           "linecolor": "white",
           "ticks": "",
           "title": {
            "standoff": 15
           },
           "zerolinecolor": "white",
           "zerolinewidth": 2
          },
          "yaxis": {
           "automargin": true,
           "gridcolor": "white",
           "linecolor": "white",
           "ticks": "",
           "title": {
            "standoff": 15
           },
           "zerolinecolor": "white",
           "zerolinewidth": 2
          }
         }
        },
        "title": {
         "text": "Monthly Precipitation",
         "x": 0.5
        },
        "xaxis": {
         "title": {
          "font": {
           "size": 16
          },
          "standoff": 12,
          "text": "Month"
         }
        },
        "yaxis": {
         "title": {
          "font": {
           "size": 16
          },
          "standoff": 12,
          "text": "Precipitation (mms)"
         }
        }
       }
      },
      "text/html": [
       "<div>                            <div id=\"678e2c84-15c5-4293-be11-22361a362b81\" class=\"plotly-graph-div\" style=\"height:525px; width:100%;\"></div>            <script type=\"text/javascript\">                require([\"plotly\"], function(Plotly) {                    window.PLOTLYENV=window.PLOTLYENV || {};                                    if (document.getElementById(\"678e2c84-15c5-4293-be11-22361a362b81\")) {                    Plotly.newPlot(                        \"678e2c84-15c5-4293-be11-22361a362b81\",                        [{\"boxpoints\":\"all\",\"jitter\":0.4,\"name\":\"Jan\",\"pointpos\":-1.6,\"type\":\"box\",\"y\":[28.7,6.7,3.2,23.7,1.2,26.7,18.8,8.0,54.1,2.7,3.0,1.9,3.1,0.7,16.9,0.0,2.9,42.9,43.0,35.2,43.0,30.5,24.7,19.3,4.1,28.6,18.8,12.7,12.8,10.8,3.3,0.1,1.0,74.5,23.9,1.2,6.5,0.3,13.6,0.6,15.9,2.4,83.5,6.4,4.4,1.8,22.2,43.0,0.6,0.1,6.6,5.2,13.1,23.5,4.2,7.9,1.2,4.4,3.0,9.4,13.7,28.4,30.2,1.1,9.1,3.0,14.3,7.3,2.7,12.9,31.6,2.6,0.0,1.6,5.2,0.1,1.1,3.3,2.4,0.0,7.0,0.7,0.2,36.8,61.2,5.6,0.6,0.8,10.3,14.9,10.9,2.4,0.0,24.3,10.3,2.8,2.1,6.0,1.8,11.7,16.5,4.7,0.7,2.4,19.8,8.1,0.5,0.8,3.3,18.6,20.5,7.4,3.9,4.6,3.1,3.0,12.7]},{\"boxpoints\":\"all\",\"jitter\":0.4,\"name\":\"Feb\",\"pointpos\":-1.6,\"type\":\"box\",\"y\":[44.7,2.6,18.6,3.0,22.3,7.4,4.8,20.8,11.8,25.7,4.3,15.0,5.2,6.8,23.5,7.8,47.6,5.0,6.1,5.5,4.7,21.4,0.7,2.9,16.5,5.8,35.3,65.9,29.8,10.8,0.3,19.3,9.3,1.7,8.3,16.5,21.2,79.0,3.6,1.5,4.6,4.7,14.6,26.6,9.9,5.4,27.3,8.3,1.8,53.7,6.5,48.2,22.6,2.8,6.3,11.7,16.0,19.3,21.4,8.4,31.3,54.7,24.8,7.8,0.9,6.9,0.1,30.5,6.4,17.6,18.5,7.5,0.3,5.4,21.4,1.5,15.7,14.7,30.0,0.9,6.8,0.1,1.5,60.0,6.1,18.7,0.8,17.5,0.0,4.8,4.4,0.9,17.8,27.1,6.5,9.1,1.5,2.1,23.8,57.8,28.3,8.7,50.9,8.1,7.0,0.5,5.6,30.3,1.5,1.0,45.7,11.0,40.1,10.3,5.8,16.4,0.3]},{\"boxpoints\":\"all\",\"jitter\":0.4,\"name\":\"Mar\",\"pointpos\":-1.6,\"type\":\"box\",\"y\":[51.6,57.3,3.1,32.2,9.4,9.9,55.7,38.2,61.3,23.3,18.2,11.2,20.7,18.1,42.7,22.0,79.4,32.8,33.9,24.1,15.0,16.3,78.9,66.6,76.9,23.1,49.6,51.3,58.9,39.0,19.2,28.6,36.9,47.7,18.1,116.0,58.7,53.3,24.9,3.8,12.7,23.2,38.4,61.6,12.7,108.4,98.0,48.2,4.5,31.1,41.6,20.8,18.5,90.6,28.2,15.1,25.7,57.3,6.3,44.4,11.4,39.6,69.8,67.2,28.3,67.7,24.6,89.2,19.4,25.8,20.0,2.5,12.3,16.0,63.4,21.0,28.3,31.4,11.7,20.8,28.5,21.9,0.9,95.3,29.3,11.2,4.3,38.1,30.1,18.0,33.2,0.1,20.1,18.1,37.3,14.4,36.1,8.1,21.4,21.5,7.0,35.7,82.1,37.9,25.3,90.7,7.3,217.2,62.6,31.4,24.1,21.0,49.9,17.9,50.1,22.4,87.8]},{\"boxpoints\":\"all\",\"jitter\":0.4,\"name\":\"Apr\",\"pointpos\":-1.6,\"type\":\"box\",\"y\":[160.0,83.9,83.6,71.5,105.9,59.4,170.8,102.9,93.8,124.5,51.0,122.7,75.7,32.7,106.0,82.4,38.1,51.3,65.9,172.0,171.3,89.6,43.5,111.0,93.4,55.8,86.5,121.1,210.7,102.7,126.9,113.0,139.5,92.4,120.7,34.0,175.5,164.5,172.8,126.5,101.9,180.3,107.5,61.6,104.1,139.8,142.2,125.0,98.1,68.5,175.9,112.2,132.4,136.9,125.9,151.6,70.2,135.1,150.7,206.6,94.1,95.1,96.3,83.3,109.8,167.4,70.1,133.3,117.2,132.7,113.0,87.5,131.5,128.0,123.8,134.5,102.3,73.9,42.0,114.8,75.9,60.4,13.1,162.1,66.6,63.1,57.2,177.6,141.5,41.8,97.0,43.0,66.5,154.5,134.9,124.3,60.6,61.1,111.6,96.3,238.0,117.3,134.4,113.2,205.9,65.3,138.5,108.4,69.0,138.9,165.2,171.1,49.3,95.7,214.1,33.3,52.8]},{\"boxpoints\":\"all\",\"jitter\":0.4,\"name\":\"May\",\"pointpos\":-1.6,\"type\":\"box\",\"y\":[174.7,134.5,249.7,235.7,263.3,160.8,101.4,142.6,473.2,148.8,180.6,217.3,198.8,164.2,154.5,199.0,122.9,683.0,247.0,87.7,104.1,293.6,80.0,185.4,258.2,222.6,265.4,81.9,148.0,404.9,131.7,646.5,738.8,106.7,56.6,466.5,137.1,179.6,105.1,217.4,417.5,191.9,478.4,212.7,53.4,83.0,85.7,212.3,440.0,242.0,148.5,214.6,55.4,179.5,544.2,351.3,381.2,353.5,347.2,540.0,500.5,472.4,157.1,94.8,214.5,95.2,244.9,90.0,227.4,289.1,317.5,436.0,119.9,221.5,162.2,75.8,306.4,396.8,127.7,105.3,166.3,148.2,76.0,84.6,254.2,126.7,108.3,157.2,169.4,488.5,113.4,218.4,159.0,141.3,355.6,74.3,133.6,151.6,453.2,124.5,238.6,330.8,91.0,610.9,134.8,521.2,192.7,81.2,191.6,190.6,124.2,95.3,119.3,251.0,201.8,258.4,213.3]},{\"boxpoints\":\"all\",\"jitter\":0.4,\"name\":\"Jun\",\"pointpos\":-1.6,\"type\":\"box\",\"y\":[824.6,390.9,558.6,1098.2,850.2,414.9,770.9,592.6,704.7,680.0,990.0,948.2,541.7,565.3,696.1,920.2,703.7,464.3,636.8,964.3,489.1,663.1,722.5,1011.7,688.8,563.9,720.2,590.7,946.6,633.1,541.7,341.0,859.3,852.9,431.3,620.8,485.6,681.6,625.8,606.4,797.6,813.6,794.5,498.9,549.8,919.0,556.1,910.2,536.3,638.3,774.1,576.7,340.5,798.3,782.4,755.4,872.0,713.3,872.8,480.3,1005.2,244.9,393.3,379.4,597.7,496.2,541.7,696.4,550.5,535.3,889.6,401.8,617.0,266.9,864.4,196.8,599.6,758.1,582.9,745.9,912.4,612.2,322.8,842.6,828.7,597.9,572.6,511.3,657.5,528.6,1096.1,819.3,657.1,845.0,493.4,572.4,544.2,732.5,607.3,633.8,715.3,503.1,566.7,673.4,619.2,482.4,705.9,469.9,438.2,667.5,788.5,430.3,1042.7,454.4,563.6,595.7,579.8]},{\"boxpoints\":\"all\",\"jitter\":0.4,\"name\":\"Jul\",\"pointpos\":-1.6,\"type\":\"box\",\"y\":[743.0,1205.0,1022.5,725.5,520.5,954.2,760.4,902.2,782.3,484.1,705.3,833.6,763.2,857.7,775.6,513.9,342.7,167.5,648.0,940.8,639.8,1025.1,1008.7,1526.5,593.5,885.2,888.2,420.6,844.0,401.7,653.9,716.4,773.4,415.0,687.3,672.1,970.5,648.6,749.6,877.3,517.9,828.8,831.6,614.1,704.0,671.7,669.3,619.0,758.7,905.7,544.6,430.0,1027.6,640.5,392.8,466.8,835.3,622.7,1155.7,750.9,1146.5,951.1,720.2,754.2,465.1,601.9,741.4,1308.9,818.8,558.1,648.6,714.4,583.5,1004.2,531.3,641.5,753.3,686.7,662.2,754.0,489.8,511.5,583.2,653.6,388.9,324.8,221.0,502.8,450.7,635.4,905.5,767.8,776.1,955.5,702.5,696.0,970.5,641.4,700.4,343.2,598.5,318.7,532.0,385.4,832.7,804.0,966.3,505.1,924.9,629.0,536.8,362.6,830.2,677.8,406.0,441.5,378.5]},{\"boxpoints\":\"all\",\"jitter\":0.4,\"name\":\"Aug\",\"pointpos\":-1.6,\"type\":\"box\",\"y\":[357.5,315.8,420.2,351.8,293.6,442.8,981.5,352.9,258.0,473.8,178.6,534.4,247.2,402.2,298.8,396.9,335.1,376.0,484.2,235.0,641.9,320.6,943.0,624.0,554.1,536.0,315.0,553.2,293.9,273.4,1199.2,423.2,479.5,337.2,280.9,367.9,281.2,287.9,459.9,610.8,458.5,329.3,183.3,230.7,351.8,695.6,739.6,487.9,445.2,387.3,190.6,413.6,356.4,467.0,236.0,319.5,358.8,526.6,397.3,336.8,678.3,510.7,511.0,548.0,296.1,202.1,508.4,380.7,284.8,554.8,385.2,294.9,487.5,533.6,675.9,342.6,234.2,516.8,383.7,438.1,495.6,495.0,579.9,284.4,315.3,340.3,396.6,379.8,285.5,370.8,465.5,508.0,301.9,479.9,457.3,327.4,536.0,371.8,266.3,566.5,361.3,438.2,350.3,417.9,291.0,432.6,489.6,349.0,269.3,356.0,492.7,501.6,369.7,733.9,252.2,231.0,462.6]},{\"boxpoints\":\"all\",\"jitter\":0.4,\"name\":\"Sep\",\"pointpos\":-1.6,\"type\":\"box\",\"y\":[197.7,491.6,341.8,222.7,217.2,131.2,225.0,175.9,195.4,248.6,60.2,136.8,176.9,241.0,396.6,339.3,470.3,96.4,255.9,178.0,156.7,222.4,254.3,289.1,158.8,322.7,335.6,75.9,268.9,411.5,163.2,317.3,469.7,48.4,283.3,286.7,139.8,223.2,134.1,68.2,257.9,99.8,257.6,155.0,110.9,199.4,394.5,166.6,354.5,411.6,313.8,57.4,100.5,201.6,438.5,178.4,41.3,86.1,405.5,371.2,399.3,394.9,223.9,398.2,150.1,293.2,145.8,325.4,216.4,212.5,331.2,185.7,61.3,383.6,457.7,116.2,201.3,119.4,211.7,139.5,376.6,70.6,421.1,171.1,117.6,235.4,157.0,451.7,271.1,103.3,48.5,297.5,88.0,212.6,280.0,342.7,292.2,517.6,88.0,195.8,216.8,99.0,93.6,192.8,414.7,474.8,526.7,347.0,326.5,275.6,391.2,241.1,318.6,298.8,292.9,84.1,435.5]},{\"boxpoints\":\"all\",\"jitter\":0.4,\"name\":\"Oct\",\"pointpos\":-1.6,\"type\":\"box\",\"y\":[266.9,358.4,354.1,328.1,383.5,251.7,309.7,253.3,212.1,356.6,302.3,469.5,422.5,374.4,196.6,320.7,264.1,233.2,249.2,350.1,302.4,266.3,203.1,176.5,295.4,216.7,135.8,321.5,350.4,433.9,149.3,543.2,397.0,335.9,403.8,231.7,401.9,223.7,339.8,257.7,221.6,374.4,427.2,289.0,253.8,266.1,183.7,183.9,229.1,250.4,250.6,339.6,410.5,303.1,378.2,353.3,280.1,191.0,200.4,255.9,274.2,475.6,282.6,325.7,183.7,392.3,172.7,178.9,235.6,278.3,220.9,351.5,260.8,142.1,368.9,221.3,437.0,171.0,163.8,282.3,265.0,164.4,136.2,286.0,204.0,165.5,272.1,68.5,308.0,323.2,307.8,290.7,431.2,428.4,198.3,294.1,288.9,444.8,567.9,214.2,319.6,511.7,407.0,320.6,240.1,376.4,357.2,343.4,205.2,441.4,227.2,187.5,259.9,355.5,308.1,105.1,228.0]},{\"boxpoints\":\"all\",\"jitter\":0.4,\"name\":\"Nov\",\"pointpos\":-1.6,\"type\":\"box\",\"y\":[350.8,158.3,157.0,33.9,74.4,163.1,219.1,47.9,171.1,280.4,145.7,138.7,109.9,100.9,302.5,134.3,256.4,295.4,280.1,302.3,136.2,293.7,83.9,162.9,223.7,88.8,137.6,155.2,158.2,207.0,164.3,223.2,126.1,93.4,153.0,211.1,121.0,69.5,298.1,287.5,220.5,84.7,223.4,244.1,259.5,273.0,32.4,215.6,71.9,149.2,229.6,49.6,62.2,31.6,178.1,178.2,192.5,206.1,151.9,358.0,85.9,31.5,93.4,191.7,131.7,245.4,74.0,119.4,119.4,80.5,38.3,140.5,84.5,61.0,204.3,286.7,361.7,365.6,261.7,162.3,138.6,127.5,116.5,67.7,74.9,194.7,216.0,67.0,92.9,158.8,99.9,287.6,153.8,117.6,182.6,89.9,298.4,135.0,68.1,78.1,181.0,137.5,76.4,120.7,184.3,162.8,87.4,55.4,274.4,335.1,169.7,112.9,154.9,99.5,223.6,57.9,152.1]},{\"boxpoints\":\"all\",\"jitter\":0.4,\"line\":{\"color\":\"#3D9970\"},\"marker\":{\"color\":\"#3D9970\"},\"name\":\"Dec\",\"pointpos\":-1.6,\"type\":\"box\",\"y\":[48.4,121.5,59.0,3.3,0.2,86.0,52.8,11.0,32.3,0.1,87.6,22.0,45.8,135.2,14.9,8.9,41.6,54.1,53.0,8.2,15.8,25.1,41.6,50.4,98.8,16.2,6.8,52.7,39.4,89.2,106.5,31.3,42.3,4.9,30.9,18.6,19.1,22.9,10.2,60.1,84.6,117.9,24.3,89.2,18.0,202.3,47.0,19.2,1.8,8.8,23.2,66.9,5.1,62.5,19.8,9.1,28.9,7.7,34.0,23.7,17.5,76.9,48.4,17.8,155.5,50.5,31.1,32.7,66.3,5.7,62.3,114.3,53.8,3.6,19.9,30.8,6.7,39.0,23.3,39.5,43.3,10.8,69.1,18.0,44.0,9.5,131.1,31.1,5.6,5.2,2.3,3.7,46.2,6.5,0.1,62.5,88.4,79.4,4.9,69.1,10.1,2.1,9.7,2.7,56.4,1.8,11.9,17.0,44.2,46.8,49.5,9.4,17.0,47.2,79.4,22.0,61.4]}],                        {\"template\":{\"data\":{\"bar\":[{\"error_x\":{\"color\":\"#2a3f5f\"},\"error_y\":{\"color\":\"#2a3f5f\"},\"marker\":{\"line\":{\"color\":\"#E5ECF6\",\"width\":0.5},\"pattern\":{\"fillmode\":\"overlay\",\"size\":10,\"solidity\":0.2}},\"type\":\"bar\"}],\"barpolar\":[{\"marker\":{\"line\":{\"color\":\"#E5ECF6\",\"width\":0.5},\"pattern\":{\"fillmode\":\"overlay\",\"size\":10,\"solidity\":0.2}},\"type\":\"barpolar\"}],\"carpet\":[{\"aaxis\":{\"endlinecolor\":\"#2a3f5f\",\"gridcolor\":\"white\",\"linecolor\":\"white\",\"minorgridcolor\":\"white\",\"startlinecolor\":\"#2a3f5f\"},\"baxis\":{\"endlinecolor\":\"#2a3f5f\",\"gridcolor\":\"white\",\"linecolor\":\"white\",\"minorgridcolor\":\"white\",\"startlinecolor\":\"#2a3f5f\"},\"type\":\"carpet\"}],\"choropleth\":[{\"colorbar\":{\"outlinewidth\":0,\"ticks\":\"\"},\"type\":\"choropleth\"}],\"contour\":[{\"colorbar\":{\"outlinewidth\":0,\"ticks\":\"\"},\"colorscale\":[[0.0,\"#0d0887\"],[0.1111111111111111,\"#46039f\"],[0.2222222222222222,\"#7201a8\"],[0.3333333333333333,\"#9c179e\"],[0.4444444444444444,\"#bd3786\"],[0.5555555555555556,\"#d8576b\"],[0.6666666666666666,\"#ed7953\"],[0.7777777777777778,\"#fb9f3a\"],[0.8888888888888888,\"#fdca26\"],[1.0,\"#f0f921\"]],\"type\":\"contour\"}],\"contourcarpet\":[{\"colorbar\":{\"outlinewidth\":0,\"ticks\":\"\"},\"type\":\"contourcarpet\"}],\"heatmap\":[{\"colorbar\":{\"outlinewidth\":0,\"ticks\":\"\"},\"colorscale\":[[0.0,\"#0d0887\"],[0.1111111111111111,\"#46039f\"],[0.2222222222222222,\"#7201a8\"],[0.3333333333333333,\"#9c179e\"],[0.4444444444444444,\"#bd3786\"],[0.5555555555555556,\"#d8576b\"],[0.6666666666666666,\"#ed7953\"],[0.7777777777777778,\"#fb9f3a\"],[0.8888888888888888,\"#fdca26\"],[1.0,\"#f0f921\"]],\"type\":\"heatmap\"}],\"heatmapgl\":[{\"colorbar\":{\"outlinewidth\":0,\"ticks\":\"\"},\"colorscale\":[[0.0,\"#0d0887\"],[0.1111111111111111,\"#46039f\"],[0.2222222222222222,\"#7201a8\"],[0.3333333333333333,\"#9c179e\"],[0.4444444444444444,\"#bd3786\"],[0.5555555555555556,\"#d8576b\"],[0.6666666666666666,\"#ed7953\"],[0.7777777777777778,\"#fb9f3a\"],[0.8888888888888888,\"#fdca26\"],[1.0,\"#f0f921\"]],\"type\":\"heatmapgl\"}],\"histogram\":[{\"marker\":{\"pattern\":{\"fillmode\":\"overlay\",\"size\":10,\"solidity\":0.2}},\"type\":\"histogram\"}],\"histogram2d\":[{\"colorbar\":{\"outlinewidth\":0,\"ticks\":\"\"},\"colorscale\":[[0.0,\"#0d0887\"],[0.1111111111111111,\"#46039f\"],[0.2222222222222222,\"#7201a8\"],[0.3333333333333333,\"#9c179e\"],[0.4444444444444444,\"#bd3786\"],[0.5555555555555556,\"#d8576b\"],[0.6666666666666666,\"#ed7953\"],[0.7777777777777778,\"#fb9f3a\"],[0.8888888888888888,\"#fdca26\"],[1.0,\"#f0f921\"]],\"type\":\"histogram2d\"}],\"histogram2dcontour\":[{\"colorbar\":{\"outlinewidth\":0,\"ticks\":\"\"},\"colorscale\":[[0.0,\"#0d0887\"],[0.1111111111111111,\"#46039f\"],[0.2222222222222222,\"#7201a8\"],[0.3333333333333333,\"#9c179e\"],[0.4444444444444444,\"#bd3786\"],[0.5555555555555556,\"#d8576b\"],[0.6666666666666666,\"#ed7953\"],[0.7777777777777778,\"#fb9f3a\"],[0.8888888888888888,\"#fdca26\"],[1.0,\"#f0f921\"]],\"type\":\"histogram2dcontour\"}],\"mesh3d\":[{\"colorbar\":{\"outlinewidth\":0,\"ticks\":\"\"},\"type\":\"mesh3d\"}],\"parcoords\":[{\"line\":{\"colorbar\":{\"outlinewidth\":0,\"ticks\":\"\"}},\"type\":\"parcoords\"}],\"pie\":[{\"automargin\":true,\"type\":\"pie\"}],\"scatter\":[{\"marker\":{\"colorbar\":{\"outlinewidth\":0,\"ticks\":\"\"}},\"type\":\"scatter\"}],\"scatter3d\":[{\"line\":{\"colorbar\":{\"outlinewidth\":0,\"ticks\":\"\"}},\"marker\":{\"colorbar\":{\"outlinewidth\":0,\"ticks\":\"\"}},\"type\":\"scatter3d\"}],\"scattercarpet\":[{\"marker\":{\"colorbar\":{\"outlinewidth\":0,\"ticks\":\"\"}},\"type\":\"scattercarpet\"}],\"scattergeo\":[{\"marker\":{\"colorbar\":{\"outlinewidth\":0,\"ticks\":\"\"}},\"type\":\"scattergeo\"}],\"scattergl\":[{\"marker\":{\"colorbar\":{\"outlinewidth\":0,\"ticks\":\"\"}},\"type\":\"scattergl\"}],\"scattermapbox\":[{\"marker\":{\"colorbar\":{\"outlinewidth\":0,\"ticks\":\"\"}},\"type\":\"scattermapbox\"}],\"scatterpolar\":[{\"marker\":{\"colorbar\":{\"outlinewidth\":0,\"ticks\":\"\"}},\"type\":\"scatterpolar\"}],\"scatterpolargl\":[{\"marker\":{\"colorbar\":{\"outlinewidth\":0,\"ticks\":\"\"}},\"type\":\"scatterpolargl\"}],\"scatterternary\":[{\"marker\":{\"colorbar\":{\"outlinewidth\":0,\"ticks\":\"\"}},\"type\":\"scatterternary\"}],\"surface\":[{\"colorbar\":{\"outlinewidth\":0,\"ticks\":\"\"},\"colorscale\":[[0.0,\"#0d0887\"],[0.1111111111111111,\"#46039f\"],[0.2222222222222222,\"#7201a8\"],[0.3333333333333333,\"#9c179e\"],[0.4444444444444444,\"#bd3786\"],[0.5555555555555556,\"#d8576b\"],[0.6666666666666666,\"#ed7953\"],[0.7777777777777778,\"#fb9f3a\"],[0.8888888888888888,\"#fdca26\"],[1.0,\"#f0f921\"]],\"type\":\"surface\"}],\"table\":[{\"cells\":{\"fill\":{\"color\":\"#EBF0F8\"},\"line\":{\"color\":\"white\"}},\"header\":{\"fill\":{\"color\":\"#C8D4E3\"},\"line\":{\"color\":\"white\"}},\"type\":\"table\"}]},\"layout\":{\"annotationdefaults\":{\"arrowcolor\":\"#2a3f5f\",\"arrowhead\":0,\"arrowwidth\":1},\"autotypenumbers\":\"strict\",\"coloraxis\":{\"colorbar\":{\"outlinewidth\":0,\"ticks\":\"\"}},\"colorscale\":{\"diverging\":[[0,\"#8e0152\"],[0.1,\"#c51b7d\"],[0.2,\"#de77ae\"],[0.3,\"#f1b6da\"],[0.4,\"#fde0ef\"],[0.5,\"#f7f7f7\"],[0.6,\"#e6f5d0\"],[0.7,\"#b8e186\"],[0.8,\"#7fbc41\"],[0.9,\"#4d9221\"],[1,\"#276419\"]],\"sequential\":[[0.0,\"#0d0887\"],[0.1111111111111111,\"#46039f\"],[0.2222222222222222,\"#7201a8\"],[0.3333333333333333,\"#9c179e\"],[0.4444444444444444,\"#bd3786\"],[0.5555555555555556,\"#d8576b\"],[0.6666666666666666,\"#ed7953\"],[0.7777777777777778,\"#fb9f3a\"],[0.8888888888888888,\"#fdca26\"],[1.0,\"#f0f921\"]],\"sequentialminus\":[[0.0,\"#0d0887\"],[0.1111111111111111,\"#46039f\"],[0.2222222222222222,\"#7201a8\"],[0.3333333333333333,\"#9c179e\"],[0.4444444444444444,\"#bd3786\"],[0.5555555555555556,\"#d8576b\"],[0.6666666666666666,\"#ed7953\"],[0.7777777777777778,\"#fb9f3a\"],[0.8888888888888888,\"#fdca26\"],[1.0,\"#f0f921\"]]},\"colorway\":[\"#636efa\",\"#EF553B\",\"#00cc96\",\"#ab63fa\",\"#FFA15A\",\"#19d3f3\",\"#FF6692\",\"#B6E880\",\"#FF97FF\",\"#FECB52\"],\"font\":{\"color\":\"#2a3f5f\"},\"geo\":{\"bgcolor\":\"white\",\"lakecolor\":\"white\",\"landcolor\":\"#E5ECF6\",\"showlakes\":true,\"showland\":true,\"subunitcolor\":\"white\"},\"hoverlabel\":{\"align\":\"left\"},\"hovermode\":\"closest\",\"mapbox\":{\"style\":\"light\"},\"paper_bgcolor\":\"white\",\"plot_bgcolor\":\"#E5ECF6\",\"polar\":{\"angularaxis\":{\"gridcolor\":\"white\",\"linecolor\":\"white\",\"ticks\":\"\"},\"bgcolor\":\"#E5ECF6\",\"radialaxis\":{\"gridcolor\":\"white\",\"linecolor\":\"white\",\"ticks\":\"\"}},\"scene\":{\"xaxis\":{\"backgroundcolor\":\"#E5ECF6\",\"gridcolor\":\"white\",\"gridwidth\":2,\"linecolor\":\"white\",\"showbackground\":true,\"ticks\":\"\",\"zerolinecolor\":\"white\"},\"yaxis\":{\"backgroundcolor\":\"#E5ECF6\",\"gridcolor\":\"white\",\"gridwidth\":2,\"linecolor\":\"white\",\"showbackground\":true,\"ticks\":\"\",\"zerolinecolor\":\"white\"},\"zaxis\":{\"backgroundcolor\":\"#E5ECF6\",\"gridcolor\":\"white\",\"gridwidth\":2,\"linecolor\":\"white\",\"showbackground\":true,\"ticks\":\"\",\"zerolinecolor\":\"white\"}},\"shapedefaults\":{\"line\":{\"color\":\"#2a3f5f\"}},\"ternary\":{\"aaxis\":{\"gridcolor\":\"white\",\"linecolor\":\"white\",\"ticks\":\"\"},\"baxis\":{\"gridcolor\":\"white\",\"linecolor\":\"white\",\"ticks\":\"\"},\"bgcolor\":\"#E5ECF6\",\"caxis\":{\"gridcolor\":\"white\",\"linecolor\":\"white\",\"ticks\":\"\"}},\"title\":{\"x\":0.05},\"xaxis\":{\"automargin\":true,\"gridcolor\":\"white\",\"linecolor\":\"white\",\"ticks\":\"\",\"title\":{\"standoff\":15},\"zerolinecolor\":\"white\",\"zerolinewidth\":2},\"yaxis\":{\"automargin\":true,\"gridcolor\":\"white\",\"linecolor\":\"white\",\"ticks\":\"\",\"title\":{\"standoff\":15},\"zerolinecolor\":\"white\",\"zerolinewidth\":2}}},\"title\":{\"text\":\"Monthly Precipitation\",\"x\":0.5},\"xaxis\":{\"title\":{\"font\":{\"size\":16},\"standoff\":12,\"text\":\"Month\"}},\"yaxis\":{\"title\":{\"font\":{\"size\":16},\"standoff\":12,\"text\":\"Precipitation (mms)\"}}},                        {\"responsive\": true}                    ).then(function(){\n",
       "                            \n",
       "var gd = document.getElementById('678e2c84-15c5-4293-be11-22361a362b81');\n",
       "var x = new MutationObserver(function (mutations, observer) {{\n",
       "        var display = window.getComputedStyle(gd).display;\n",
       "        if (!display || display === 'none') {{\n",
       "            console.log([gd, 'removed!']);\n",
       "            Plotly.purge(gd);\n",
       "            observer.disconnect();\n",
       "        }}\n",
       "}});\n",
       "\n",
       "// Listen for the removal of the full notebook cells\n",
       "var notebookContainer = gd.closest('#notebook-container');\n",
       "if (notebookContainer) {{\n",
       "    x.observe(notebookContainer, {childList: true});\n",
       "}}\n",
       "\n",
       "// Listen for the clearing of the current output cell\n",
       "var outputEl = gd.closest('.output');\n",
       "if (outputEl) {{\n",
       "    x.observe(outputEl, {childList: true});\n",
       "}}\n",
       "\n",
       "                        })                };                });            </script>        </div>"
      ]
     },
     "metadata": {},
     "output_type": "display_data"
    }
   ],
   "source": [
    "fig = go.Figure()\n",
    "fig.add_trace(go.Box(\n",
    "    y=df_month['JAN'],\n",
    "    name=\"Jan\",\n",
    "    jitter=0.4,\n",
    "    pointpos=-1.6,\n",
    "    boxpoints='all'\n",
    "))\n",
    "\n",
    "fig.add_trace(go.Box(\n",
    "    y=df_month['FEB'],\n",
    "    name=\"Feb\",\n",
    "    jitter=0.4,\n",
    "    pointpos=-1.6,\n",
    "    boxpoints='all'\n",
    "))\n",
    "\n",
    "fig.add_trace(go.Box(\n",
    "    y=df_month['MAR'],\n",
    "    name=\"Mar\",\n",
    "    jitter=0.4,\n",
    "    pointpos=-1.6,\n",
    "    boxpoints='all'\n",
    "))\n",
    "\n",
    "fig.add_trace(go.Box(\n",
    "    y=df_month['APR'],\n",
    "    name=\"Apr\",\n",
    "    jitter=0.4,\n",
    "    pointpos=-1.6,\n",
    "    boxpoints='all'\n",
    "))\n",
    "\n",
    "fig.add_trace(go.Box(\n",
    "    y=df_month['MAY'],\n",
    "    name=\"May\",\n",
    "    jitter=0.4,\n",
    "    pointpos=-1.6,\n",
    "    boxpoints='all'\n",
    "))\n",
    "\n",
    "fig.add_trace(go.Box(\n",
    "    y=df_month['JUN'],\n",
    "    name=\"Jun\",\n",
    "    jitter=0.4,\n",
    "    pointpos=-1.6,\n",
    "    boxpoints='all'\n",
    "))\n",
    "\n",
    "fig.add_trace(go.Box(\n",
    "    y=df_month['JUL'],\n",
    "    name=\"Jul\",\n",
    "    jitter=0.4,\n",
    "    pointpos=-1.6,\n",
    "    boxpoints='all'\n",
    "))\n",
    "\n",
    "fig.add_trace(go.Box(\n",
    "    y=df_month['AUG'],\n",
    "    name=\"Aug\",\n",
    "    jitter=0.4,\n",
    "    pointpos=-1.6,\n",
    "    boxpoints='all'\n",
    "))\n",
    "\n",
    "fig.add_trace(go.Box(\n",
    "    y=df_month['SEP'],\n",
    "    name=\"Sep\",\n",
    "    jitter=0.4,\n",
    "    pointpos=-1.6,\n",
    "    boxpoints='all'\n",
    "))\n",
    "\n",
    "fig.add_trace(go.Box(\n",
    "    y=df_month['OCT'],\n",
    "    name=\"Oct\",\n",
    "    jitter=0.4,\n",
    "    pointpos=-1.6,\n",
    "    boxpoints='all'\n",
    "))\n",
    "\n",
    "fig.add_trace(go.Box(\n",
    "    y=df_month['NOV'],\n",
    "    name=\"Nov\",\n",
    "    jitter=0.4,\n",
    "    pointpos=-1.6,\n",
    "    boxpoints='all'\n",
    "))\n",
    "\n",
    "fig.add_trace(go.Box(\n",
    "    y=df_month['DEC'],\n",
    "    name=\"Dec\",\n",
    "    jitter=0.4,\n",
    "    pointpos=-1.6,\n",
    "    boxpoints='all',\n",
    "    marker_color='#3D9970',\n",
    "    line_color='#3D9970'\n",
    "))\n",
    "fig.update_xaxes(\n",
    "        title_text = \"Month\",\n",
    "        title_font = {\"size\": 16},\n",
    "        title_standoff = 12)\n",
    "fig.update_yaxes(\n",
    "        title_text = \"Precipitation (mms)\",\n",
    "        title_font = {\"size\": 16},\n",
    "        title_standoff = 12)\n",
    "fig.update_layout(title_text=\"Monthly Precipitation\", title_x=0.5)\n",
    "fig.show()"
   ]
  },
  {
   "cell_type": "code",
   "execution_count": 43,
   "metadata": {},
   "outputs": [
    {
     "data": {
      "text/html": [
       "<div>\n",
       "<style scoped>\n",
       "    .dataframe tbody tr th:only-of-type {\n",
       "        vertical-align: middle;\n",
       "    }\n",
       "\n",
       "    .dataframe tbody tr th {\n",
       "        vertical-align: top;\n",
       "    }\n",
       "\n",
       "    .dataframe thead th {\n",
       "        text-align: right;\n",
       "    }\n",
       "</style>\n",
       "<table border=\"1\" class=\"dataframe\">\n",
       "  <thead>\n",
       "    <tr style=\"text-align: right;\">\n",
       "      <th></th>\n",
       "      <th>YEAR</th>\n",
       "      <th>JAN</th>\n",
       "      <th>FEB</th>\n",
       "      <th>MAR</th>\n",
       "      <th>APR</th>\n",
       "      <th>MAY</th>\n",
       "      <th>JUN</th>\n",
       "      <th>JUL</th>\n",
       "      <th>AUG</th>\n",
       "      <th>SEP</th>\n",
       "      <th>OCT</th>\n",
       "      <th>NOV</th>\n",
       "      <th>DEC</th>\n",
       "      <th>ANNUAL</th>\n",
       "      <th>JF</th>\n",
       "      <th>MAM</th>\n",
       "      <th>JJAS</th>\n",
       "      <th>OND</th>\n",
       "    </tr>\n",
       "  </thead>\n",
       "  <tbody>\n",
       "    <tr>\n",
       "      <th>YEAR</th>\n",
       "      <td>1.000000</td>\n",
       "      <td>-0.235615</td>\n",
       "      <td>-0.024514</td>\n",
       "      <td>0.012996</td>\n",
       "      <td>0.053115</td>\n",
       "      <td>-0.044943</td>\n",
       "      <td>-0.163643</td>\n",
       "      <td>-0.247156</td>\n",
       "      <td>-0.054822</td>\n",
       "      <td>0.103270</td>\n",
       "      <td>-0.053116</td>\n",
       "      <td>-0.126101</td>\n",
       "      <td>-0.126799</td>\n",
       "      <td>-0.257155</td>\n",
       "      <td>-0.181692</td>\n",
       "      <td>-0.025679</td>\n",
       "      <td>-0.212480</td>\n",
       "      <td>-0.153613</td>\n",
       "    </tr>\n",
       "    <tr>\n",
       "      <th>JAN</th>\n",
       "      <td>-0.235615</td>\n",
       "      <td>1.000000</td>\n",
       "      <td>-0.008878</td>\n",
       "      <td>0.072324</td>\n",
       "      <td>0.037356</td>\n",
       "      <td>0.070132</td>\n",
       "      <td>0.185772</td>\n",
       "      <td>0.009479</td>\n",
       "      <td>-0.040937</td>\n",
       "      <td>-0.124910</td>\n",
       "      <td>-0.041219</td>\n",
       "      <td>-0.007759</td>\n",
       "      <td>-0.096995</td>\n",
       "      <td>0.084204</td>\n",
       "      <td>0.688042</td>\n",
       "      <td>0.095169</td>\n",
       "      <td>0.038203</td>\n",
       "      <td>-0.061715</td>\n",
       "    </tr>\n",
       "    <tr>\n",
       "      <th>FEB</th>\n",
       "      <td>-0.024514</td>\n",
       "      <td>-0.008878</td>\n",
       "      <td>1.000000</td>\n",
       "      <td>0.222681</td>\n",
       "      <td>0.129814</td>\n",
       "      <td>-0.081986</td>\n",
       "      <td>0.053149</td>\n",
       "      <td>-0.029063</td>\n",
       "      <td>-0.095537</td>\n",
       "      <td>0.020916</td>\n",
       "      <td>0.035955</td>\n",
       "      <td>-0.163652</td>\n",
       "      <td>-0.151145</td>\n",
       "      <td>-0.020182</td>\n",
       "      <td>0.719531</td>\n",
       "      <td>0.003391</td>\n",
       "      <td>-0.024034</td>\n",
       "      <td>-0.120066</td>\n",
       "    </tr>\n",
       "    <tr>\n",
       "      <th>MAR</th>\n",
       "      <td>0.012996</td>\n",
       "      <td>0.072324</td>\n",
       "      <td>0.222681</td>\n",
       "      <td>1.000000</td>\n",
       "      <td>0.049662</td>\n",
       "      <td>-0.106593</td>\n",
       "      <td>0.008278</td>\n",
       "      <td>-0.015881</td>\n",
       "      <td>0.041456</td>\n",
       "      <td>0.161863</td>\n",
       "      <td>-0.035092</td>\n",
       "      <td>-0.034192</td>\n",
       "      <td>0.033660</td>\n",
       "      <td>0.095699</td>\n",
       "      <td>0.211942</td>\n",
       "      <td>0.112907</td>\n",
       "      <td>0.063115</td>\n",
       "      <td>-0.037595</td>\n",
       "    </tr>\n",
       "    <tr>\n",
       "      <th>APR</th>\n",
       "      <td>0.053115</td>\n",
       "      <td>0.037356</td>\n",
       "      <td>0.129814</td>\n",
       "      <td>0.049662</td>\n",
       "      <td>1.000000</td>\n",
       "      <td>-0.118074</td>\n",
       "      <td>0.075572</td>\n",
       "      <td>0.031832</td>\n",
       "      <td>-0.034349</td>\n",
       "      <td>0.013391</td>\n",
       "      <td>0.137687</td>\n",
       "      <td>0.034363</td>\n",
       "      <td>-0.107469</td>\n",
       "      <td>0.142584</td>\n",
       "      <td>0.120056</td>\n",
       "      <td>0.194858</td>\n",
       "      <td>0.045004</td>\n",
       "      <td>0.090897</td>\n",
       "    </tr>\n",
       "    <tr>\n",
       "      <th>MAY</th>\n",
       "      <td>-0.044943</td>\n",
       "      <td>0.070132</td>\n",
       "      <td>-0.081986</td>\n",
       "      <td>-0.106593</td>\n",
       "      <td>-0.118074</td>\n",
       "      <td>1.000000</td>\n",
       "      <td>-0.003728</td>\n",
       "      <td>-0.052318</td>\n",
       "      <td>-0.128360</td>\n",
       "      <td>0.113918</td>\n",
       "      <td>0.189248</td>\n",
       "      <td>0.087852</td>\n",
       "      <td>-0.119103</td>\n",
       "      <td>0.328143</td>\n",
       "      <td>-0.010861</td>\n",
       "      <td>0.930107</td>\n",
       "      <td>-0.048840</td>\n",
       "      <td>0.158751</td>\n",
       "    </tr>\n",
       "    <tr>\n",
       "      <th>JUN</th>\n",
       "      <td>-0.163643</td>\n",
       "      <td>0.185772</td>\n",
       "      <td>0.053149</td>\n",
       "      <td>0.008278</td>\n",
       "      <td>0.075572</td>\n",
       "      <td>-0.003728</td>\n",
       "      <td>1.000000</td>\n",
       "      <td>0.086936</td>\n",
       "      <td>-0.005734</td>\n",
       "      <td>-0.058079</td>\n",
       "      <td>-0.002293</td>\n",
       "      <td>0.010521</td>\n",
       "      <td>-0.088437</td>\n",
       "      <td>0.469657</td>\n",
       "      <td>0.167365</td>\n",
       "      <td>0.020794</td>\n",
       "      <td>0.509672</td>\n",
       "      <td>-0.019582</td>\n",
       "    </tr>\n",
       "    <tr>\n",
       "      <th>JUL</th>\n",
       "      <td>-0.247156</td>\n",
       "      <td>0.009479</td>\n",
       "      <td>-0.029063</td>\n",
       "      <td>-0.015881</td>\n",
       "      <td>0.031832</td>\n",
       "      <td>-0.052318</td>\n",
       "      <td>0.086936</td>\n",
       "      <td>1.000000</td>\n",
       "      <td>0.109990</td>\n",
       "      <td>0.175362</td>\n",
       "      <td>0.021089</td>\n",
       "      <td>-0.026132</td>\n",
       "      <td>-0.030757</td>\n",
       "      <td>0.635537</td>\n",
       "      <td>-0.014490</td>\n",
       "      <td>-0.045306</td>\n",
       "      <td>0.726221</td>\n",
       "      <td>-0.009925</td>\n",
       "    </tr>\n",
       "    <tr>\n",
       "      <th>AUG</th>\n",
       "      <td>-0.054822</td>\n",
       "      <td>-0.040937</td>\n",
       "      <td>-0.095537</td>\n",
       "      <td>0.041456</td>\n",
       "      <td>-0.034349</td>\n",
       "      <td>-0.128360</td>\n",
       "      <td>-0.005734</td>\n",
       "      <td>0.109990</td>\n",
       "      <td>1.000000</td>\n",
       "      <td>0.051440</td>\n",
       "      <td>-0.219633</td>\n",
       "      <td>-0.090437</td>\n",
       "      <td>0.131329</td>\n",
       "      <td>0.335741</td>\n",
       "      <td>-0.097501</td>\n",
       "      <td>-0.128644</td>\n",
       "      <td>0.488263</td>\n",
       "      <td>-0.178860</td>\n",
       "    </tr>\n",
       "    <tr>\n",
       "      <th>SEP</th>\n",
       "      <td>0.103270</td>\n",
       "      <td>-0.124910</td>\n",
       "      <td>0.020916</td>\n",
       "      <td>0.161863</td>\n",
       "      <td>0.013391</td>\n",
       "      <td>0.113918</td>\n",
       "      <td>-0.058079</td>\n",
       "      <td>0.175362</td>\n",
       "      <td>0.051440</td>\n",
       "      <td>1.000000</td>\n",
       "      <td>-0.033037</td>\n",
       "      <td>-0.013761</td>\n",
       "      <td>-0.008565</td>\n",
       "      <td>0.410343</td>\n",
       "      <td>-0.071580</td>\n",
       "      <td>0.149360</td>\n",
       "      <td>0.413151</td>\n",
       "      <td>-0.034909</td>\n",
       "    </tr>\n",
       "    <tr>\n",
       "      <th>OCT</th>\n",
       "      <td>-0.053116</td>\n",
       "      <td>-0.041219</td>\n",
       "      <td>0.035955</td>\n",
       "      <td>-0.035092</td>\n",
       "      <td>0.137687</td>\n",
       "      <td>0.189248</td>\n",
       "      <td>-0.002293</td>\n",
       "      <td>0.021089</td>\n",
       "      <td>-0.219633</td>\n",
       "      <td>-0.033037</td>\n",
       "      <td>1.000000</td>\n",
       "      <td>-0.009536</td>\n",
       "      <td>-0.040875</td>\n",
       "      <td>0.211820</td>\n",
       "      <td>-0.002672</td>\n",
       "      <td>0.221176</td>\n",
       "      <td>-0.089428</td>\n",
       "      <td>0.702541</td>\n",
       "    </tr>\n",
       "    <tr>\n",
       "      <th>NOV</th>\n",
       "      <td>-0.126101</td>\n",
       "      <td>-0.007759</td>\n",
       "      <td>-0.163652</td>\n",
       "      <td>-0.034192</td>\n",
       "      <td>0.034363</td>\n",
       "      <td>0.087852</td>\n",
       "      <td>0.010521</td>\n",
       "      <td>-0.026132</td>\n",
       "      <td>-0.090437</td>\n",
       "      <td>-0.013761</td>\n",
       "      <td>-0.009536</td>\n",
       "      <td>1.000000</td>\n",
       "      <td>0.075772</td>\n",
       "      <td>0.177302</td>\n",
       "      <td>-0.123819</td>\n",
       "      <td>0.090070</td>\n",
       "      <td>-0.051681</td>\n",
       "      <td>0.648418</td>\n",
       "    </tr>\n",
       "    <tr>\n",
       "      <th>DEC</th>\n",
       "      <td>-0.126799</td>\n",
       "      <td>-0.096995</td>\n",
       "      <td>-0.151145</td>\n",
       "      <td>0.033660</td>\n",
       "      <td>-0.107469</td>\n",
       "      <td>-0.119103</td>\n",
       "      <td>-0.088437</td>\n",
       "      <td>-0.030757</td>\n",
       "      <td>0.131329</td>\n",
       "      <td>-0.008565</td>\n",
       "      <td>-0.040875</td>\n",
       "      <td>0.075772</td>\n",
       "      <td>1.000000</td>\n",
       "      <td>0.023990</td>\n",
       "      <td>-0.176637</td>\n",
       "      <td>-0.143168</td>\n",
       "      <td>-0.009192</td>\n",
       "      <td>0.297529</td>\n",
       "    </tr>\n",
       "    <tr>\n",
       "      <th>ANNUAL</th>\n",
       "      <td>-0.257155</td>\n",
       "      <td>0.084204</td>\n",
       "      <td>-0.020182</td>\n",
       "      <td>0.095699</td>\n",
       "      <td>0.142584</td>\n",
       "      <td>0.328143</td>\n",
       "      <td>0.469657</td>\n",
       "      <td>0.635537</td>\n",
       "      <td>0.335741</td>\n",
       "      <td>0.410343</td>\n",
       "      <td>0.211820</td>\n",
       "      <td>0.177302</td>\n",
       "      <td>0.023990</td>\n",
       "      <td>1.000000</td>\n",
       "      <td>0.043883</td>\n",
       "      <td>0.386371</td>\n",
       "      <td>0.864383</td>\n",
       "      <td>0.271669</td>\n",
       "    </tr>\n",
       "    <tr>\n",
       "      <th>JF</th>\n",
       "      <td>-0.181692</td>\n",
       "      <td>0.688042</td>\n",
       "      <td>0.719531</td>\n",
       "      <td>0.211942</td>\n",
       "      <td>0.120056</td>\n",
       "      <td>-0.010861</td>\n",
       "      <td>0.167365</td>\n",
       "      <td>-0.014490</td>\n",
       "      <td>-0.097501</td>\n",
       "      <td>-0.071580</td>\n",
       "      <td>-0.002672</td>\n",
       "      <td>-0.123819</td>\n",
       "      <td>-0.176637</td>\n",
       "      <td>0.043883</td>\n",
       "      <td>1.000000</td>\n",
       "      <td>0.068481</td>\n",
       "      <td>0.009098</td>\n",
       "      <td>-0.129767</td>\n",
       "    </tr>\n",
       "    <tr>\n",
       "      <th>MAM</th>\n",
       "      <td>-0.025679</td>\n",
       "      <td>0.095169</td>\n",
       "      <td>0.003391</td>\n",
       "      <td>0.112907</td>\n",
       "      <td>0.194858</td>\n",
       "      <td>0.930107</td>\n",
       "      <td>0.020794</td>\n",
       "      <td>-0.045306</td>\n",
       "      <td>-0.128644</td>\n",
       "      <td>0.149360</td>\n",
       "      <td>0.221176</td>\n",
       "      <td>0.090070</td>\n",
       "      <td>-0.143168</td>\n",
       "      <td>0.386371</td>\n",
       "      <td>0.068481</td>\n",
       "      <td>1.000000</td>\n",
       "      <td>-0.021841</td>\n",
       "      <td>0.176409</td>\n",
       "    </tr>\n",
       "    <tr>\n",
       "      <th>JJAS</th>\n",
       "      <td>-0.212480</td>\n",
       "      <td>0.038203</td>\n",
       "      <td>-0.024034</td>\n",
       "      <td>0.063115</td>\n",
       "      <td>0.045004</td>\n",
       "      <td>-0.048840</td>\n",
       "      <td>0.509672</td>\n",
       "      <td>0.726221</td>\n",
       "      <td>0.488263</td>\n",
       "      <td>0.413151</td>\n",
       "      <td>-0.089428</td>\n",
       "      <td>-0.051681</td>\n",
       "      <td>-0.009192</td>\n",
       "      <td>0.864383</td>\n",
       "      <td>0.009098</td>\n",
       "      <td>-0.021841</td>\n",
       "      <td>1.000000</td>\n",
       "      <td>-0.099675</td>\n",
       "    </tr>\n",
       "    <tr>\n",
       "      <th>OND</th>\n",
       "      <td>-0.153613</td>\n",
       "      <td>-0.061715</td>\n",
       "      <td>-0.120066</td>\n",
       "      <td>-0.037595</td>\n",
       "      <td>0.090897</td>\n",
       "      <td>0.158751</td>\n",
       "      <td>-0.019582</td>\n",
       "      <td>-0.009925</td>\n",
       "      <td>-0.178860</td>\n",
       "      <td>-0.034909</td>\n",
       "      <td>0.702541</td>\n",
       "      <td>0.648418</td>\n",
       "      <td>0.297529</td>\n",
       "      <td>0.271669</td>\n",
       "      <td>-0.129767</td>\n",
       "      <td>0.176409</td>\n",
       "      <td>-0.099675</td>\n",
       "      <td>1.000000</td>\n",
       "    </tr>\n",
       "  </tbody>\n",
       "</table>\n",
       "</div>"
      ],
      "text/plain": [
       "            YEAR       JAN       FEB       MAR       APR       MAY       JUN  \\\n",
       "YEAR    1.000000 -0.235615 -0.024514  0.012996  0.053115 -0.044943 -0.163643   \n",
       "JAN    -0.235615  1.000000 -0.008878  0.072324  0.037356  0.070132  0.185772   \n",
       "FEB    -0.024514 -0.008878  1.000000  0.222681  0.129814 -0.081986  0.053149   \n",
       "MAR     0.012996  0.072324  0.222681  1.000000  0.049662 -0.106593  0.008278   \n",
       "APR     0.053115  0.037356  0.129814  0.049662  1.000000 -0.118074  0.075572   \n",
       "MAY    -0.044943  0.070132 -0.081986 -0.106593 -0.118074  1.000000 -0.003728   \n",
       "JUN    -0.163643  0.185772  0.053149  0.008278  0.075572 -0.003728  1.000000   \n",
       "JUL    -0.247156  0.009479 -0.029063 -0.015881  0.031832 -0.052318  0.086936   \n",
       "AUG    -0.054822 -0.040937 -0.095537  0.041456 -0.034349 -0.128360 -0.005734   \n",
       "SEP     0.103270 -0.124910  0.020916  0.161863  0.013391  0.113918 -0.058079   \n",
       "OCT    -0.053116 -0.041219  0.035955 -0.035092  0.137687  0.189248 -0.002293   \n",
       "NOV    -0.126101 -0.007759 -0.163652 -0.034192  0.034363  0.087852  0.010521   \n",
       "DEC    -0.126799 -0.096995 -0.151145  0.033660 -0.107469 -0.119103 -0.088437   \n",
       "ANNUAL -0.257155  0.084204 -0.020182  0.095699  0.142584  0.328143  0.469657   \n",
       "JF     -0.181692  0.688042  0.719531  0.211942  0.120056 -0.010861  0.167365   \n",
       "MAM    -0.025679  0.095169  0.003391  0.112907  0.194858  0.930107  0.020794   \n",
       "JJAS   -0.212480  0.038203 -0.024034  0.063115  0.045004 -0.048840  0.509672   \n",
       "OND    -0.153613 -0.061715 -0.120066 -0.037595  0.090897  0.158751 -0.019582   \n",
       "\n",
       "             JUL       AUG       SEP       OCT       NOV       DEC    ANNUAL  \\\n",
       "YEAR   -0.247156 -0.054822  0.103270 -0.053116 -0.126101 -0.126799 -0.257155   \n",
       "JAN     0.009479 -0.040937 -0.124910 -0.041219 -0.007759 -0.096995  0.084204   \n",
       "FEB    -0.029063 -0.095537  0.020916  0.035955 -0.163652 -0.151145 -0.020182   \n",
       "MAR    -0.015881  0.041456  0.161863 -0.035092 -0.034192  0.033660  0.095699   \n",
       "APR     0.031832 -0.034349  0.013391  0.137687  0.034363 -0.107469  0.142584   \n",
       "MAY    -0.052318 -0.128360  0.113918  0.189248  0.087852 -0.119103  0.328143   \n",
       "JUN     0.086936 -0.005734 -0.058079 -0.002293  0.010521 -0.088437  0.469657   \n",
       "JUL     1.000000  0.109990  0.175362  0.021089 -0.026132 -0.030757  0.635537   \n",
       "AUG     0.109990  1.000000  0.051440 -0.219633 -0.090437  0.131329  0.335741   \n",
       "SEP     0.175362  0.051440  1.000000 -0.033037 -0.013761 -0.008565  0.410343   \n",
       "OCT     0.021089 -0.219633 -0.033037  1.000000 -0.009536 -0.040875  0.211820   \n",
       "NOV    -0.026132 -0.090437 -0.013761 -0.009536  1.000000  0.075772  0.177302   \n",
       "DEC    -0.030757  0.131329 -0.008565 -0.040875  0.075772  1.000000  0.023990   \n",
       "ANNUAL  0.635537  0.335741  0.410343  0.211820  0.177302  0.023990  1.000000   \n",
       "JF     -0.014490 -0.097501 -0.071580 -0.002672 -0.123819 -0.176637  0.043883   \n",
       "MAM    -0.045306 -0.128644  0.149360  0.221176  0.090070 -0.143168  0.386371   \n",
       "JJAS    0.726221  0.488263  0.413151 -0.089428 -0.051681 -0.009192  0.864383   \n",
       "OND    -0.009925 -0.178860 -0.034909  0.702541  0.648418  0.297529  0.271669   \n",
       "\n",
       "              JF       MAM      JJAS       OND  \n",
       "YEAR   -0.181692 -0.025679 -0.212480 -0.153613  \n",
       "JAN     0.688042  0.095169  0.038203 -0.061715  \n",
       "FEB     0.719531  0.003391 -0.024034 -0.120066  \n",
       "MAR     0.211942  0.112907  0.063115 -0.037595  \n",
       "APR     0.120056  0.194858  0.045004  0.090897  \n",
       "MAY    -0.010861  0.930107 -0.048840  0.158751  \n",
       "JUN     0.167365  0.020794  0.509672 -0.019582  \n",
       "JUL    -0.014490 -0.045306  0.726221 -0.009925  \n",
       "AUG    -0.097501 -0.128644  0.488263 -0.178860  \n",
       "SEP    -0.071580  0.149360  0.413151 -0.034909  \n",
       "OCT    -0.002672  0.221176 -0.089428  0.702541  \n",
       "NOV    -0.123819  0.090070 -0.051681  0.648418  \n",
       "DEC    -0.176637 -0.143168 -0.009192  0.297529  \n",
       "ANNUAL  0.043883  0.386371  0.864383  0.271669  \n",
       "JF      1.000000  0.068481  0.009098 -0.129767  \n",
       "MAM     0.068481  1.000000 -0.021841  0.176409  \n",
       "JJAS    0.009098 -0.021841  1.000000 -0.099675  \n",
       "OND    -0.129767  0.176409 -0.099675  1.000000  "
      ]
     },
     "execution_count": 43,
     "metadata": {},
     "output_type": "execute_result"
    }
   ],
   "source": [
    "df.corr()"
   ]
  },
  {
   "cell_type": "code",
   "execution_count": 44,
   "metadata": {},
   "outputs": [
    {
     "data": {
      "image/png": "[encoded data removed]",
      "text/plain": [
       "<Figure size 864x576 with 2 Axes>"
      ]
     },
     "metadata": {
      "needs_background": "light"
     },
     "output_type": "display_data"
    }
   ],
   "source": [
    "sns.set_context(\"notebook\")\n",
    "plt.subplots(figsize=(12, 8))\n",
    "g1 = sns.heatmap(df.corr(), annot=True, fmt='.2f')\n",
    "g1.set_title(\"Correlation between Months\", y=1)\n",
    "plt.xlabel('Month')\n",
    "plt.ylabel('Month')\n",
    "plt.xticks(rotation=0)\n",
    "plt.yticks(rotation=0)\n",
    "plt.show()"
   ]
  },
  {
   "cell_type": "code",
   "execution_count": 45,
   "metadata": {},
   "outputs": [
    {
     "name": "stdout",
     "output_type": "stream",
     "text": [
      "(1404, 3)\n"
     ]
    },
    {
     "data": {
      "text/html": [
       "<div>\n",
       "<style scoped>\n",
       "    .dataframe tbody tr th:only-of-type {\n",
       "        vertical-align: middle;\n",
       "    }\n",
       "\n",
       "    .dataframe tbody tr th {\n",
       "        vertical-align: top;\n",
       "    }\n",
       "\n",
       "    .dataframe thead th {\n",
       "        text-align: right;\n",
       "    }\n",
       "</style>\n",
       "<table border=\"1\" class=\"dataframe\">\n",
       "  <thead>\n",
       "    <tr style=\"text-align: right;\">\n",
       "      <th></th>\n",
       "      <th>YEAR</th>\n",
       "      <th>month</th>\n",
       "      <th>mms</th>\n",
       "    </tr>\n",
       "  </thead>\n",
       "  <tbody>\n",
       "    <tr>\n",
       "      <th>0</th>\n",
       "      <td>1901</td>\n",
       "      <td>JAN</td>\n",
       "      <td>28.7</td>\n",
       "    </tr>\n",
       "    <tr>\n",
       "      <th>1</th>\n",
       "      <td>1902</td>\n",
       "      <td>JAN</td>\n",
       "      <td>6.7</td>\n",
       "    </tr>\n",
       "    <tr>\n",
       "      <th>2</th>\n",
       "      <td>1903</td>\n",
       "      <td>JAN</td>\n",
       "      <td>3.2</td>\n",
       "    </tr>\n",
       "    <tr>\n",
       "      <th>3</th>\n",
       "      <td>1904</td>\n",
       "      <td>JAN</td>\n",
       "      <td>23.7</td>\n",
       "    </tr>\n",
       "    <tr>\n",
       "      <th>4</th>\n",
       "      <td>1905</td>\n",
       "      <td>JAN</td>\n",
       "      <td>1.2</td>\n",
       "    </tr>\n",
       "  </tbody>\n",
       "</table>\n",
       "</div>"
      ],
      "text/plain": [
       "   YEAR month   mms\n",
       "0  1901   JAN  28.7\n",
       "1  1902   JAN   6.7\n",
       "2  1903   JAN   3.2\n",
       "3  1904   JAN  23.7\n",
       "4  1905   JAN   1.2"
      ]
     },
     "execution_count": 45,
     "metadata": {},
     "output_type": "execute_result"
    }
   ],
   "source": [
    "data = df.copy(deep=True)\n",
    "\n",
    "df_trend = pd.melt(data, id_vars = ['YEAR'], \n",
    "                   value_vars = ['JAN', 'FEB', 'MAR', 'APR', 'MAY', 'JUN', \n",
    "                                 'JUL','AUG', 'SEP', 'OCT', 'NOV', 'DEC'], \n",
    "                   var_name='month', value_name='mms')\n",
    "print(df_trend.shape)\n",
    "df_trend.head()"
   ]
  },
  {
   "cell_type": "code",
   "execution_count": 46,
   "metadata": {},
   "outputs": [
    {
     "data": {
      "text/html": [
       "<div>\n",
       "<style scoped>\n",
       "    .dataframe tbody tr th:only-of-type {\n",
       "        vertical-align: middle;\n",
       "    }\n",
       "\n",
       "    .dataframe tbody tr th {\n",
       "        vertical-align: top;\n",
       "    }\n",
       "\n",
       "    .dataframe thead th {\n",
       "        text-align: right;\n",
       "    }\n",
       "</style>\n",
       "<table border=\"1\" class=\"dataframe\">\n",
       "  <thead>\n",
       "    <tr style=\"text-align: right;\">\n",
       "      <th></th>\n",
       "      <th>YEAR</th>\n",
       "      <th>month</th>\n",
       "      <th>mms</th>\n",
       "      <th>date</th>\n",
       "      <th>month_no</th>\n",
       "      <th>annual</th>\n",
       "      <th>jf</th>\n",
       "      <th>mam</th>\n",
       "      <th>jjas</th>\n",
       "      <th>ond</th>\n",
       "    </tr>\n",
       "  </thead>\n",
       "  <tbody>\n",
       "    <tr>\n",
       "      <th>0</th>\n",
       "      <td>1901</td>\n",
       "      <td>JAN</td>\n",
       "      <td>28.7</td>\n",
       "      <td>1901-01-01</td>\n",
       "      <td>1</td>\n",
       "      <td>3248.6</td>\n",
       "      <td>73.4</td>\n",
       "      <td>386.2</td>\n",
       "      <td>2122.8</td>\n",
       "      <td>666.1</td>\n",
       "    </tr>\n",
       "    <tr>\n",
       "      <th>1</th>\n",
       "      <td>1901</td>\n",
       "      <td>FEB</td>\n",
       "      <td>44.7</td>\n",
       "      <td>1901-02-01</td>\n",
       "      <td>2</td>\n",
       "      <td>3248.6</td>\n",
       "      <td>73.4</td>\n",
       "      <td>386.2</td>\n",
       "      <td>2122.8</td>\n",
       "      <td>666.1</td>\n",
       "    </tr>\n",
       "    <tr>\n",
       "      <th>2</th>\n",
       "      <td>1901</td>\n",
       "      <td>MAR</td>\n",
       "      <td>51.6</td>\n",
       "      <td>1901-03-01</td>\n",
       "      <td>3</td>\n",
       "      <td>3248.6</td>\n",
       "      <td>73.4</td>\n",
       "      <td>386.2</td>\n",
       "      <td>2122.8</td>\n",
       "      <td>666.1</td>\n",
       "    </tr>\n",
       "    <tr>\n",
       "      <th>3</th>\n",
       "      <td>1901</td>\n",
       "      <td>APR</td>\n",
       "      <td>160.0</td>\n",
       "      <td>1901-04-01</td>\n",
       "      <td>4</td>\n",
       "      <td>3248.6</td>\n",
       "      <td>73.4</td>\n",
       "      <td>386.2</td>\n",
       "      <td>2122.8</td>\n",
       "      <td>666.1</td>\n",
       "    </tr>\n",
       "    <tr>\n",
       "      <th>4</th>\n",
       "      <td>1901</td>\n",
       "      <td>MAY</td>\n",
       "      <td>174.7</td>\n",
       "      <td>1901-05-01</td>\n",
       "      <td>5</td>\n",
       "      <td>3248.6</td>\n",
       "      <td>73.4</td>\n",
       "      <td>386.2</td>\n",
       "      <td>2122.8</td>\n",
       "      <td>666.1</td>\n",
       "    </tr>\n",
       "    <tr>\n",
       "      <th>...</th>\n",
       "      <td>...</td>\n",
       "      <td>...</td>\n",
       "      <td>...</td>\n",
       "      <td>...</td>\n",
       "      <td>...</td>\n",
       "      <td>...</td>\n",
       "      <td>...</td>\n",
       "      <td>...</td>\n",
       "      <td>...</td>\n",
       "      <td>...</td>\n",
       "    </tr>\n",
       "    <tr>\n",
       "      <th>1399</th>\n",
       "      <td>2017</td>\n",
       "      <td>AUG</td>\n",
       "      <td>462.6</td>\n",
       "      <td>2017-08-01</td>\n",
       "      <td>8</td>\n",
       "      <td>2664.9</td>\n",
       "      <td>13.0</td>\n",
       "      <td>353.9</td>\n",
       "      <td>1856.5</td>\n",
       "      <td>441.5</td>\n",
       "    </tr>\n",
       "    <tr>\n",
       "      <th>1400</th>\n",
       "      <td>2017</td>\n",
       "      <td>SEP</td>\n",
       "      <td>435.5</td>\n",
       "      <td>2017-09-01</td>\n",
       "      <td>9</td>\n",
       "      <td>2664.9</td>\n",
       "      <td>13.0</td>\n",
       "      <td>353.9</td>\n",
       "      <td>1856.5</td>\n",
       "      <td>441.5</td>\n",
       "    </tr>\n",
       "    <tr>\n",
       "      <th>1401</th>\n",
       "      <td>2017</td>\n",
       "      <td>OCT</td>\n",
       "      <td>228.0</td>\n",
       "      <td>2017-10-01</td>\n",
       "      <td>10</td>\n",
       "      <td>2664.9</td>\n",
       "      <td>13.0</td>\n",
       "      <td>353.9</td>\n",
       "      <td>1856.5</td>\n",
       "      <td>441.5</td>\n",
       "    </tr>\n",
       "    <tr>\n",
       "      <th>1402</th>\n",
       "      <td>2017</td>\n",
       "      <td>NOV</td>\n",
       "      <td>152.1</td>\n",
       "      <td>2017-11-01</td>\n",
       "      <td>11</td>\n",
       "      <td>2664.9</td>\n",
       "      <td>13.0</td>\n",
       "      <td>353.9</td>\n",
       "      <td>1856.5</td>\n",
       "      <td>441.5</td>\n",
       "    </tr>\n",
       "    <tr>\n",
       "      <th>1403</th>\n",
       "      <td>2017</td>\n",
       "      <td>DEC</td>\n",
       "      <td>61.4</td>\n",
       "      <td>2017-12-01</td>\n",
       "      <td>12</td>\n",
       "      <td>2664.9</td>\n",
       "      <td>13.0</td>\n",
       "      <td>353.9</td>\n",
       "      <td>1856.5</td>\n",
       "      <td>441.5</td>\n",
       "    </tr>\n",
       "  </tbody>\n",
       "</table>\n",
       "<p>1404 rows × 10 columns</p>\n",
       "</div>"
      ],
      "text/plain": [
       "      YEAR month    mms       date  month_no  annual    jf    mam    jjas  \\\n",
       "0     1901   JAN   28.7 1901-01-01         1  3248.6  73.4  386.2  2122.8   \n",
       "1     1901   FEB   44.7 1901-02-01         2  3248.6  73.4  386.2  2122.8   \n",
       "2     1901   MAR   51.6 1901-03-01         3  3248.6  73.4  386.2  2122.8   \n",
       "3     1901   APR  160.0 1901-04-01         4  3248.6  73.4  386.2  2122.8   \n",
       "4     1901   MAY  174.7 1901-05-01         5  3248.6  73.4  386.2  2122.8   \n",
       "...    ...   ...    ...        ...       ...     ...   ...    ...     ...   \n",
       "1399  2017   AUG  462.6 2017-08-01         8  2664.9  13.0  353.9  1856.5   \n",
       "1400  2017   SEP  435.5 2017-09-01         9  2664.9  13.0  353.9  1856.5   \n",
       "1401  2017   OCT  228.0 2017-10-01        10  2664.9  13.0  353.9  1856.5   \n",
       "1402  2017   NOV  152.1 2017-11-01        11  2664.9  13.0  353.9  1856.5   \n",
       "1403  2017   DEC   61.4 2017-12-01        12  2664.9  13.0  353.9  1856.5   \n",
       "\n",
       "        ond  \n",
       "0     666.1  \n",
       "1     666.1  \n",
       "2     666.1  \n",
       "3     666.1  \n",
       "4     666.1  \n",
       "...     ...  \n",
       "1399  441.5  \n",
       "1400  441.5  \n",
       "1401  441.5  \n",
       "1402  441.5  \n",
       "1403  441.5  \n",
       "\n",
       "[1404 rows x 10 columns]"
      ]
     },
     "execution_count": 46,
     "metadata": {},
     "output_type": "execute_result"
    }
   ],
   "source": [
    "df_trend['date'] = df_trend['YEAR'].astype('str') + '-' + df_trend['month'] + '-01'\n",
    "df_trend['date']= pd.to_datetime(df_trend['date'])\n",
    "df_sorted = df_trend.sort_values('date')\n",
    "\n",
    "df_sorted = df_sorted.reset_index()\n",
    "df_sorted = df_sorted.drop('index', axis=1)\n",
    "df_sorted['month_no'] = df_sorted['date'].dt.strftime('%m')\n",
    "month_int = df_sorted.loc[:, 'month_no'].astype('int')\n",
    "df_sorted = df_sorted.assign(month_no = month_int)\n",
    "\n",
    "annual_list, jf_list, mam_list, jjas_list, ond_list = [], [], [], [], []\n",
    "\n",
    "for year in range(1901, 2018):\n",
    "    ann = df.loc[df['YEAR']==year, 'ANNUAL']\n",
    "    jf = df.loc[df['YEAR']==year, 'JF']\n",
    "    mam = df.loc[df['YEAR']==year, 'MAM']\n",
    "    jjas = df.loc[df['YEAR']==year, 'JJAS']\n",
    "    ond = df.loc[df['YEAR']==year, 'OND']\n",
    "    for year_loop in range(12):\n",
    "        annual_list.append(float(ann))\n",
    "        jf_list.append(float(jf))\n",
    "        mam_list.append(float(mam))\n",
    "        jjas_list.append(float(jjas))\n",
    "        ond_list.append(float(ond))\n",
    "\n",
    "df_sorted = df_sorted.assign(annual=annual_list)\n",
    "df_sorted = df_sorted.assign(jf=jf_list)\n",
    "df_sorted = df_sorted.assign(mam=mam_list)\n",
    "df_sorted = df_sorted.assign(jjas=jjas_list)\n",
    "df_sorted = df_sorted.assign(ond=ond_list)\n",
    "df_sorted"
   ]
  },
  {
   "cell_type": "code",
   "execution_count": 47,
   "metadata": {},
   "outputs": [
    {
     "data": {
      "image/png": "[encoded data removed]",
      "text/plain": [
       "<Figure size 864x288 with 1 Axes>"
      ]
     },
     "metadata": {
      "needs_background": "light"
     },
     "output_type": "display_data"
    }
   ],
   "source": [
    "sns.relplot(data=df_sorted[-240:], x='date', y='mms', kind='line', height=4, aspect=3)\n",
    "plt.title(\"Kerala Rainfall (1998-2017)\", fontsize=16)\n",
    "plt.xlabel('Year', fontsize=16)\n",
    "plt.ylabel('Rainfall (mms)', fontsize=16)\n",
    "plt.xticks(rotation=0)\n",
    "plt.yticks(rotation=0)\n",
    "plt.show()"
   ]
  },
  {
   "cell_type": "code",
   "execution_count": 48,
   "metadata": {},
   "outputs": [],
   "source": [
    "from tkinter import *\n",
    "from PIL import ImageTk, Image"
   ]
  },
  {
   "cell_type": "code",
   "execution_count": 49,
   "metadata": {},
   "outputs": [],
   "source": [
    "root =Tk()\n",
    "root.title('Rainfall')\n",
    "root.geometry(\"400x200\")\n",
    "def rainfall_vs_year():\n",
    "    sns.relplot(data=df_sorted[-240:], x='date', y='mms', kind='line', height=4, aspect=3)\n",
    "    plt.title(\"Kerala Rainfall (1998-2017)\", fontsize=16)\n",
    "    plt.xlabel('Year', fontsize=16)\n",
    "    plt.ylabel('Rainfall (mms)', fontsize=16)\n",
    "    plt.xticks(rotation=0)\n",
    "    plt.yticks(rotation=0)\n",
    "    plt.show()\n",
    "def rainfall_jan():\n",
    "    fig = go.Figure()\n",
    "    fig.add_trace(go.Box(\n",
    "    y=df_month['JAN'],\n",
    "    name=\"Jan\",\n",
    "    jitter=0.4,\n",
    "    pointpos=-1.6,\n",
    "    boxpoints='all',\n",
    "    marker_color='#3D9970',\n",
    "    line_color='#3D9970'\n",
    "    ))\n",
    "    fig.show()\n",
    "def rainfall_feb():\n",
    "    fig = go.Figure()\n",
    "    fig.add_trace(go.Box(\n",
    "    y=df_month['FEB'],\n",
    "    name=\"Feb\",\n",
    "    jitter=0.4,\n",
    "    pointpos=-1.6,\n",
    "    boxpoints='all',\n",
    "        marker_color='#9b59b6',\n",
    "    line_color='#9b59b6'\n",
    "    ))\n",
    "    fig.show()\n",
    "def rainfall_mar():\n",
    "    fig = go.Figure()\n",
    "    fig.add_trace(go.Box(\n",
    "    y=df_month['MAR'],\n",
    "    name=\"Mar\",\n",
    "    jitter=0.4,\n",
    "    pointpos=-1.6,\n",
    "    boxpoints='all',\n",
    "        marker_color='#3498db',\n",
    "    line_color='#3498db'\n",
    "    ))\n",
    "    fig.show()\n",
    "def rainfall_apr():\n",
    "    fig = go.Figure()\n",
    "    fig.add_trace(go.Box(\n",
    "    y=df_month['APR'],\n",
    "    name=\"Apr\",\n",
    "    jitter=0.4,\n",
    "    pointpos=-1.6,\n",
    "    boxpoints='all',\n",
    "        marker_color='#95a5a6',\n",
    "    line_color='#95a5a6'\n",
    "    ))\n",
    "    fig.show()\n",
    "def rainfall_may():\n",
    "    fig = go.Figure()\n",
    "    fig.add_trace(go.Box(\n",
    "    y=df_month['MAY'],\n",
    "    name=\"May\",\n",
    "    jitter=0.4,\n",
    "    pointpos=-1.6,\n",
    "    boxpoints='all',\n",
    "        marker_color='#e74c3c',\n",
    "    line_color='#e74c3c'\n",
    "    ))\n",
    "    fig.show()\n",
    "def rainfall_jun():\n",
    "    fig = go.Figure()\n",
    "    fig.add_trace(go.Box(\n",
    "    y=df_month['JUN'],\n",
    "    name=\"Jun\",\n",
    "    jitter=0.4,\n",
    "    pointpos=-1.6,\n",
    "    boxpoints='all',\n",
    "        marker_color='#34495e',\n",
    "    line_color='#34495e'\n",
    "    ))\n",
    "    fig.show()\n",
    "def rainfall_jul():\n",
    "    fig = go.Figure()\n",
    "    fig.add_trace(go.Box(\n",
    "    y=df_month['JUL'],\n",
    "    name=\"Jul\",\n",
    "    jitter=0.4,\n",
    "    pointpos=-1.6,\n",
    "    boxpoints='all',\n",
    "        marker_color='#2ecc71',\n",
    "    line_color='#2ecc71'\n",
    "    ))\n",
    "    fig.show()\n",
    "def rainfall_aug():\n",
    "    fig = go.Figure()\n",
    "    fig.add_trace(go.Box(\n",
    "    y=df_month['AUG'],\n",
    "    name=\"Aug\",\n",
    "    jitter=0.4,\n",
    "    pointpos=-1.6,\n",
    "    boxpoints='all',\n",
    "        marker_color='#DC143C',\n",
    "    line_color='#DC143C'\n",
    "    ))\n",
    "    fig.show()\n",
    "def rainfall_sep():\n",
    "    fig = go.Figure()\n",
    "    fig.add_trace(go.Box(\n",
    "    y=df_month['SEP'],\n",
    "    name=\"Sep\",\n",
    "    jitter=0.4,\n",
    "    pointpos=-1.6,\n",
    "    boxpoints='all',\n",
    "        marker_color='#8B7D6B',\n",
    "    line_color='#8B7D6B'\n",
    "    ))\n",
    "    fig.show()\n",
    "def rainfall_oct():\n",
    "    fig = go.Figure()\n",
    "    fig.add_trace(go.Box(\n",
    "    y=df_month['OCT'],\n",
    "    name=\"Oct\",\n",
    "    jitter=0.4,\n",
    "    pointpos=-1.6,\n",
    "    boxpoints='all',\n",
    "        marker_color='#5F9EA0',\n",
    "    line_color='#5F9EA0'\n",
    "    ))\n",
    "    fig.show()\n",
    "def rainfall_nov():\n",
    "    fig = go.Figure()\n",
    "    fig.add_trace(go.Box(\n",
    "    y=df_month['NOV'],\n",
    "    name=\"Nov\",\n",
    "    jitter=0.4,\n",
    "    pointpos=-1.6,\n",
    "    boxpoints='all',\n",
    "        marker_color='#66CD00',\n",
    "    line_color='#66CD00'\n",
    "    ))\n",
    "    fig.show()\n",
    "def rainfall_dec():\n",
    "    fig = go.Figure()\n",
    "    fig.add_trace(go.Box(\n",
    "    y=df_month['DEC'],\n",
    "    name=\"Dec\",\n",
    "    jitter=0.4,\n",
    "    pointpos=-1.6,\n",
    "    boxpoints='all',\n",
    "        marker_color='#556B2F',\n",
    "    line_color='#556B2F'\n",
    "    ))\n",
    "    fig.show()\n",
    "b1=Button(root,text='Rainfall vs Year', command=rainfall_vs_year)\n",
    "b1.pack()\n",
    "b2=Button(root,text='Rainfall in January', command=rainfall_jan)\n",
    "b2.pack()\n",
    "b3=Button(root,text='Rainfall in February', command=rainfall_feb)\n",
    "b3.pack()\n",
    "b4=Button(root,text='Rainfall in March', command=rainfall_mar)\n",
    "b4.pack()\n",
    "b5=Button(root,text='Rainfall in April', command=rainfall_apr)\n",
    "b5.pack()\n",
    "b6=Button(root,text='Rainfall in May', command=rainfall_may)\n",
    "b6.pack()\n",
    "b7=Button(root,text='Rainfall in June', command=rainfall_jun)\n",
    "b7.pack()\n",
    "b8=Button(root,text='Rainfall in July', command=rainfall_jul)\n",
    "b8.pack()\n",
    "b9=Button(root,text='Rainfall in August', command=rainfall_aug)\n",
    "b9.pack()\n",
    "b10=Button(root,text='Rainfall in September', command=rainfall_sep)\n",
    "b10.pack()\n",
    "b11=Button(root,text='Rainfall in October', command=rainfall_oct)\n",
    "b11.pack()\n",
    "b12=Button(root,text='Rainfall in November', command=rainfall_nov)\n",
    "b12.pack()\n",
    "b13=Button(root,text='Rainfall in December', command=rainfall_dec)\n",
    "b13.pack()\n",
    "root.mainloop()"
   ]
  }
 ],
 "metadata": {
  "kernelspec": {
   "display_name": "Python 3",
   "language": "python",
   "name": "python3"
  },
  "language_info": {
   "codemirror_mode": {
    "name": "ipython",
    "version": 3
   },
   "file_extension": ".py",
   "mimetype": "text/x-python",
   "name": "python",
   "nbconvert_exporter": "python",
   "pygments_lexer": "ipython3",
   "version": "3.7.6"
  }
 },
 "nbformat": 4,
 "nbformat_minor": 4
}
