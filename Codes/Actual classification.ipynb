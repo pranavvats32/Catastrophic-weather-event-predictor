{
 "cells": [
  {
   "cell_type": "code",
   "execution_count": 46,
   "metadata": {
    "execution": {
     "iopub.execute_input": "2021-08-25T08:42:43.871582Z",
     "iopub.status.busy": "2021-08-25T08:42:43.871139Z",
     "iopub.status.idle": "2021-08-25T08:42:47.244047Z",
     "shell.execute_reply": "2021-08-25T08:42:47.243044Z",
     "shell.execute_reply.started": "2021-08-25T08:42:43.871548Z"
    }
   },
   "outputs": [],
   "source": [
    "import pandas as pd\n",
    "import numpy as np\n",
    "import matplotlib.pyplot as plt\n",
    "import plotly.express as px\n",
    "import plotly.graph_objects as go\n",
    "import seaborn as sns\n",
    "import statsmodels.api as sm"
   ]
  },
  {
   "cell_type": "code",
   "execution_count": 47,
   "metadata": {
    "execution": {
     "iopub.execute_input": "2021-08-25T08:42:47.246025Z",
     "iopub.status.busy": "2021-08-25T08:42:47.245733Z",
     "iopub.status.idle": "2021-08-25T08:42:47.304565Z",
     "shell.execute_reply": "2021-08-25T08:42:47.303512Z",
     "shell.execute_reply.started": "2021-08-25T08:42:47.245999Z"
    }
   },
   "outputs": [
    {
     "name": "stdout",
     "output_type": "stream",
     "text": [
      "(117, 19)\n"
     ]
    },
    {
     "data": {
      "text/html": [
       "<div>\n",
       "<style scoped>\n",
       "    .dataframe tbody tr th:only-of-type {\n",
       "        vertical-align: middle;\n",
       "    }\n",
       "\n",
       "    .dataframe tbody tr th {\n",
       "        vertical-align: top;\n",
       "    }\n",
       "\n",
       "    .dataframe thead th {\n",
       "        text-align: right;\n",
       "    }\n",
       "</style>\n",
       "<table border=\"1\" class=\"dataframe\">\n",
       "  <thead>\n",
       "    <tr style=\"text-align: right;\">\n",
       "      <th></th>\n",
       "      <th>SUBDIVISION</th>\n",
       "      <th>YEAR</th>\n",
       "      <th>JAN</th>\n",
       "      <th>FEB</th>\n",
       "      <th>MAR</th>\n",
       "      <th>APR</th>\n",
       "      <th>MAY</th>\n",
       "      <th>JUN</th>\n",
       "      <th>JUL</th>\n",
       "      <th>AUG</th>\n",
       "      <th>SEP</th>\n",
       "      <th>OCT</th>\n",
       "      <th>NOV</th>\n",
       "      <th>DEC</th>\n",
       "      <th>ANNUAL</th>\n",
       "      <th>JF</th>\n",
       "      <th>MAM</th>\n",
       "      <th>JJAS</th>\n",
       "      <th>OND</th>\n",
       "    </tr>\n",
       "  </thead>\n",
       "  <tbody>\n",
       "    <tr>\n",
       "      <th>0</th>\n",
       "      <td>Kerala</td>\n",
       "      <td>1901</td>\n",
       "      <td>28.7</td>\n",
       "      <td>44.7</td>\n",
       "      <td>51.6</td>\n",
       "      <td>160.0</td>\n",
       "      <td>174.7</td>\n",
       "      <td>824.6</td>\n",
       "      <td>743.0</td>\n",
       "      <td>357.5</td>\n",
       "      <td>197.7</td>\n",
       "      <td>266.9</td>\n",
       "      <td>350.8</td>\n",
       "      <td>48.4</td>\n",
       "      <td>3248.6</td>\n",
       "      <td>73.4</td>\n",
       "      <td>386.2</td>\n",
       "      <td>2122.8</td>\n",
       "      <td>666.1</td>\n",
       "    </tr>\n",
       "    <tr>\n",
       "      <th>1</th>\n",
       "      <td>Kerala</td>\n",
       "      <td>1902</td>\n",
       "      <td>6.7</td>\n",
       "      <td>2.6</td>\n",
       "      <td>57.3</td>\n",
       "      <td>83.9</td>\n",
       "      <td>134.5</td>\n",
       "      <td>390.9</td>\n",
       "      <td>1205.0</td>\n",
       "      <td>315.8</td>\n",
       "      <td>491.6</td>\n",
       "      <td>358.4</td>\n",
       "      <td>158.3</td>\n",
       "      <td>121.5</td>\n",
       "      <td>3326.6</td>\n",
       "      <td>9.3</td>\n",
       "      <td>275.7</td>\n",
       "      <td>2403.4</td>\n",
       "      <td>638.2</td>\n",
       "    </tr>\n",
       "    <tr>\n",
       "      <th>2</th>\n",
       "      <td>Kerala</td>\n",
       "      <td>1903</td>\n",
       "      <td>3.2</td>\n",
       "      <td>18.6</td>\n",
       "      <td>3.1</td>\n",
       "      <td>83.6</td>\n",
       "      <td>249.7</td>\n",
       "      <td>558.6</td>\n",
       "      <td>1022.5</td>\n",
       "      <td>420.2</td>\n",
       "      <td>341.8</td>\n",
       "      <td>354.1</td>\n",
       "      <td>157.0</td>\n",
       "      <td>59.0</td>\n",
       "      <td>3271.2</td>\n",
       "      <td>21.7</td>\n",
       "      <td>336.3</td>\n",
       "      <td>2343.0</td>\n",
       "      <td>570.1</td>\n",
       "    </tr>\n",
       "    <tr>\n",
       "      <th>3</th>\n",
       "      <td>Kerala</td>\n",
       "      <td>1904</td>\n",
       "      <td>23.7</td>\n",
       "      <td>3.0</td>\n",
       "      <td>32.2</td>\n",
       "      <td>71.5</td>\n",
       "      <td>235.7</td>\n",
       "      <td>1098.2</td>\n",
       "      <td>725.5</td>\n",
       "      <td>351.8</td>\n",
       "      <td>222.7</td>\n",
       "      <td>328.1</td>\n",
       "      <td>33.9</td>\n",
       "      <td>3.3</td>\n",
       "      <td>3129.7</td>\n",
       "      <td>26.7</td>\n",
       "      <td>339.4</td>\n",
       "      <td>2398.2</td>\n",
       "      <td>365.3</td>\n",
       "    </tr>\n",
       "    <tr>\n",
       "      <th>4</th>\n",
       "      <td>Kerala</td>\n",
       "      <td>1905</td>\n",
       "      <td>1.2</td>\n",
       "      <td>22.3</td>\n",
       "      <td>9.4</td>\n",
       "      <td>105.9</td>\n",
       "      <td>263.3</td>\n",
       "      <td>850.2</td>\n",
       "      <td>520.5</td>\n",
       "      <td>293.6</td>\n",
       "      <td>217.2</td>\n",
       "      <td>383.5</td>\n",
       "      <td>74.4</td>\n",
       "      <td>0.2</td>\n",
       "      <td>2741.6</td>\n",
       "      <td>23.4</td>\n",
       "      <td>378.5</td>\n",
       "      <td>1881.5</td>\n",
       "      <td>458.1</td>\n",
       "    </tr>\n",
       "  </tbody>\n",
       "</table>\n",
       "</div>"
      ],
      "text/plain": [
       "  SUBDIVISION  YEAR   JAN   FEB   MAR    APR    MAY     JUN     JUL    AUG  \\\n",
       "0      Kerala  1901  28.7  44.7  51.6  160.0  174.7   824.6   743.0  357.5   \n",
       "1      Kerala  1902   6.7   2.6  57.3   83.9  134.5   390.9  1205.0  315.8   \n",
       "2      Kerala  1903   3.2  18.6   3.1   83.6  249.7   558.6  1022.5  420.2   \n",
       "3      Kerala  1904  23.7   3.0  32.2   71.5  235.7  1098.2   725.5  351.8   \n",
       "4      Kerala  1905   1.2  22.3   9.4  105.9  263.3   850.2   520.5  293.6   \n",
       "\n",
       "     SEP    OCT    NOV    DEC  ANNUAL    JF    MAM    JJAS    OND  \n",
       "0  197.7  266.9  350.8   48.4  3248.6  73.4  386.2  2122.8  666.1  \n",
       "1  491.6  358.4  158.3  121.5  3326.6   9.3  275.7  2403.4  638.2  \n",
       "2  341.8  354.1  157.0   59.0  3271.2  21.7  336.3  2343.0  570.1  \n",
       "3  222.7  328.1   33.9    3.3  3129.7  26.7  339.4  2398.2  365.3  \n",
       "4  217.2  383.5   74.4    0.2  2741.6  23.4  378.5  1881.5  458.1  "
      ]
     },
     "execution_count": 47,
     "metadata": {},
     "output_type": "execute_result"
    }
   ],
   "source": [
    "df = pd.read_csv('Kerala-Rainfall-Historical.csv')\n",
    "print(df.shape)\n",
    "df.head()"
   ]
  },
  {
   "cell_type": "code",
   "execution_count": 48,
   "metadata": {
    "execution": {
     "iopub.execute_input": "2021-08-25T08:42:47.872901Z",
     "iopub.status.busy": "2021-08-25T08:42:47.872456Z",
     "iopub.status.idle": "2021-08-25T08:42:47.883059Z",
     "shell.execute_reply": "2021-08-25T08:42:47.881940Z",
     "shell.execute_reply.started": "2021-08-25T08:42:47.872854Z"
    }
   },
   "outputs": [],
   "source": [
    "df_month = df[['YEAR', 'JAN', 'FEB', 'MAR', 'APR', 'MAY', 'JUN', 'JUL', 'AUG', 'SEP', 'OCT', 'NOV', 'DEC']]\n",
    "df_season = df[['YEAR', 'ANNUAL', 'JF', 'MAM', 'JJAS', 'OND']]"
   ]
  },
  {
   "cell_type": "code",
   "execution_count": 49,
   "metadata": {
    "execution": {
     "iopub.execute_input": "2021-08-25T08:42:50.014179Z",
     "iopub.status.busy": "2021-08-25T08:42:50.013888Z",
     "iopub.status.idle": "2021-08-25T08:42:50.034790Z",
     "shell.execute_reply": "2021-08-25T08:42:50.033562Z",
     "shell.execute_reply.started": "2021-08-25T08:42:50.014152Z"
    }
   },
   "outputs": [
    {
     "name": "stdout",
     "output_type": "stream",
     "text": [
      "(1404, 3)\n"
     ]
    },
    {
     "data": {
      "text/html": [
       "<div>\n",
       "<style scoped>\n",
       "    .dataframe tbody tr th:only-of-type {\n",
       "        vertical-align: middle;\n",
       "    }\n",
       "\n",
       "    .dataframe tbody tr th {\n",
       "        vertical-align: top;\n",
       "    }\n",
       "\n",
       "    .dataframe thead th {\n",
       "        text-align: right;\n",
       "    }\n",
       "</style>\n",
       "<table border=\"1\" class=\"dataframe\">\n",
       "  <thead>\n",
       "    <tr style=\"text-align: right;\">\n",
       "      <th></th>\n",
       "      <th>YEAR</th>\n",
       "      <th>month</th>\n",
       "      <th>mms</th>\n",
       "    </tr>\n",
       "  </thead>\n",
       "  <tbody>\n",
       "    <tr>\n",
       "      <th>0</th>\n",
       "      <td>1901</td>\n",
       "      <td>JAN</td>\n",
       "      <td>28.7</td>\n",
       "    </tr>\n",
       "    <tr>\n",
       "      <th>1</th>\n",
       "      <td>1902</td>\n",
       "      <td>JAN</td>\n",
       "      <td>6.7</td>\n",
       "    </tr>\n",
       "    <tr>\n",
       "      <th>2</th>\n",
       "      <td>1903</td>\n",
       "      <td>JAN</td>\n",
       "      <td>3.2</td>\n",
       "    </tr>\n",
       "    <tr>\n",
       "      <th>3</th>\n",
       "      <td>1904</td>\n",
       "      <td>JAN</td>\n",
       "      <td>23.7</td>\n",
       "    </tr>\n",
       "    <tr>\n",
       "      <th>4</th>\n",
       "      <td>1905</td>\n",
       "      <td>JAN</td>\n",
       "      <td>1.2</td>\n",
       "    </tr>\n",
       "  </tbody>\n",
       "</table>\n",
       "</div>"
      ],
      "text/plain": [
       "   YEAR month   mms\n",
       "0  1901   JAN  28.7\n",
       "1  1902   JAN   6.7\n",
       "2  1903   JAN   3.2\n",
       "3  1904   JAN  23.7\n",
       "4  1905   JAN   1.2"
      ]
     },
     "execution_count": 49,
     "metadata": {},
     "output_type": "execute_result"
    }
   ],
   "source": [
    "data = df.copy(deep=True)\n",
    "\n",
    "df_trend = pd.melt(data, id_vars = ['YEAR'], \n",
    "                   value_vars = ['JAN', 'FEB', 'MAR', 'APR', 'MAY', 'JUN', \n",
    "                                 'JUL','AUG', 'SEP', 'OCT', 'NOV', 'DEC'], \n",
    "                   var_name='month', value_name='mms')\n",
    "print(df_trend.shape)\n",
    "df_trend.head()"
   ]
  },
  {
   "cell_type": "code",
   "execution_count": 50,
   "metadata": {
    "execution": {
     "iopub.execute_input": "2021-08-25T08:42:50.036406Z",
     "iopub.status.busy": "2021-08-25T08:42:50.036095Z",
     "iopub.status.idle": "2021-08-25T08:42:50.529449Z",
     "shell.execute_reply": "2021-08-25T08:42:50.528473Z",
     "shell.execute_reply.started": "2021-08-25T08:42:50.036377Z"
    }
   },
   "outputs": [
    {
     "data": {
      "text/html": [
       "<div>\n",
       "<style scoped>\n",
       "    .dataframe tbody tr th:only-of-type {\n",
       "        vertical-align: middle;\n",
       "    }\n",
       "\n",
       "    .dataframe tbody tr th {\n",
       "        vertical-align: top;\n",
       "    }\n",
       "\n",
       "    .dataframe thead th {\n",
       "        text-align: right;\n",
       "    }\n",
       "</style>\n",
       "<table border=\"1\" class=\"dataframe\">\n",
       "  <thead>\n",
       "    <tr style=\"text-align: right;\">\n",
       "      <th></th>\n",
       "      <th>YEAR</th>\n",
       "      <th>month</th>\n",
       "      <th>mms</th>\n",
       "      <th>date</th>\n",
       "      <th>month_no</th>\n",
       "      <th>annual</th>\n",
       "      <th>jf</th>\n",
       "      <th>mam</th>\n",
       "      <th>jjas</th>\n",
       "      <th>ond</th>\n",
       "    </tr>\n",
       "  </thead>\n",
       "  <tbody>\n",
       "    <tr>\n",
       "      <th>0</th>\n",
       "      <td>1901</td>\n",
       "      <td>JAN</td>\n",
       "      <td>28.7</td>\n",
       "      <td>1901-01-01</td>\n",
       "      <td>1</td>\n",
       "      <td>3248.6</td>\n",
       "      <td>73.4</td>\n",
       "      <td>386.2</td>\n",
       "      <td>2122.8</td>\n",
       "      <td>666.1</td>\n",
       "    </tr>\n",
       "    <tr>\n",
       "      <th>1</th>\n",
       "      <td>1901</td>\n",
       "      <td>FEB</td>\n",
       "      <td>44.7</td>\n",
       "      <td>1901-02-01</td>\n",
       "      <td>2</td>\n",
       "      <td>3248.6</td>\n",
       "      <td>73.4</td>\n",
       "      <td>386.2</td>\n",
       "      <td>2122.8</td>\n",
       "      <td>666.1</td>\n",
       "    </tr>\n",
       "    <tr>\n",
       "      <th>2</th>\n",
       "      <td>1901</td>\n",
       "      <td>MAR</td>\n",
       "      <td>51.6</td>\n",
       "      <td>1901-03-01</td>\n",
       "      <td>3</td>\n",
       "      <td>3248.6</td>\n",
       "      <td>73.4</td>\n",
       "      <td>386.2</td>\n",
       "      <td>2122.8</td>\n",
       "      <td>666.1</td>\n",
       "    </tr>\n",
       "    <tr>\n",
       "      <th>3</th>\n",
       "      <td>1901</td>\n",
       "      <td>APR</td>\n",
       "      <td>160.0</td>\n",
       "      <td>1901-04-01</td>\n",
       "      <td>4</td>\n",
       "      <td>3248.6</td>\n",
       "      <td>73.4</td>\n",
       "      <td>386.2</td>\n",
       "      <td>2122.8</td>\n",
       "      <td>666.1</td>\n",
       "    </tr>\n",
       "    <tr>\n",
       "      <th>4</th>\n",
       "      <td>1901</td>\n",
       "      <td>MAY</td>\n",
       "      <td>174.7</td>\n",
       "      <td>1901-05-01</td>\n",
       "      <td>5</td>\n",
       "      <td>3248.6</td>\n",
       "      <td>73.4</td>\n",
       "      <td>386.2</td>\n",
       "      <td>2122.8</td>\n",
       "      <td>666.1</td>\n",
       "    </tr>\n",
       "    <tr>\n",
       "      <th>...</th>\n",
       "      <td>...</td>\n",
       "      <td>...</td>\n",
       "      <td>...</td>\n",
       "      <td>...</td>\n",
       "      <td>...</td>\n",
       "      <td>...</td>\n",
       "      <td>...</td>\n",
       "      <td>...</td>\n",
       "      <td>...</td>\n",
       "      <td>...</td>\n",
       "    </tr>\n",
       "    <tr>\n",
       "      <th>1399</th>\n",
       "      <td>2017</td>\n",
       "      <td>AUG</td>\n",
       "      <td>462.6</td>\n",
       "      <td>2017-08-01</td>\n",
       "      <td>8</td>\n",
       "      <td>2664.9</td>\n",
       "      <td>13.0</td>\n",
       "      <td>353.9</td>\n",
       "      <td>1856.5</td>\n",
       "      <td>441.5</td>\n",
       "    </tr>\n",
       "    <tr>\n",
       "      <th>1400</th>\n",
       "      <td>2017</td>\n",
       "      <td>SEP</td>\n",
       "      <td>435.5</td>\n",
       "      <td>2017-09-01</td>\n",
       "      <td>9</td>\n",
       "      <td>2664.9</td>\n",
       "      <td>13.0</td>\n",
       "      <td>353.9</td>\n",
       "      <td>1856.5</td>\n",
       "      <td>441.5</td>\n",
       "    </tr>\n",
       "    <tr>\n",
       "      <th>1401</th>\n",
       "      <td>2017</td>\n",
       "      <td>OCT</td>\n",
       "      <td>228.0</td>\n",
       "      <td>2017-10-01</td>\n",
       "      <td>10</td>\n",
       "      <td>2664.9</td>\n",
       "      <td>13.0</td>\n",
       "      <td>353.9</td>\n",
       "      <td>1856.5</td>\n",
       "      <td>441.5</td>\n",
       "    </tr>\n",
       "    <tr>\n",
       "      <th>1402</th>\n",
       "      <td>2017</td>\n",
       "      <td>NOV</td>\n",
       "      <td>152.1</td>\n",
       "      <td>2017-11-01</td>\n",
       "      <td>11</td>\n",
       "      <td>2664.9</td>\n",
       "      <td>13.0</td>\n",
       "      <td>353.9</td>\n",
       "      <td>1856.5</td>\n",
       "      <td>441.5</td>\n",
       "    </tr>\n",
       "    <tr>\n",
       "      <th>1403</th>\n",
       "      <td>2017</td>\n",
       "      <td>DEC</td>\n",
       "      <td>61.4</td>\n",
       "      <td>2017-12-01</td>\n",
       "      <td>12</td>\n",
       "      <td>2664.9</td>\n",
       "      <td>13.0</td>\n",
       "      <td>353.9</td>\n",
       "      <td>1856.5</td>\n",
       "      <td>441.5</td>\n",
       "    </tr>\n",
       "  </tbody>\n",
       "</table>\n",
       "<p>1404 rows × 10 columns</p>\n",
       "</div>"
      ],
      "text/plain": [
       "      YEAR month    mms       date  month_no  annual    jf    mam    jjas  \\\n",
       "0     1901   JAN   28.7 1901-01-01         1  3248.6  73.4  386.2  2122.8   \n",
       "1     1901   FEB   44.7 1901-02-01         2  3248.6  73.4  386.2  2122.8   \n",
       "2     1901   MAR   51.6 1901-03-01         3  3248.6  73.4  386.2  2122.8   \n",
       "3     1901   APR  160.0 1901-04-01         4  3248.6  73.4  386.2  2122.8   \n",
       "4     1901   MAY  174.7 1901-05-01         5  3248.6  73.4  386.2  2122.8   \n",
       "...    ...   ...    ...        ...       ...     ...   ...    ...     ...   \n",
       "1399  2017   AUG  462.6 2017-08-01         8  2664.9  13.0  353.9  1856.5   \n",
       "1400  2017   SEP  435.5 2017-09-01         9  2664.9  13.0  353.9  1856.5   \n",
       "1401  2017   OCT  228.0 2017-10-01        10  2664.9  13.0  353.9  1856.5   \n",
       "1402  2017   NOV  152.1 2017-11-01        11  2664.9  13.0  353.9  1856.5   \n",
       "1403  2017   DEC   61.4 2017-12-01        12  2664.9  13.0  353.9  1856.5   \n",
       "\n",
       "        ond  \n",
       "0     666.1  \n",
       "1     666.1  \n",
       "2     666.1  \n",
       "3     666.1  \n",
       "4     666.1  \n",
       "...     ...  \n",
       "1399  441.5  \n",
       "1400  441.5  \n",
       "1401  441.5  \n",
       "1402  441.5  \n",
       "1403  441.5  \n",
       "\n",
       "[1404 rows x 10 columns]"
      ]
     },
     "execution_count": 50,
     "metadata": {},
     "output_type": "execute_result"
    }
   ],
   "source": [
    "df_trend['date'] = df_trend['YEAR'].astype('str') + '-' + df_trend['month'] + '-01'\n",
    "df_trend['date']= pd.to_datetime(df_trend['date'])\n",
    "df_sorted = df_trend.sort_values('date')\n",
    "\n",
    "df_sorted = df_sorted.reset_index()\n",
    "df_sorted = df_sorted.drop('index', axis=1)\n",
    "df_sorted['month_no'] = df_sorted['date'].dt.strftime('%m')\n",
    "month_int = df_sorted.loc[:, 'month_no'].astype('int')\n",
    "df_sorted = df_sorted.assign(month_no = month_int)\n",
    "\n",
    "annual_list, jf_list, mam_list, jjas_list, ond_list = [], [], [], [], []\n",
    "\n",
    "for year in range(1901, 2018):\n",
    "    ann = df.loc[df['YEAR']==year, 'ANNUAL']\n",
    "    jf = df.loc[df['YEAR']==year, 'JF']\n",
    "    mam = df.loc[df['YEAR']==year, 'MAM']\n",
    "    jjas = df.loc[df['YEAR']==year, 'JJAS']\n",
    "    ond = df.loc[df['YEAR']==year, 'OND']\n",
    "    for year_loop in range(12):\n",
    "        annual_list.append(float(ann))\n",
    "        jf_list.append(float(jf))\n",
    "        mam_list.append(float(mam))\n",
    "        jjas_list.append(float(jjas))\n",
    "        ond_list.append(float(ond))\n",
    "\n",
    "df_sorted = df_sorted.assign(annual=annual_list)\n",
    "df_sorted = df_sorted.assign(jf=jf_list)\n",
    "df_sorted = df_sorted.assign(mam=mam_list)\n",
    "df_sorted = df_sorted.assign(jjas=jjas_list)\n",
    "df_sorted = df_sorted.assign(ond=ond_list)\n",
    "df_sorted"
   ]
  },
  {
   "cell_type": "code",
   "execution_count": 51,
   "metadata": {
    "execution": {
     "iopub.execute_input": "2021-08-25T08:42:50.889060Z",
     "iopub.status.busy": "2021-08-25T08:42:50.888759Z",
     "iopub.status.idle": "2021-08-25T08:42:51.843822Z",
     "shell.execute_reply": "2021-08-25T08:42:51.842919Z",
     "shell.execute_reply.started": "2021-08-25T08:42:50.889033Z"
    }
   },
   "outputs": [
    {
     "data": {
      "text/html": [
       "<div>\n",
       "<style scoped>\n",
       "    .dataframe tbody tr th:only-of-type {\n",
       "        vertical-align: middle;\n",
       "    }\n",
       "\n",
       "    .dataframe tbody tr th {\n",
       "        vertical-align: top;\n",
       "    }\n",
       "\n",
       "    .dataframe thead th {\n",
       "        text-align: right;\n",
       "    }\n",
       "</style>\n",
       "<table border=\"1\" class=\"dataframe\">\n",
       "  <thead>\n",
       "    <tr style=\"text-align: right;\">\n",
       "      <th></th>\n",
       "      <th>YEAR</th>\n",
       "      <th>month</th>\n",
       "      <th>mms</th>\n",
       "      <th>date</th>\n",
       "      <th>month_no</th>\n",
       "      <th>annual</th>\n",
       "      <th>jf</th>\n",
       "      <th>mam</th>\n",
       "      <th>jjas</th>\n",
       "      <th>ond</th>\n",
       "      <th>mov_avg</th>\n",
       "    </tr>\n",
       "  </thead>\n",
       "  <tbody>\n",
       "    <tr>\n",
       "      <th>0</th>\n",
       "      <td>1901</td>\n",
       "      <td>JAN</td>\n",
       "      <td>28.7</td>\n",
       "      <td>1901-01-01</td>\n",
       "      <td>1</td>\n",
       "      <td>3248.6</td>\n",
       "      <td>73.4</td>\n",
       "      <td>386.2</td>\n",
       "      <td>2122.8</td>\n",
       "      <td>666.1</td>\n",
       "      <td>NaN</td>\n",
       "    </tr>\n",
       "    <tr>\n",
       "      <th>1</th>\n",
       "      <td>1901</td>\n",
       "      <td>FEB</td>\n",
       "      <td>44.7</td>\n",
       "      <td>1901-02-01</td>\n",
       "      <td>2</td>\n",
       "      <td>3248.6</td>\n",
       "      <td>73.4</td>\n",
       "      <td>386.2</td>\n",
       "      <td>2122.8</td>\n",
       "      <td>666.1</td>\n",
       "      <td>NaN</td>\n",
       "    </tr>\n",
       "    <tr>\n",
       "      <th>2</th>\n",
       "      <td>1901</td>\n",
       "      <td>MAR</td>\n",
       "      <td>51.6</td>\n",
       "      <td>1901-03-01</td>\n",
       "      <td>3</td>\n",
       "      <td>3248.6</td>\n",
       "      <td>73.4</td>\n",
       "      <td>386.2</td>\n",
       "      <td>2122.8</td>\n",
       "      <td>666.1</td>\n",
       "      <td>NaN</td>\n",
       "    </tr>\n",
       "    <tr>\n",
       "      <th>3</th>\n",
       "      <td>1901</td>\n",
       "      <td>APR</td>\n",
       "      <td>160.0</td>\n",
       "      <td>1901-04-01</td>\n",
       "      <td>4</td>\n",
       "      <td>3248.6</td>\n",
       "      <td>73.4</td>\n",
       "      <td>386.2</td>\n",
       "      <td>2122.8</td>\n",
       "      <td>666.1</td>\n",
       "      <td>NaN</td>\n",
       "    </tr>\n",
       "    <tr>\n",
       "      <th>4</th>\n",
       "      <td>1901</td>\n",
       "      <td>MAY</td>\n",
       "      <td>174.7</td>\n",
       "      <td>1901-05-01</td>\n",
       "      <td>5</td>\n",
       "      <td>3248.6</td>\n",
       "      <td>73.4</td>\n",
       "      <td>386.2</td>\n",
       "      <td>2122.8</td>\n",
       "      <td>666.1</td>\n",
       "      <td>NaN</td>\n",
       "    </tr>\n",
       "    <tr>\n",
       "      <th>5</th>\n",
       "      <td>1901</td>\n",
       "      <td>JUN</td>\n",
       "      <td>824.6</td>\n",
       "      <td>1901-06-01</td>\n",
       "      <td>6</td>\n",
       "      <td>3248.6</td>\n",
       "      <td>73.4</td>\n",
       "      <td>386.2</td>\n",
       "      <td>2122.8</td>\n",
       "      <td>666.1</td>\n",
       "      <td>NaN</td>\n",
       "    </tr>\n",
       "    <tr>\n",
       "      <th>6</th>\n",
       "      <td>1901</td>\n",
       "      <td>JUL</td>\n",
       "      <td>743.0</td>\n",
       "      <td>1901-07-01</td>\n",
       "      <td>7</td>\n",
       "      <td>3248.6</td>\n",
       "      <td>73.4</td>\n",
       "      <td>386.2</td>\n",
       "      <td>2122.8</td>\n",
       "      <td>666.1</td>\n",
       "      <td>NaN</td>\n",
       "    </tr>\n",
       "    <tr>\n",
       "      <th>7</th>\n",
       "      <td>1901</td>\n",
       "      <td>AUG</td>\n",
       "      <td>357.5</td>\n",
       "      <td>1901-08-01</td>\n",
       "      <td>8</td>\n",
       "      <td>3248.6</td>\n",
       "      <td>73.4</td>\n",
       "      <td>386.2</td>\n",
       "      <td>2122.8</td>\n",
       "      <td>666.1</td>\n",
       "      <td>NaN</td>\n",
       "    </tr>\n",
       "    <tr>\n",
       "      <th>8</th>\n",
       "      <td>1901</td>\n",
       "      <td>SEP</td>\n",
       "      <td>197.7</td>\n",
       "      <td>1901-09-01</td>\n",
       "      <td>9</td>\n",
       "      <td>3248.6</td>\n",
       "      <td>73.4</td>\n",
       "      <td>386.2</td>\n",
       "      <td>2122.8</td>\n",
       "      <td>666.1</td>\n",
       "      <td>NaN</td>\n",
       "    </tr>\n",
       "    <tr>\n",
       "      <th>9</th>\n",
       "      <td>1901</td>\n",
       "      <td>OCT</td>\n",
       "      <td>266.9</td>\n",
       "      <td>1901-10-01</td>\n",
       "      <td>10</td>\n",
       "      <td>3248.6</td>\n",
       "      <td>73.4</td>\n",
       "      <td>386.2</td>\n",
       "      <td>2122.8</td>\n",
       "      <td>666.1</td>\n",
       "      <td>NaN</td>\n",
       "    </tr>\n",
       "    <tr>\n",
       "      <th>10</th>\n",
       "      <td>1901</td>\n",
       "      <td>NOV</td>\n",
       "      <td>350.8</td>\n",
       "      <td>1901-11-01</td>\n",
       "      <td>11</td>\n",
       "      <td>3248.6</td>\n",
       "      <td>73.4</td>\n",
       "      <td>386.2</td>\n",
       "      <td>2122.8</td>\n",
       "      <td>666.1</td>\n",
       "      <td>NaN</td>\n",
       "    </tr>\n",
       "    <tr>\n",
       "      <th>11</th>\n",
       "      <td>1901</td>\n",
       "      <td>DEC</td>\n",
       "      <td>48.4</td>\n",
       "      <td>1901-12-01</td>\n",
       "      <td>12</td>\n",
       "      <td>3248.6</td>\n",
       "      <td>73.4</td>\n",
       "      <td>386.2</td>\n",
       "      <td>2122.8</td>\n",
       "      <td>666.1</td>\n",
       "      <td>270.716667</td>\n",
       "    </tr>\n",
       "    <tr>\n",
       "      <th>12</th>\n",
       "      <td>1902</td>\n",
       "      <td>JAN</td>\n",
       "      <td>6.7</td>\n",
       "      <td>1902-01-01</td>\n",
       "      <td>1</td>\n",
       "      <td>3326.6</td>\n",
       "      <td>9.3</td>\n",
       "      <td>275.7</td>\n",
       "      <td>2403.4</td>\n",
       "      <td>638.2</td>\n",
       "      <td>268.883333</td>\n",
       "    </tr>\n",
       "    <tr>\n",
       "      <th>13</th>\n",
       "      <td>1902</td>\n",
       "      <td>FEB</td>\n",
       "      <td>2.6</td>\n",
       "      <td>1902-02-01</td>\n",
       "      <td>2</td>\n",
       "      <td>3326.6</td>\n",
       "      <td>9.3</td>\n",
       "      <td>275.7</td>\n",
       "      <td>2403.4</td>\n",
       "      <td>638.2</td>\n",
       "      <td>265.375000</td>\n",
       "    </tr>\n",
       "    <tr>\n",
       "      <th>14</th>\n",
       "      <td>1902</td>\n",
       "      <td>MAR</td>\n",
       "      <td>57.3</td>\n",
       "      <td>1902-03-01</td>\n",
       "      <td>3</td>\n",
       "      <td>3326.6</td>\n",
       "      <td>9.3</td>\n",
       "      <td>275.7</td>\n",
       "      <td>2403.4</td>\n",
       "      <td>638.2</td>\n",
       "      <td>265.850000</td>\n",
       "    </tr>\n",
       "    <tr>\n",
       "      <th>15</th>\n",
       "      <td>1902</td>\n",
       "      <td>APR</td>\n",
       "      <td>83.9</td>\n",
       "      <td>1902-04-01</td>\n",
       "      <td>4</td>\n",
       "      <td>3326.6</td>\n",
       "      <td>9.3</td>\n",
       "      <td>275.7</td>\n",
       "      <td>2403.4</td>\n",
       "      <td>638.2</td>\n",
       "      <td>259.508333</td>\n",
       "    </tr>\n",
       "  </tbody>\n",
       "</table>\n",
       "</div>"
      ],
      "text/plain": [
       "    YEAR month    mms       date  month_no  annual    jf    mam    jjas  \\\n",
       "0   1901   JAN   28.7 1901-01-01         1  3248.6  73.4  386.2  2122.8   \n",
       "1   1901   FEB   44.7 1901-02-01         2  3248.6  73.4  386.2  2122.8   \n",
       "2   1901   MAR   51.6 1901-03-01         3  3248.6  73.4  386.2  2122.8   \n",
       "3   1901   APR  160.0 1901-04-01         4  3248.6  73.4  386.2  2122.8   \n",
       "4   1901   MAY  174.7 1901-05-01         5  3248.6  73.4  386.2  2122.8   \n",
       "5   1901   JUN  824.6 1901-06-01         6  3248.6  73.4  386.2  2122.8   \n",
       "6   1901   JUL  743.0 1901-07-01         7  3248.6  73.4  386.2  2122.8   \n",
       "7   1901   AUG  357.5 1901-08-01         8  3248.6  73.4  386.2  2122.8   \n",
       "8   1901   SEP  197.7 1901-09-01         9  3248.6  73.4  386.2  2122.8   \n",
       "9   1901   OCT  266.9 1901-10-01        10  3248.6  73.4  386.2  2122.8   \n",
       "10  1901   NOV  350.8 1901-11-01        11  3248.6  73.4  386.2  2122.8   \n",
       "11  1901   DEC   48.4 1901-12-01        12  3248.6  73.4  386.2  2122.8   \n",
       "12  1902   JAN    6.7 1902-01-01         1  3326.6   9.3  275.7  2403.4   \n",
       "13  1902   FEB    2.6 1902-02-01         2  3326.6   9.3  275.7  2403.4   \n",
       "14  1902   MAR   57.3 1902-03-01         3  3326.6   9.3  275.7  2403.4   \n",
       "15  1902   APR   83.9 1902-04-01         4  3326.6   9.3  275.7  2403.4   \n",
       "\n",
       "      ond     mov_avg  \n",
       "0   666.1         NaN  \n",
       "1   666.1         NaN  \n",
       "2   666.1         NaN  \n",
       "3   666.1         NaN  \n",
       "4   666.1         NaN  \n",
       "5   666.1         NaN  \n",
       "6   666.1         NaN  \n",
       "7   666.1         NaN  \n",
       "8   666.1         NaN  \n",
       "9   666.1         NaN  \n",
       "10  666.1         NaN  \n",
       "11  666.1  270.716667  \n",
       "12  638.2  268.883333  \n",
       "13  638.2  265.375000  \n",
       "14  638.2  265.850000  \n",
       "15  638.2  259.508333  "
      ]
     },
     "execution_count": 51,
     "metadata": {},
     "output_type": "execute_result"
    }
   ],
   "source": [
    "for index in range(len(df_sorted)-11):\n",
    "    df_sorted.loc[index+11, 'mov_avg'] = df_sorted[index:index+12]['mms'].mean()\n",
    "df_sorted.head(16)"
   ]
  },
  {
   "cell_type": "code",
   "execution_count": 52,
   "metadata": {
    "execution": {
     "iopub.execute_input": "2021-08-25T08:42:51.845356Z",
     "iopub.status.busy": "2021-08-25T08:42:51.845055Z",
     "iopub.status.idle": "2021-08-25T08:42:51.878937Z",
     "shell.execute_reply": "2021-08-25T08:42:51.877882Z",
     "shell.execute_reply.started": "2021-08-25T08:42:51.845317Z"
    }
   },
   "outputs": [
    {
     "data": {
      "text/html": [
       "<div>\n",
       "<style scoped>\n",
       "    .dataframe tbody tr th:only-of-type {\n",
       "        vertical-align: middle;\n",
       "    }\n",
       "\n",
       "    .dataframe tbody tr th {\n",
       "        vertical-align: top;\n",
       "    }\n",
       "\n",
       "    .dataframe thead th {\n",
       "        text-align: right;\n",
       "    }\n",
       "</style>\n",
       "<table border=\"1\" class=\"dataframe\">\n",
       "  <thead>\n",
       "    <tr style=\"text-align: right;\">\n",
       "      <th></th>\n",
       "      <th>YEAR</th>\n",
       "      <th>month</th>\n",
       "      <th>mms</th>\n",
       "      <th>date</th>\n",
       "      <th>month_no</th>\n",
       "      <th>annual</th>\n",
       "      <th>jf</th>\n",
       "      <th>mam</th>\n",
       "      <th>jjas</th>\n",
       "      <th>ond</th>\n",
       "      <th>mov_avg</th>\n",
       "      <th>ratio_ma</th>\n",
       "    </tr>\n",
       "  </thead>\n",
       "  <tbody>\n",
       "    <tr>\n",
       "      <th>0</th>\n",
       "      <td>1901</td>\n",
       "      <td>JAN</td>\n",
       "      <td>28.7</td>\n",
       "      <td>1901-01-01</td>\n",
       "      <td>1</td>\n",
       "      <td>3248.6</td>\n",
       "      <td>73.4</td>\n",
       "      <td>386.2</td>\n",
       "      <td>2122.8</td>\n",
       "      <td>666.1</td>\n",
       "      <td>NaN</td>\n",
       "      <td>NaN</td>\n",
       "    </tr>\n",
       "    <tr>\n",
       "      <th>1</th>\n",
       "      <td>1901</td>\n",
       "      <td>FEB</td>\n",
       "      <td>44.7</td>\n",
       "      <td>1901-02-01</td>\n",
       "      <td>2</td>\n",
       "      <td>3248.6</td>\n",
       "      <td>73.4</td>\n",
       "      <td>386.2</td>\n",
       "      <td>2122.8</td>\n",
       "      <td>666.1</td>\n",
       "      <td>NaN</td>\n",
       "      <td>NaN</td>\n",
       "    </tr>\n",
       "    <tr>\n",
       "      <th>2</th>\n",
       "      <td>1901</td>\n",
       "      <td>MAR</td>\n",
       "      <td>51.6</td>\n",
       "      <td>1901-03-01</td>\n",
       "      <td>3</td>\n",
       "      <td>3248.6</td>\n",
       "      <td>73.4</td>\n",
       "      <td>386.2</td>\n",
       "      <td>2122.8</td>\n",
       "      <td>666.1</td>\n",
       "      <td>NaN</td>\n",
       "      <td>NaN</td>\n",
       "    </tr>\n",
       "    <tr>\n",
       "      <th>3</th>\n",
       "      <td>1901</td>\n",
       "      <td>APR</td>\n",
       "      <td>160.0</td>\n",
       "      <td>1901-04-01</td>\n",
       "      <td>4</td>\n",
       "      <td>3248.6</td>\n",
       "      <td>73.4</td>\n",
       "      <td>386.2</td>\n",
       "      <td>2122.8</td>\n",
       "      <td>666.1</td>\n",
       "      <td>NaN</td>\n",
       "      <td>NaN</td>\n",
       "    </tr>\n",
       "    <tr>\n",
       "      <th>4</th>\n",
       "      <td>1901</td>\n",
       "      <td>MAY</td>\n",
       "      <td>174.7</td>\n",
       "      <td>1901-05-01</td>\n",
       "      <td>5</td>\n",
       "      <td>3248.6</td>\n",
       "      <td>73.4</td>\n",
       "      <td>386.2</td>\n",
       "      <td>2122.8</td>\n",
       "      <td>666.1</td>\n",
       "      <td>NaN</td>\n",
       "      <td>NaN</td>\n",
       "    </tr>\n",
       "    <tr>\n",
       "      <th>...</th>\n",
       "      <td>...</td>\n",
       "      <td>...</td>\n",
       "      <td>...</td>\n",
       "      <td>...</td>\n",
       "      <td>...</td>\n",
       "      <td>...</td>\n",
       "      <td>...</td>\n",
       "      <td>...</td>\n",
       "      <td>...</td>\n",
       "      <td>...</td>\n",
       "      <td>...</td>\n",
       "      <td>...</td>\n",
       "    </tr>\n",
       "    <tr>\n",
       "      <th>1399</th>\n",
       "      <td>2017</td>\n",
       "      <td>AUG</td>\n",
       "      <td>462.6</td>\n",
       "      <td>2017-08-01</td>\n",
       "      <td>8</td>\n",
       "      <td>2664.9</td>\n",
       "      <td>13.0</td>\n",
       "      <td>353.9</td>\n",
       "      <td>1856.5</td>\n",
       "      <td>441.5</td>\n",
       "      <td>171.408333</td>\n",
       "      <td>2.698819</td>\n",
       "    </tr>\n",
       "    <tr>\n",
       "      <th>1400</th>\n",
       "      <td>2017</td>\n",
       "      <td>SEP</td>\n",
       "      <td>435.5</td>\n",
       "      <td>2017-09-01</td>\n",
       "      <td>9</td>\n",
       "      <td>2664.9</td>\n",
       "      <td>13.0</td>\n",
       "      <td>353.9</td>\n",
       "      <td>1856.5</td>\n",
       "      <td>441.5</td>\n",
       "      <td>200.691667</td>\n",
       "      <td>2.169995</td>\n",
       "    </tr>\n",
       "    <tr>\n",
       "      <th>1401</th>\n",
       "      <td>2017</td>\n",
       "      <td>OCT</td>\n",
       "      <td>228.0</td>\n",
       "      <td>2017-10-01</td>\n",
       "      <td>10</td>\n",
       "      <td>2664.9</td>\n",
       "      <td>13.0</td>\n",
       "      <td>353.9</td>\n",
       "      <td>1856.5</td>\n",
       "      <td>441.5</td>\n",
       "      <td>210.933333</td>\n",
       "      <td>1.080910</td>\n",
       "    </tr>\n",
       "    <tr>\n",
       "      <th>1402</th>\n",
       "      <td>2017</td>\n",
       "      <td>NOV</td>\n",
       "      <td>152.1</td>\n",
       "      <td>2017-11-01</td>\n",
       "      <td>11</td>\n",
       "      <td>2664.9</td>\n",
       "      <td>13.0</td>\n",
       "      <td>353.9</td>\n",
       "      <td>1856.5</td>\n",
       "      <td>441.5</td>\n",
       "      <td>218.783333</td>\n",
       "      <td>0.695208</td>\n",
       "    </tr>\n",
       "    <tr>\n",
       "      <th>1403</th>\n",
       "      <td>2017</td>\n",
       "      <td>DEC</td>\n",
       "      <td>61.4</td>\n",
       "      <td>2017-12-01</td>\n",
       "      <td>12</td>\n",
       "      <td>2664.9</td>\n",
       "      <td>13.0</td>\n",
       "      <td>353.9</td>\n",
       "      <td>1856.5</td>\n",
       "      <td>441.5</td>\n",
       "      <td>222.066667</td>\n",
       "      <td>0.276494</td>\n",
       "    </tr>\n",
       "  </tbody>\n",
       "</table>\n",
       "<p>1404 rows × 12 columns</p>\n",
       "</div>"
      ],
      "text/plain": [
       "      YEAR month    mms       date  month_no  annual    jf    mam    jjas  \\\n",
       "0     1901   JAN   28.7 1901-01-01         1  3248.6  73.4  386.2  2122.8   \n",
       "1     1901   FEB   44.7 1901-02-01         2  3248.6  73.4  386.2  2122.8   \n",
       "2     1901   MAR   51.6 1901-03-01         3  3248.6  73.4  386.2  2122.8   \n",
       "3     1901   APR  160.0 1901-04-01         4  3248.6  73.4  386.2  2122.8   \n",
       "4     1901   MAY  174.7 1901-05-01         5  3248.6  73.4  386.2  2122.8   \n",
       "...    ...   ...    ...        ...       ...     ...   ...    ...     ...   \n",
       "1399  2017   AUG  462.6 2017-08-01         8  2664.9  13.0  353.9  1856.5   \n",
       "1400  2017   SEP  435.5 2017-09-01         9  2664.9  13.0  353.9  1856.5   \n",
       "1401  2017   OCT  228.0 2017-10-01        10  2664.9  13.0  353.9  1856.5   \n",
       "1402  2017   NOV  152.1 2017-11-01        11  2664.9  13.0  353.9  1856.5   \n",
       "1403  2017   DEC   61.4 2017-12-01        12  2664.9  13.0  353.9  1856.5   \n",
       "\n",
       "        ond     mov_avg  ratio_ma  \n",
       "0     666.1         NaN       NaN  \n",
       "1     666.1         NaN       NaN  \n",
       "2     666.1         NaN       NaN  \n",
       "3     666.1         NaN       NaN  \n",
       "4     666.1         NaN       NaN  \n",
       "...     ...         ...       ...  \n",
       "1399  441.5  171.408333  2.698819  \n",
       "1400  441.5  200.691667  2.169995  \n",
       "1401  441.5  210.933333  1.080910  \n",
       "1402  441.5  218.783333  0.695208  \n",
       "1403  441.5  222.066667  0.276494  \n",
       "\n",
       "[1404 rows x 12 columns]"
      ]
     },
     "execution_count": 52,
     "metadata": {},
     "output_type": "execute_result"
    }
   ],
   "source": [
    "# calculate the seasonal factors for every month\n",
    "df_sorted['ratio_ma'] = df_sorted['mms'] / df_sorted['mov_avg']\n",
    "df_sorted"
   ]
  },
  {
   "cell_type": "code",
   "execution_count": 53,
   "metadata": {
    "execution": {
     "iopub.execute_input": "2021-08-25T08:42:51.880537Z",
     "iopub.status.busy": "2021-08-25T08:42:51.880239Z",
     "iopub.status.idle": "2021-08-25T08:42:51.938526Z",
     "shell.execute_reply": "2021-08-25T08:42:51.937345Z",
     "shell.execute_reply.started": "2021-08-25T08:42:51.880510Z"
    }
   },
   "outputs": [
    {
     "data": {
      "text/html": [
       "<div>\n",
       "<style scoped>\n",
       "    .dataframe tbody tr th:only-of-type {\n",
       "        vertical-align: middle;\n",
       "    }\n",
       "\n",
       "    .dataframe tbody tr th {\n",
       "        vertical-align: top;\n",
       "    }\n",
       "\n",
       "    .dataframe thead th {\n",
       "        text-align: right;\n",
       "    }\n",
       "</style>\n",
       "<table border=\"1\" class=\"dataframe\">\n",
       "  <thead>\n",
       "    <tr style=\"text-align: right;\">\n",
       "      <th></th>\n",
       "      <th>YEAR</th>\n",
       "      <th>month</th>\n",
       "      <th>mms</th>\n",
       "      <th>date</th>\n",
       "      <th>month_no</th>\n",
       "      <th>annual</th>\n",
       "      <th>jf</th>\n",
       "      <th>mam</th>\n",
       "      <th>jjas</th>\n",
       "      <th>ond</th>\n",
       "      <th>mov_avg</th>\n",
       "      <th>ratio_ma</th>\n",
       "      <th>rate</th>\n",
       "    </tr>\n",
       "  </thead>\n",
       "  <tbody>\n",
       "    <tr>\n",
       "      <th>0</th>\n",
       "      <td>1901</td>\n",
       "      <td>JAN</td>\n",
       "      <td>28.7</td>\n",
       "      <td>1901-01-01</td>\n",
       "      <td>1</td>\n",
       "      <td>3248.6</td>\n",
       "      <td>73.4</td>\n",
       "      <td>386.2</td>\n",
       "      <td>2122.8</td>\n",
       "      <td>666.1</td>\n",
       "      <td>NaN</td>\n",
       "      <td>NaN</td>\n",
       "      <td>0.049417</td>\n",
       "    </tr>\n",
       "    <tr>\n",
       "      <th>1</th>\n",
       "      <td>1901</td>\n",
       "      <td>FEB</td>\n",
       "      <td>44.7</td>\n",
       "      <td>1901-02-01</td>\n",
       "      <td>2</td>\n",
       "      <td>3248.6</td>\n",
       "      <td>73.4</td>\n",
       "      <td>386.2</td>\n",
       "      <td>2122.8</td>\n",
       "      <td>666.1</td>\n",
       "      <td>NaN</td>\n",
       "      <td>NaN</td>\n",
       "      <td>0.062845</td>\n",
       "    </tr>\n",
       "    <tr>\n",
       "      <th>2</th>\n",
       "      <td>1901</td>\n",
       "      <td>MAR</td>\n",
       "      <td>51.6</td>\n",
       "      <td>1901-03-01</td>\n",
       "      <td>3</td>\n",
       "      <td>3248.6</td>\n",
       "      <td>73.4</td>\n",
       "      <td>386.2</td>\n",
       "      <td>2122.8</td>\n",
       "      <td>666.1</td>\n",
       "      <td>NaN</td>\n",
       "      <td>NaN</td>\n",
       "      <td>0.154157</td>\n",
       "    </tr>\n",
       "    <tr>\n",
       "      <th>3</th>\n",
       "      <td>1901</td>\n",
       "      <td>APR</td>\n",
       "      <td>160.0</td>\n",
       "      <td>1901-04-01</td>\n",
       "      <td>4</td>\n",
       "      <td>3248.6</td>\n",
       "      <td>73.4</td>\n",
       "      <td>386.2</td>\n",
       "      <td>2122.8</td>\n",
       "      <td>666.1</td>\n",
       "      <td>NaN</td>\n",
       "      <td>NaN</td>\n",
       "      <td>0.453575</td>\n",
       "    </tr>\n",
       "    <tr>\n",
       "      <th>4</th>\n",
       "      <td>1901</td>\n",
       "      <td>MAY</td>\n",
       "      <td>174.7</td>\n",
       "      <td>1901-05-01</td>\n",
       "      <td>5</td>\n",
       "      <td>3248.6</td>\n",
       "      <td>73.4</td>\n",
       "      <td>386.2</td>\n",
       "      <td>2122.8</td>\n",
       "      <td>666.1</td>\n",
       "      <td>NaN</td>\n",
       "      <td>NaN</td>\n",
       "      <td>0.930244</td>\n",
       "    </tr>\n",
       "    <tr>\n",
       "      <th>...</th>\n",
       "      <td>...</td>\n",
       "      <td>...</td>\n",
       "      <td>...</td>\n",
       "      <td>...</td>\n",
       "      <td>...</td>\n",
       "      <td>...</td>\n",
       "      <td>...</td>\n",
       "      <td>...</td>\n",
       "      <td>...</td>\n",
       "      <td>...</td>\n",
       "      <td>...</td>\n",
       "      <td>...</td>\n",
       "      <td>...</td>\n",
       "    </tr>\n",
       "    <tr>\n",
       "      <th>1399</th>\n",
       "      <td>2017</td>\n",
       "      <td>AUG</td>\n",
       "      <td>462.6</td>\n",
       "      <td>2017-08-01</td>\n",
       "      <td>8</td>\n",
       "      <td>2664.9</td>\n",
       "      <td>13.0</td>\n",
       "      <td>353.9</td>\n",
       "      <td>1856.5</td>\n",
       "      <td>441.5</td>\n",
       "      <td>171.408333</td>\n",
       "      <td>2.698819</td>\n",
       "      <td>1.738357</td>\n",
       "    </tr>\n",
       "    <tr>\n",
       "      <th>1400</th>\n",
       "      <td>2017</td>\n",
       "      <td>SEP</td>\n",
       "      <td>435.5</td>\n",
       "      <td>2017-09-01</td>\n",
       "      <td>9</td>\n",
       "      <td>2664.9</td>\n",
       "      <td>13.0</td>\n",
       "      <td>353.9</td>\n",
       "      <td>1856.5</td>\n",
       "      <td>441.5</td>\n",
       "      <td>200.691667</td>\n",
       "      <td>2.169995</td>\n",
       "      <td>1.009300</td>\n",
       "    </tr>\n",
       "    <tr>\n",
       "      <th>1401</th>\n",
       "      <td>2017</td>\n",
       "      <td>OCT</td>\n",
       "      <td>228.0</td>\n",
       "      <td>2017-10-01</td>\n",
       "      <td>10</td>\n",
       "      <td>2664.9</td>\n",
       "      <td>13.0</td>\n",
       "      <td>353.9</td>\n",
       "      <td>1856.5</td>\n",
       "      <td>441.5</td>\n",
       "      <td>210.933333</td>\n",
       "      <td>1.080910</td>\n",
       "      <td>1.216487</td>\n",
       "    </tr>\n",
       "    <tr>\n",
       "      <th>1402</th>\n",
       "      <td>2017</td>\n",
       "      <td>NOV</td>\n",
       "      <td>152.1</td>\n",
       "      <td>2017-11-01</td>\n",
       "      <td>11</td>\n",
       "      <td>2664.9</td>\n",
       "      <td>13.0</td>\n",
       "      <td>353.9</td>\n",
       "      <td>1856.5</td>\n",
       "      <td>441.5</td>\n",
       "      <td>218.783333</td>\n",
       "      <td>0.695208</td>\n",
       "      <td>0.669488</td>\n",
       "    </tr>\n",
       "    <tr>\n",
       "      <th>1403</th>\n",
       "      <td>2017</td>\n",
       "      <td>DEC</td>\n",
       "      <td>61.4</td>\n",
       "      <td>2017-12-01</td>\n",
       "      <td>12</td>\n",
       "      <td>2664.9</td>\n",
       "      <td>13.0</td>\n",
       "      <td>353.9</td>\n",
       "      <td>1856.5</td>\n",
       "      <td>441.5</td>\n",
       "      <td>222.066667</td>\n",
       "      <td>0.276494</td>\n",
       "      <td>0.167837</td>\n",
       "    </tr>\n",
       "  </tbody>\n",
       "</table>\n",
       "<p>1404 rows × 13 columns</p>\n",
       "</div>"
      ],
      "text/plain": [
       "      YEAR month    mms       date  month_no  annual    jf    mam    jjas  \\\n",
       "0     1901   JAN   28.7 1901-01-01         1  3248.6  73.4  386.2  2122.8   \n",
       "1     1901   FEB   44.7 1901-02-01         2  3248.6  73.4  386.2  2122.8   \n",
       "2     1901   MAR   51.6 1901-03-01         3  3248.6  73.4  386.2  2122.8   \n",
       "3     1901   APR  160.0 1901-04-01         4  3248.6  73.4  386.2  2122.8   \n",
       "4     1901   MAY  174.7 1901-05-01         5  3248.6  73.4  386.2  2122.8   \n",
       "...    ...   ...    ...        ...       ...     ...   ...    ...     ...   \n",
       "1399  2017   AUG  462.6 2017-08-01         8  2664.9  13.0  353.9  1856.5   \n",
       "1400  2017   SEP  435.5 2017-09-01         9  2664.9  13.0  353.9  1856.5   \n",
       "1401  2017   OCT  228.0 2017-10-01        10  2664.9  13.0  353.9  1856.5   \n",
       "1402  2017   NOV  152.1 2017-11-01        11  2664.9  13.0  353.9  1856.5   \n",
       "1403  2017   DEC   61.4 2017-12-01        12  2664.9  13.0  353.9  1856.5   \n",
       "\n",
       "        ond     mov_avg  ratio_ma      rate  \n",
       "0     666.1         NaN       NaN  0.049417  \n",
       "1     666.1         NaN       NaN  0.062845  \n",
       "2     666.1         NaN       NaN  0.154157  \n",
       "3     666.1         NaN       NaN  0.453575  \n",
       "4     666.1         NaN       NaN  0.930244  \n",
       "...     ...         ...       ...       ...  \n",
       "1399  441.5  171.408333  2.698819  1.738357  \n",
       "1400  441.5  200.691667  2.169995  1.009300  \n",
       "1401  441.5  210.933333  1.080910  1.216487  \n",
       "1402  441.5  218.783333  0.695208  0.669488  \n",
       "1403  441.5  222.066667  0.276494  0.167837  \n",
       "\n",
       "[1404 rows x 13 columns]"
      ]
     },
     "execution_count": 53,
     "metadata": {},
     "output_type": "execute_result"
    }
   ],
   "source": [
    "# get the average seasonal factors to fit back into the months\n",
    "for month in range(12):\n",
    "    rate_avg = df_sorted.loc[df_sorted['month_no'].astype('int') == month+1, 'ratio_ma'].mean()\n",
    "    df_sorted.loc[df_sorted['month_no'].astype('int') == month+1, 'rate'] = rate_avg\n",
    "df_sorted"
   ]
  },
  {
   "cell_type": "code",
   "execution_count": 54,
   "metadata": {
    "execution": {
     "iopub.execute_input": "2021-08-25T08:42:51.941572Z",
     "iopub.status.busy": "2021-08-25T08:42:51.940556Z",
     "iopub.status.idle": "2021-08-25T08:42:51.986970Z",
     "shell.execute_reply": "2021-08-25T08:42:51.985459Z",
     "shell.execute_reply.started": "2021-08-25T08:42:51.941514Z"
    }
   },
   "outputs": [
    {
     "data": {
      "text/html": [
       "<div>\n",
       "<style scoped>\n",
       "    .dataframe tbody tr th:only-of-type {\n",
       "        vertical-align: middle;\n",
       "    }\n",
       "\n",
       "    .dataframe tbody tr th {\n",
       "        vertical-align: top;\n",
       "    }\n",
       "\n",
       "    .dataframe thead th {\n",
       "        text-align: right;\n",
       "    }\n",
       "</style>\n",
       "<table border=\"1\" class=\"dataframe\">\n",
       "  <thead>\n",
       "    <tr style=\"text-align: right;\">\n",
       "      <th></th>\n",
       "      <th>YEAR</th>\n",
       "      <th>month</th>\n",
       "      <th>mms</th>\n",
       "      <th>date</th>\n",
       "      <th>month_no</th>\n",
       "      <th>annual</th>\n",
       "      <th>jf</th>\n",
       "      <th>mam</th>\n",
       "      <th>jjas</th>\n",
       "      <th>ond</th>\n",
       "      <th>mov_avg</th>\n",
       "      <th>ratio_ma</th>\n",
       "      <th>rate</th>\n",
       "      <th>deseasonal</th>\n",
       "    </tr>\n",
       "  </thead>\n",
       "  <tbody>\n",
       "    <tr>\n",
       "      <th>0</th>\n",
       "      <td>1901</td>\n",
       "      <td>JAN</td>\n",
       "      <td>28.7</td>\n",
       "      <td>1901-01-01</td>\n",
       "      <td>1</td>\n",
       "      <td>3248.6</td>\n",
       "      <td>73.4</td>\n",
       "      <td>386.2</td>\n",
       "      <td>2122.8</td>\n",
       "      <td>666.1</td>\n",
       "      <td>NaN</td>\n",
       "      <td>NaN</td>\n",
       "      <td>0.049417</td>\n",
       "      <td>580.776307</td>\n",
       "    </tr>\n",
       "    <tr>\n",
       "      <th>1</th>\n",
       "      <td>1901</td>\n",
       "      <td>FEB</td>\n",
       "      <td>44.7</td>\n",
       "      <td>1901-02-01</td>\n",
       "      <td>2</td>\n",
       "      <td>3248.6</td>\n",
       "      <td>73.4</td>\n",
       "      <td>386.2</td>\n",
       "      <td>2122.8</td>\n",
       "      <td>666.1</td>\n",
       "      <td>NaN</td>\n",
       "      <td>NaN</td>\n",
       "      <td>0.062845</td>\n",
       "      <td>711.271572</td>\n",
       "    </tr>\n",
       "    <tr>\n",
       "      <th>2</th>\n",
       "      <td>1901</td>\n",
       "      <td>MAR</td>\n",
       "      <td>51.6</td>\n",
       "      <td>1901-03-01</td>\n",
       "      <td>3</td>\n",
       "      <td>3248.6</td>\n",
       "      <td>73.4</td>\n",
       "      <td>386.2</td>\n",
       "      <td>2122.8</td>\n",
       "      <td>666.1</td>\n",
       "      <td>NaN</td>\n",
       "      <td>NaN</td>\n",
       "      <td>0.154157</td>\n",
       "      <td>334.723229</td>\n",
       "    </tr>\n",
       "    <tr>\n",
       "      <th>3</th>\n",
       "      <td>1901</td>\n",
       "      <td>APR</td>\n",
       "      <td>160.0</td>\n",
       "      <td>1901-04-01</td>\n",
       "      <td>4</td>\n",
       "      <td>3248.6</td>\n",
       "      <td>73.4</td>\n",
       "      <td>386.2</td>\n",
       "      <td>2122.8</td>\n",
       "      <td>666.1</td>\n",
       "      <td>NaN</td>\n",
       "      <td>NaN</td>\n",
       "      <td>0.453575</td>\n",
       "      <td>352.753471</td>\n",
       "    </tr>\n",
       "    <tr>\n",
       "      <th>4</th>\n",
       "      <td>1901</td>\n",
       "      <td>MAY</td>\n",
       "      <td>174.7</td>\n",
       "      <td>1901-05-01</td>\n",
       "      <td>5</td>\n",
       "      <td>3248.6</td>\n",
       "      <td>73.4</td>\n",
       "      <td>386.2</td>\n",
       "      <td>2122.8</td>\n",
       "      <td>666.1</td>\n",
       "      <td>NaN</td>\n",
       "      <td>NaN</td>\n",
       "      <td>0.930244</td>\n",
       "      <td>187.800126</td>\n",
       "    </tr>\n",
       "    <tr>\n",
       "      <th>5</th>\n",
       "      <td>1901</td>\n",
       "      <td>JUN</td>\n",
       "      <td>824.6</td>\n",
       "      <td>1901-06-01</td>\n",
       "      <td>6</td>\n",
       "      <td>3248.6</td>\n",
       "      <td>73.4</td>\n",
       "      <td>386.2</td>\n",
       "      <td>2122.8</td>\n",
       "      <td>666.1</td>\n",
       "      <td>NaN</td>\n",
       "      <td>NaN</td>\n",
       "      <td>2.694557</td>\n",
       "      <td>306.024385</td>\n",
       "    </tr>\n",
       "    <tr>\n",
       "      <th>6</th>\n",
       "      <td>1901</td>\n",
       "      <td>JUL</td>\n",
       "      <td>743.0</td>\n",
       "      <td>1901-07-01</td>\n",
       "      <td>7</td>\n",
       "      <td>3248.6</td>\n",
       "      <td>73.4</td>\n",
       "      <td>386.2</td>\n",
       "      <td>2122.8</td>\n",
       "      <td>666.1</td>\n",
       "      <td>NaN</td>\n",
       "      <td>NaN</td>\n",
       "      <td>2.847874</td>\n",
       "      <td>260.896381</td>\n",
       "    </tr>\n",
       "    <tr>\n",
       "      <th>7</th>\n",
       "      <td>1901</td>\n",
       "      <td>AUG</td>\n",
       "      <td>357.5</td>\n",
       "      <td>1901-08-01</td>\n",
       "      <td>8</td>\n",
       "      <td>3248.6</td>\n",
       "      <td>73.4</td>\n",
       "      <td>386.2</td>\n",
       "      <td>2122.8</td>\n",
       "      <td>666.1</td>\n",
       "      <td>NaN</td>\n",
       "      <td>NaN</td>\n",
       "      <td>1.738357</td>\n",
       "      <td>205.653905</td>\n",
       "    </tr>\n",
       "    <tr>\n",
       "      <th>8</th>\n",
       "      <td>1901</td>\n",
       "      <td>SEP</td>\n",
       "      <td>197.7</td>\n",
       "      <td>1901-09-01</td>\n",
       "      <td>9</td>\n",
       "      <td>3248.6</td>\n",
       "      <td>73.4</td>\n",
       "      <td>386.2</td>\n",
       "      <td>2122.8</td>\n",
       "      <td>666.1</td>\n",
       "      <td>NaN</td>\n",
       "      <td>NaN</td>\n",
       "      <td>1.009300</td>\n",
       "      <td>195.878426</td>\n",
       "    </tr>\n",
       "    <tr>\n",
       "      <th>9</th>\n",
       "      <td>1901</td>\n",
       "      <td>OCT</td>\n",
       "      <td>266.9</td>\n",
       "      <td>1901-10-01</td>\n",
       "      <td>10</td>\n",
       "      <td>3248.6</td>\n",
       "      <td>73.4</td>\n",
       "      <td>386.2</td>\n",
       "      <td>2122.8</td>\n",
       "      <td>666.1</td>\n",
       "      <td>NaN</td>\n",
       "      <td>NaN</td>\n",
       "      <td>1.216487</td>\n",
       "      <td>219.402349</td>\n",
       "    </tr>\n",
       "    <tr>\n",
       "      <th>10</th>\n",
       "      <td>1901</td>\n",
       "      <td>NOV</td>\n",
       "      <td>350.8</td>\n",
       "      <td>1901-11-01</td>\n",
       "      <td>11</td>\n",
       "      <td>3248.6</td>\n",
       "      <td>73.4</td>\n",
       "      <td>386.2</td>\n",
       "      <td>2122.8</td>\n",
       "      <td>666.1</td>\n",
       "      <td>NaN</td>\n",
       "      <td>NaN</td>\n",
       "      <td>0.669488</td>\n",
       "      <td>523.982727</td>\n",
       "    </tr>\n",
       "    <tr>\n",
       "      <th>11</th>\n",
       "      <td>1901</td>\n",
       "      <td>DEC</td>\n",
       "      <td>48.4</td>\n",
       "      <td>1901-12-01</td>\n",
       "      <td>12</td>\n",
       "      <td>3248.6</td>\n",
       "      <td>73.4</td>\n",
       "      <td>386.2</td>\n",
       "      <td>2122.8</td>\n",
       "      <td>666.1</td>\n",
       "      <td>270.716667</td>\n",
       "      <td>0.178785</td>\n",
       "      <td>0.167837</td>\n",
       "      <td>288.375561</td>\n",
       "    </tr>\n",
       "    <tr>\n",
       "      <th>12</th>\n",
       "      <td>1902</td>\n",
       "      <td>JAN</td>\n",
       "      <td>6.7</td>\n",
       "      <td>1902-01-01</td>\n",
       "      <td>1</td>\n",
       "      <td>3326.6</td>\n",
       "      <td>9.3</td>\n",
       "      <td>275.7</td>\n",
       "      <td>2403.4</td>\n",
       "      <td>638.2</td>\n",
       "      <td>268.883333</td>\n",
       "      <td>0.024918</td>\n",
       "      <td>0.049417</td>\n",
       "      <td>135.581925</td>\n",
       "    </tr>\n",
       "    <tr>\n",
       "      <th>13</th>\n",
       "      <td>1902</td>\n",
       "      <td>FEB</td>\n",
       "      <td>2.6</td>\n",
       "      <td>1902-02-01</td>\n",
       "      <td>2</td>\n",
       "      <td>3326.6</td>\n",
       "      <td>9.3</td>\n",
       "      <td>275.7</td>\n",
       "      <td>2403.4</td>\n",
       "      <td>638.2</td>\n",
       "      <td>265.375000</td>\n",
       "      <td>0.009797</td>\n",
       "      <td>0.062845</td>\n",
       "      <td>41.371501</td>\n",
       "    </tr>\n",
       "    <tr>\n",
       "      <th>14</th>\n",
       "      <td>1902</td>\n",
       "      <td>MAR</td>\n",
       "      <td>57.3</td>\n",
       "      <td>1902-03-01</td>\n",
       "      <td>3</td>\n",
       "      <td>3326.6</td>\n",
       "      <td>9.3</td>\n",
       "      <td>275.7</td>\n",
       "      <td>2403.4</td>\n",
       "      <td>638.2</td>\n",
       "      <td>265.850000</td>\n",
       "      <td>0.215535</td>\n",
       "      <td>0.154157</td>\n",
       "      <td>371.698470</td>\n",
       "    </tr>\n",
       "    <tr>\n",
       "      <th>15</th>\n",
       "      <td>1902</td>\n",
       "      <td>APR</td>\n",
       "      <td>83.9</td>\n",
       "      <td>1902-04-01</td>\n",
       "      <td>4</td>\n",
       "      <td>3326.6</td>\n",
       "      <td>9.3</td>\n",
       "      <td>275.7</td>\n",
       "      <td>2403.4</td>\n",
       "      <td>638.2</td>\n",
       "      <td>259.508333</td>\n",
       "      <td>0.323304</td>\n",
       "      <td>0.453575</td>\n",
       "      <td>184.975101</td>\n",
       "    </tr>\n",
       "  </tbody>\n",
       "</table>\n",
       "</div>"
      ],
      "text/plain": [
       "    YEAR month    mms       date  month_no  annual    jf    mam    jjas  \\\n",
       "0   1901   JAN   28.7 1901-01-01         1  3248.6  73.4  386.2  2122.8   \n",
       "1   1901   FEB   44.7 1901-02-01         2  3248.6  73.4  386.2  2122.8   \n",
       "2   1901   MAR   51.6 1901-03-01         3  3248.6  73.4  386.2  2122.8   \n",
       "3   1901   APR  160.0 1901-04-01         4  3248.6  73.4  386.2  2122.8   \n",
       "4   1901   MAY  174.7 1901-05-01         5  3248.6  73.4  386.2  2122.8   \n",
       "5   1901   JUN  824.6 1901-06-01         6  3248.6  73.4  386.2  2122.8   \n",
       "6   1901   JUL  743.0 1901-07-01         7  3248.6  73.4  386.2  2122.8   \n",
       "7   1901   AUG  357.5 1901-08-01         8  3248.6  73.4  386.2  2122.8   \n",
       "8   1901   SEP  197.7 1901-09-01         9  3248.6  73.4  386.2  2122.8   \n",
       "9   1901   OCT  266.9 1901-10-01        10  3248.6  73.4  386.2  2122.8   \n",
       "10  1901   NOV  350.8 1901-11-01        11  3248.6  73.4  386.2  2122.8   \n",
       "11  1901   DEC   48.4 1901-12-01        12  3248.6  73.4  386.2  2122.8   \n",
       "12  1902   JAN    6.7 1902-01-01         1  3326.6   9.3  275.7  2403.4   \n",
       "13  1902   FEB    2.6 1902-02-01         2  3326.6   9.3  275.7  2403.4   \n",
       "14  1902   MAR   57.3 1902-03-01         3  3326.6   9.3  275.7  2403.4   \n",
       "15  1902   APR   83.9 1902-04-01         4  3326.6   9.3  275.7  2403.4   \n",
       "\n",
       "      ond     mov_avg  ratio_ma      rate  deseasonal  \n",
       "0   666.1         NaN       NaN  0.049417  580.776307  \n",
       "1   666.1         NaN       NaN  0.062845  711.271572  \n",
       "2   666.1         NaN       NaN  0.154157  334.723229  \n",
       "3   666.1         NaN       NaN  0.453575  352.753471  \n",
       "4   666.1         NaN       NaN  0.930244  187.800126  \n",
       "5   666.1         NaN       NaN  2.694557  306.024385  \n",
       "6   666.1         NaN       NaN  2.847874  260.896381  \n",
       "7   666.1         NaN       NaN  1.738357  205.653905  \n",
       "8   666.1         NaN       NaN  1.009300  195.878426  \n",
       "9   666.1         NaN       NaN  1.216487  219.402349  \n",
       "10  666.1         NaN       NaN  0.669488  523.982727  \n",
       "11  666.1  270.716667  0.178785  0.167837  288.375561  \n",
       "12  638.2  268.883333  0.024918  0.049417  135.581925  \n",
       "13  638.2  265.375000  0.009797  0.062845   41.371501  \n",
       "14  638.2  265.850000  0.215535  0.154157  371.698470  \n",
       "15  638.2  259.508333  0.323304  0.453575  184.975101  "
      ]
     },
     "execution_count": 54,
     "metadata": {},
     "output_type": "execute_result"
    }
   ],
   "source": [
    "# use the average factors to get deseasonalized numbers\n",
    "df_sorted['deseasonal'] = df_sorted['mms'] / df_sorted['rate']\n",
    "df_sorted.head(16)"
   ]
  },
  {
   "cell_type": "code",
   "execution_count": 55,
   "metadata": {
    "execution": {
     "iopub.execute_input": "2021-08-25T08:42:52.325045Z",
     "iopub.status.busy": "2021-08-25T08:42:52.324753Z",
     "iopub.status.idle": "2021-08-25T08:42:52.342679Z",
     "shell.execute_reply": "2021-08-25T08:42:52.341279Z",
     "shell.execute_reply.started": "2021-08-25T08:42:52.325017Z"
    }
   },
   "outputs": [
    {
     "name": "stdout",
     "output_type": "stream",
     "text": [
      "Original Rainfall\n",
      "Intercept: 257.92735438711924, Coefficient: -0.021455734565719836\n",
      "R-Squared: 0.0011508387916198126\n"
     ]
    }
   ],
   "source": [
    "df_sorted['period'] = df_sorted.index + 1\n",
    "\n",
    "X_train = df_sorted['period']\n",
    "y_train = df_sorted['mms']\n",
    "X_train = sm.add_constant(X_train)\n",
    "olsreg = sm.OLS(y_train, X_train)\n",
    "olsreg = olsreg.fit()\n",
    "print('Original Rainfall')\n",
    "print('Intercept: {}, Coefficient: {}'.format(olsreg.params[0], olsreg.params[1]))\n",
    "print('R-Squared:', olsreg.rsquared)"
   ]
  },
  {
   "cell_type": "code",
   "execution_count": 56,
   "metadata": {
    "execution": {
     "iopub.execute_input": "2021-08-25T08:42:52.344914Z",
     "iopub.status.busy": "2021-08-25T08:42:52.344339Z",
     "iopub.status.idle": "2021-08-25T08:42:52.368848Z",
     "shell.execute_reply": "2021-08-25T08:42:52.367722Z",
     "shell.execute_reply.started": "2021-08-25T08:42:52.344868Z"
    }
   },
   "outputs": [
    {
     "name": "stdout",
     "output_type": "stream",
     "text": [
      "Deseasonalized Rainfall\n",
      "Intercept: 264.4360132473951, Coefficient: -0.0307920960935075\n",
      "R-Squared: 0.005512372162586376\n",
      "                            OLS Regression Results                            \n",
      "==============================================================================\n",
      "Dep. Variable:             deseasonal   R-squared:                       0.006\n",
      "Model:                            OLS   Adj. R-squared:                  0.005\n",
      "Method:                 Least Squares   F-statistic:                     7.771\n",
      "Date:                Sat, 20 Nov 2021   Prob (F-statistic):            0.00538\n",
      "Time:                        13:31:00   Log-Likelihood:                -9183.1\n",
      "No. Observations:                1404   AIC:                         1.837e+04\n",
      "Df Residuals:                    1402   BIC:                         1.838e+04\n",
      "Df Model:                           1                                         \n",
      "Covariance Type:            nonrobust                                         \n",
      "==============================================================================\n",
      "                 coef    std err          t      P>|t|      [0.025      0.975]\n",
      "------------------------------------------------------------------------------\n",
      "const        264.4360      8.958     29.518      0.000     246.863     282.009\n",
      "period        -0.0308      0.011     -2.788      0.005      -0.052      -0.009\n",
      "==============================================================================\n",
      "Omnibus:                      788.408   Durbin-Watson:                   1.889\n",
      "Prob(Omnibus):                  0.000   Jarque-Bera (JB):             9292.569\n",
      "Skew:                           2.379   Prob(JB):                         0.00\n",
      "Kurtosis:                      14.670   Cond. No.                     1.62e+03\n",
      "==============================================================================\n",
      "\n",
      "Warnings:\n",
      "[1] Standard Errors assume that the covariance matrix of the errors is correctly specified.\n",
      "[2] The condition number is large, 1.62e+03. This might indicate that there are\n",
      "strong multicollinearity or other numerical problems.\n"
     ]
    }
   ],
   "source": [
    "X_train = df_sorted['period']\n",
    "y_train = df_sorted['deseasonal']\n",
    "X_train = sm.add_constant(X_train)\n",
    "olsreg = sm.OLS(y_train, X_train)\n",
    "olsreg = olsreg.fit()\n",
    "print('Deseasonalized Rainfall')\n",
    "print('Intercept: {}, Coefficient: {}'.format(olsreg.params[0], olsreg.params[1]))\n",
    "print('R-Squared:', olsreg.rsquared)\n",
    "print(olsreg.summary())"
   ]
  },
  {
   "cell_type": "markdown",
   "metadata": {},
   "source": [
    "Comparing the R-squared number of the original model to the deseasonalized model, the improvement only increases from 0.001 to 0.006. The optimized regression can only explain 0.6% of variables, which is very bad. Thus, the next step is to try another way to optimize this prediction model.\n",
    "\n",
    "### 4.1.2  Optimize The Model by 4 Seasons"
   ]
  },
  {
   "cell_type": "code",
   "execution_count": 57,
   "metadata": {
    "execution": {
     "iopub.execute_input": "2021-08-25T08:42:52.370527Z",
     "iopub.status.busy": "2021-08-25T08:42:52.370199Z",
     "iopub.status.idle": "2021-08-25T08:42:52.429905Z",
     "shell.execute_reply": "2021-08-25T08:42:52.428637Z",
     "shell.execute_reply.started": "2021-08-25T08:42:52.370474Z"
    }
   },
   "outputs": [
    {
     "data": {
      "text/html": [
       "<div>\n",
       "<style scoped>\n",
       "    .dataframe tbody tr th:only-of-type {\n",
       "        vertical-align: middle;\n",
       "    }\n",
       "\n",
       "    .dataframe tbody tr th {\n",
       "        vertical-align: top;\n",
       "    }\n",
       "\n",
       "    .dataframe thead th {\n",
       "        text-align: right;\n",
       "    }\n",
       "</style>\n",
       "<table border=\"1\" class=\"dataframe\">\n",
       "  <thead>\n",
       "    <tr style=\"text-align: right;\">\n",
       "      <th></th>\n",
       "      <th>YEAR</th>\n",
       "      <th>season</th>\n",
       "      <th>q_mms</th>\n",
       "      <th>season_no</th>\n",
       "      <th>year_s</th>\n",
       "      <th>mov_avg</th>\n",
       "      <th>ratio_s</th>\n",
       "      <th>rate</th>\n",
       "      <th>deseasonal</th>\n",
       "      <th>period</th>\n",
       "    </tr>\n",
       "  </thead>\n",
       "  <tbody>\n",
       "    <tr>\n",
       "      <th>0</th>\n",
       "      <td>1901</td>\n",
       "      <td>JF</td>\n",
       "      <td>73.4</td>\n",
       "      <td>1</td>\n",
       "      <td>1901-s1</td>\n",
       "      <td>NaN</td>\n",
       "      <td>NaN</td>\n",
       "      <td>0.037439</td>\n",
       "      <td>1960.515942</td>\n",
       "      <td>1</td>\n",
       "    </tr>\n",
       "    <tr>\n",
       "      <th>1</th>\n",
       "      <td>1901</td>\n",
       "      <td>MAM</td>\n",
       "      <td>386.2</td>\n",
       "      <td>2</td>\n",
       "      <td>1901-s2</td>\n",
       "      <td>NaN</td>\n",
       "      <td>NaN</td>\n",
       "      <td>0.513478</td>\n",
       "      <td>752.125969</td>\n",
       "      <td>2</td>\n",
       "    </tr>\n",
       "    <tr>\n",
       "      <th>2</th>\n",
       "      <td>1901</td>\n",
       "      <td>JJAS</td>\n",
       "      <td>2122.8</td>\n",
       "      <td>3</td>\n",
       "      <td>1901-s3</td>\n",
       "      <td>NaN</td>\n",
       "      <td>NaN</td>\n",
       "      <td>2.759032</td>\n",
       "      <td>769.400333</td>\n",
       "      <td>3</td>\n",
       "    </tr>\n",
       "    <tr>\n",
       "      <th>3</th>\n",
       "      <td>1901</td>\n",
       "      <td>OND</td>\n",
       "      <td>666.1</td>\n",
       "      <td>4</td>\n",
       "      <td>1901-s4</td>\n",
       "      <td>812.125</td>\n",
       "      <td>0.820194</td>\n",
       "      <td>0.685043</td>\n",
       "      <td>972.348395</td>\n",
       "      <td>4</td>\n",
       "    </tr>\n",
       "    <tr>\n",
       "      <th>4</th>\n",
       "      <td>1902</td>\n",
       "      <td>JF</td>\n",
       "      <td>9.3</td>\n",
       "      <td>1</td>\n",
       "      <td>1902-s1</td>\n",
       "      <td>796.100</td>\n",
       "      <td>0.011682</td>\n",
       "      <td>0.037439</td>\n",
       "      <td>248.403246</td>\n",
       "      <td>5</td>\n",
       "    </tr>\n",
       "    <tr>\n",
       "      <th>...</th>\n",
       "      <td>...</td>\n",
       "      <td>...</td>\n",
       "      <td>...</td>\n",
       "      <td>...</td>\n",
       "      <td>...</td>\n",
       "      <td>...</td>\n",
       "      <td>...</td>\n",
       "      <td>...</td>\n",
       "      <td>...</td>\n",
       "      <td>...</td>\n",
       "    </tr>\n",
       "    <tr>\n",
       "      <th>463</th>\n",
       "      <td>2016</td>\n",
       "      <td>OND</td>\n",
       "      <td>185.0</td>\n",
       "      <td>4</td>\n",
       "      <td>2016-s4</td>\n",
       "      <td>467.700</td>\n",
       "      <td>0.395553</td>\n",
       "      <td>0.685043</td>\n",
       "      <td>270.056227</td>\n",
       "      <td>464</td>\n",
       "    </tr>\n",
       "    <tr>\n",
       "      <th>464</th>\n",
       "      <td>2017</td>\n",
       "      <td>JF</td>\n",
       "      <td>13.0</td>\n",
       "      <td>1</td>\n",
       "      <td>2017-s1</td>\n",
       "      <td>466.125</td>\n",
       "      <td>0.027890</td>\n",
       "      <td>0.037439</td>\n",
       "      <td>347.230344</td>\n",
       "      <td>465</td>\n",
       "    </tr>\n",
       "    <tr>\n",
       "      <th>465</th>\n",
       "      <td>2017</td>\n",
       "      <td>MAM</td>\n",
       "      <td>353.9</td>\n",
       "      <td>2</td>\n",
       "      <td>2017-s2</td>\n",
       "      <td>476.050</td>\n",
       "      <td>0.743409</td>\n",
       "      <td>0.513478</td>\n",
       "      <td>689.221596</td>\n",
       "      <td>466</td>\n",
       "    </tr>\n",
       "    <tr>\n",
       "      <th>466</th>\n",
       "      <td>2017</td>\n",
       "      <td>JJAS</td>\n",
       "      <td>1856.5</td>\n",
       "      <td>3</td>\n",
       "      <td>2017-s3</td>\n",
       "      <td>602.100</td>\n",
       "      <td>3.083375</td>\n",
       "      <td>2.759032</td>\n",
       "      <td>672.880968</td>\n",
       "      <td>467</td>\n",
       "    </tr>\n",
       "    <tr>\n",
       "      <th>467</th>\n",
       "      <td>2017</td>\n",
       "      <td>OND</td>\n",
       "      <td>441.5</td>\n",
       "      <td>4</td>\n",
       "      <td>2017-s4</td>\n",
       "      <td>666.225</td>\n",
       "      <td>0.662689</td>\n",
       "      <td>0.685043</td>\n",
       "      <td>644.485537</td>\n",
       "      <td>468</td>\n",
       "    </tr>\n",
       "  </tbody>\n",
       "</table>\n",
       "<p>468 rows × 10 columns</p>\n",
       "</div>"
      ],
      "text/plain": [
       "     YEAR season   q_mms season_no   year_s  mov_avg   ratio_s      rate  \\\n",
       "0    1901     JF    73.4         1  1901-s1      NaN       NaN  0.037439   \n",
       "1    1901    MAM   386.2         2  1901-s2      NaN       NaN  0.513478   \n",
       "2    1901   JJAS  2122.8         3  1901-s3      NaN       NaN  2.759032   \n",
       "3    1901    OND   666.1         4  1901-s4  812.125  0.820194  0.685043   \n",
       "4    1902     JF     9.3         1  1902-s1  796.100  0.011682  0.037439   \n",
       "..    ...    ...     ...       ...      ...      ...       ...       ...   \n",
       "463  2016    OND   185.0         4  2016-s4  467.700  0.395553  0.685043   \n",
       "464  2017     JF    13.0         1  2017-s1  466.125  0.027890  0.037439   \n",
       "465  2017    MAM   353.9         2  2017-s2  476.050  0.743409  0.513478   \n",
       "466  2017   JJAS  1856.5         3  2017-s3  602.100  3.083375  2.759032   \n",
       "467  2017    OND   441.5         4  2017-s4  666.225  0.662689  0.685043   \n",
       "\n",
       "      deseasonal  period  \n",
       "0    1960.515942       1  \n",
       "1     752.125969       2  \n",
       "2     769.400333       3  \n",
       "3     972.348395       4  \n",
       "4     248.403246       5  \n",
       "..           ...     ...  \n",
       "463   270.056227     464  \n",
       "464   347.230344     465  \n",
       "465   689.221596     466  \n",
       "466   672.880968     467  \n",
       "467   644.485537     468  \n",
       "\n",
       "[468 rows x 10 columns]"
      ]
     },
     "execution_count": 57,
     "metadata": {},
     "output_type": "execute_result"
    }
   ],
   "source": [
    "def get_mov_avg(df, column, period, add_column):\n",
    "    df[add_column] = df[column].rolling(period).mean()\n",
    "    return df\n",
    "\n",
    "season_list = ['JF', 'MAM', 'JJAS', 'OND']\n",
    "df_season = pd.melt(data, id_vars = ['YEAR'], \n",
    "                   value_vars = season_list, \n",
    "                   var_name='season', value_name='q_mms')\n",
    "\n",
    "for i in range(len(season_list)):\n",
    "    df_season.loc[df_season['season']==season_list[i], 'season_no'] = i+1\n",
    "\n",
    "df_season['season_no'] = df_season['season_no'].astype('int').astype('str')\n",
    "df_season['year_s'] = df_season['YEAR'].astype('str')+'-'+'s'+df_season['season_no']\n",
    "season_sorted = df_season.sort_values('year_s').reset_index(drop=True)\n",
    "\n",
    "get_mov_avg(season_sorted, 'q_mms', 4, 'mov_avg')\n",
    "\n",
    "season_sorted['ratio_s'] = season_sorted['q_mms'] / season_sorted['mov_avg']\n",
    "\n",
    "for season in range(4):\n",
    "    rate_avg = season_sorted.loc[season_sorted['season_no'].astype('int') == season+1, 'ratio_s'].mean()\n",
    "    season_sorted.loc[season_sorted['season_no'].astype('int') == season+1, 'rate'] = rate_avg\n",
    "\n",
    "season_sorted['deseasonal'] = season_sorted['q_mms'] / season_sorted['rate']\n",
    "\n",
    "season_sorted['period'] = season_sorted.index+1\n",
    "\n",
    "season_sorted"
   ]
  },
  {
   "cell_type": "code",
   "execution_count": 58,
   "metadata": {
    "execution": {
     "iopub.execute_input": "2021-08-25T08:42:53.009031Z",
     "iopub.status.busy": "2021-08-25T08:42:53.008745Z",
     "iopub.status.idle": "2021-08-25T08:42:53.021972Z",
     "shell.execute_reply": "2021-08-25T08:42:53.020893Z",
     "shell.execute_reply.started": "2021-08-25T08:42:53.009006Z"
    }
   },
   "outputs": [
    {
     "name": "stdout",
     "output_type": "stream",
     "text": [
      "Original Rainfall Optimized by 4 Seasons\n",
      "Intercept: 771.4829059829059, Coefficient: -0.18305177409655068\n",
      "R-Squared: 0.0009721950560945825\n"
     ]
    }
   ],
   "source": [
    "X_train = season_sorted['period']\n",
    "y_train = season_sorted['q_mms']\n",
    "X_train = sm.add_constant(X_train)\n",
    "olsreg = sm.OLS(y_train, X_train)\n",
    "olsreg = olsreg.fit()\n",
    "print('Original Rainfall Optimized by 4 Seasons')\n",
    "print('Intercept: {}, Coefficient: {}'.format(olsreg.params[0], olsreg.params[1]))\n",
    "print('R-Squared:', olsreg.rsquared)"
   ]
  },
  {
   "cell_type": "code",
   "execution_count": 59,
   "metadata": {
    "execution": {
     "iopub.execute_input": "2021-08-25T08:42:53.026106Z",
     "iopub.status.busy": "2021-08-25T08:42:53.025794Z",
     "iopub.status.idle": "2021-08-25T08:42:53.047395Z",
     "shell.execute_reply": "2021-08-25T08:42:53.046015Z",
     "shell.execute_reply.started": "2021-08-25T08:42:53.026078Z"
    }
   },
   "outputs": [
    {
     "name": "stdout",
     "output_type": "stream",
     "text": [
      "Deseasonized Rainfall Optimized by 4 Seasons\n",
      "Intercept: 805.9389988267619, Coefficient: -0.32245283341099507\n",
      "R-Squared: 0.015479852780417303\n",
      "                            OLS Regression Results                            \n",
      "==============================================================================\n",
      "Dep. Variable:             deseasonal   R-squared:                       0.015\n",
      "Model:                            OLS   Adj. R-squared:                  0.013\n",
      "Method:                 Least Squares   F-statistic:                     7.327\n",
      "Date:                Sat, 20 Nov 2021   Prob (F-statistic):            0.00704\n",
      "Time:                        13:31:02   Log-Likelihood:                -3402.1\n",
      "No. Observations:                 468   AIC:                             6808.\n",
      "Df Residuals:                     466   BIC:                             6817.\n",
      "Df Model:                           1                                         \n",
      "Covariance Type:            nonrobust                                         \n",
      "==============================================================================\n",
      "                 coef    std err          t      P>|t|      [0.025      0.975]\n",
      "------------------------------------------------------------------------------\n",
      "const        805.9390     32.239     24.999      0.000     742.587     869.291\n",
      "period        -0.3225      0.119     -2.707      0.007      -0.557      -0.088\n",
      "==============================================================================\n",
      "Omnibus:                      172.585   Durbin-Watson:                   1.988\n",
      "Prob(Omnibus):                  0.000   Jarque-Bera (JB):              760.132\n",
      "Skew:                           1.591   Prob(JB):                    8.70e-166\n",
      "Kurtosis:                       8.372   Cond. No.                         542.\n",
      "==============================================================================\n",
      "\n",
      "Warnings:\n",
      "[1] Standard Errors assume that the covariance matrix of the errors is correctly specified.\n"
     ]
    }
   ],
   "source": [
    "X_train = season_sorted['period']\n",
    "y_train = season_sorted['deseasonal']\n",
    "X_train = sm.add_constant(X_train)\n",
    "olsreg = sm.OLS(y_train, X_train)\n",
    "olsreg = olsreg.fit()\n",
    "print('Deseasonized Rainfall Optimized by 4 Seasons')\n",
    "print('Intercept: {}, Coefficient: {}'.format(olsreg.params[0], olsreg.params[1]))\n",
    "print('R-Squared:', olsreg.rsquared)\n",
    "print(olsreg.summary())"
   ]
  },
  {
   "cell_type": "code",
   "execution_count": 60,
   "metadata": {
    "execution": {
     "iopub.execute_input": "2021-08-25T08:42:53.049734Z",
     "iopub.status.busy": "2021-08-25T08:42:53.049377Z",
     "iopub.status.idle": "2021-08-25T08:42:53.401026Z",
     "shell.execute_reply": "2021-08-25T08:42:53.399955Z",
     "shell.execute_reply.started": "2021-08-25T08:42:53.049705Z"
    }
   },
   "outputs": [
    {
     "data": {
      "text/html": [
       "<div>\n",
       "<style scoped>\n",
       "    .dataframe tbody tr th:only-of-type {\n",
       "        vertical-align: middle;\n",
       "    }\n",
       "\n",
       "    .dataframe tbody tr th {\n",
       "        vertical-align: top;\n",
       "    }\n",
       "\n",
       "    .dataframe thead th {\n",
       "        text-align: right;\n",
       "    }\n",
       "</style>\n",
       "<table border=\"1\" class=\"dataframe\">\n",
       "  <thead>\n",
       "    <tr style=\"text-align: right;\">\n",
       "      <th></th>\n",
       "      <th>YEAR</th>\n",
       "      <th>mms</th>\n",
       "      <th>month_no</th>\n",
       "      <th>mov_avg</th>\n",
       "      <th>last_annual</th>\n",
       "      <th>last_jf</th>\n",
       "      <th>last_mam</th>\n",
       "      <th>last_jjas</th>\n",
       "      <th>last_ond</th>\n",
       "    </tr>\n",
       "  </thead>\n",
       "  <tbody>\n",
       "    <tr>\n",
       "      <th>0</th>\n",
       "      <td>1902</td>\n",
       "      <td>6.7</td>\n",
       "      <td>1</td>\n",
       "      <td>268.883333</td>\n",
       "      <td>3248.6</td>\n",
       "      <td>73.4</td>\n",
       "      <td>386.2</td>\n",
       "      <td>2122.8</td>\n",
       "      <td>666.1</td>\n",
       "    </tr>\n",
       "    <tr>\n",
       "      <th>1</th>\n",
       "      <td>1902</td>\n",
       "      <td>2.6</td>\n",
       "      <td>2</td>\n",
       "      <td>265.375000</td>\n",
       "      <td>3248.6</td>\n",
       "      <td>73.4</td>\n",
       "      <td>386.2</td>\n",
       "      <td>2122.8</td>\n",
       "      <td>666.1</td>\n",
       "    </tr>\n",
       "    <tr>\n",
       "      <th>2</th>\n",
       "      <td>1902</td>\n",
       "      <td>57.3</td>\n",
       "      <td>3</td>\n",
       "      <td>265.850000</td>\n",
       "      <td>3248.6</td>\n",
       "      <td>73.4</td>\n",
       "      <td>386.2</td>\n",
       "      <td>2122.8</td>\n",
       "      <td>666.1</td>\n",
       "    </tr>\n",
       "    <tr>\n",
       "      <th>3</th>\n",
       "      <td>1902</td>\n",
       "      <td>83.9</td>\n",
       "      <td>4</td>\n",
       "      <td>259.508333</td>\n",
       "      <td>3248.6</td>\n",
       "      <td>73.4</td>\n",
       "      <td>386.2</td>\n",
       "      <td>2122.8</td>\n",
       "      <td>666.1</td>\n",
       "    </tr>\n",
       "    <tr>\n",
       "      <th>4</th>\n",
       "      <td>1902</td>\n",
       "      <td>134.5</td>\n",
       "      <td>5</td>\n",
       "      <td>256.158333</td>\n",
       "      <td>3248.6</td>\n",
       "      <td>73.4</td>\n",
       "      <td>386.2</td>\n",
       "      <td>2122.8</td>\n",
       "      <td>666.1</td>\n",
       "    </tr>\n",
       "    <tr>\n",
       "      <th>...</th>\n",
       "      <td>...</td>\n",
       "      <td>...</td>\n",
       "      <td>...</td>\n",
       "      <td>...</td>\n",
       "      <td>...</td>\n",
       "      <td>...</td>\n",
       "      <td>...</td>\n",
       "      <td>...</td>\n",
       "      <td>...</td>\n",
       "    </tr>\n",
       "    <tr>\n",
       "      <th>1387</th>\n",
       "      <td>2017</td>\n",
       "      <td>462.6</td>\n",
       "      <td>8</td>\n",
       "      <td>171.408333</td>\n",
       "      <td>1870.9</td>\n",
       "      <td>19.3</td>\n",
       "      <td>314.2</td>\n",
       "      <td>1352.3</td>\n",
       "      <td>185.0</td>\n",
       "    </tr>\n",
       "    <tr>\n",
       "      <th>1388</th>\n",
       "      <td>2017</td>\n",
       "      <td>435.5</td>\n",
       "      <td>9</td>\n",
       "      <td>200.691667</td>\n",
       "      <td>1870.9</td>\n",
       "      <td>19.3</td>\n",
       "      <td>314.2</td>\n",
       "      <td>1352.3</td>\n",
       "      <td>185.0</td>\n",
       "    </tr>\n",
       "    <tr>\n",
       "      <th>1389</th>\n",
       "      <td>2017</td>\n",
       "      <td>228.0</td>\n",
       "      <td>10</td>\n",
       "      <td>210.933333</td>\n",
       "      <td>1870.9</td>\n",
       "      <td>19.3</td>\n",
       "      <td>314.2</td>\n",
       "      <td>1352.3</td>\n",
       "      <td>185.0</td>\n",
       "    </tr>\n",
       "    <tr>\n",
       "      <th>1390</th>\n",
       "      <td>2017</td>\n",
       "      <td>152.1</td>\n",
       "      <td>11</td>\n",
       "      <td>218.783333</td>\n",
       "      <td>1870.9</td>\n",
       "      <td>19.3</td>\n",
       "      <td>314.2</td>\n",
       "      <td>1352.3</td>\n",
       "      <td>185.0</td>\n",
       "    </tr>\n",
       "    <tr>\n",
       "      <th>1391</th>\n",
       "      <td>2017</td>\n",
       "      <td>61.4</td>\n",
       "      <td>12</td>\n",
       "      <td>222.066667</td>\n",
       "      <td>1870.9</td>\n",
       "      <td>19.3</td>\n",
       "      <td>314.2</td>\n",
       "      <td>1352.3</td>\n",
       "      <td>185.0</td>\n",
       "    </tr>\n",
       "  </tbody>\n",
       "</table>\n",
       "<p>1392 rows × 9 columns</p>\n",
       "</div>"
      ],
      "text/plain": [
       "      YEAR    mms  month_no     mov_avg  last_annual  last_jf  last_mam  \\\n",
       "0     1902    6.7         1  268.883333       3248.6     73.4     386.2   \n",
       "1     1902    2.6         2  265.375000       3248.6     73.4     386.2   \n",
       "2     1902   57.3         3  265.850000       3248.6     73.4     386.2   \n",
       "3     1902   83.9         4  259.508333       3248.6     73.4     386.2   \n",
       "4     1902  134.5         5  256.158333       3248.6     73.4     386.2   \n",
       "...    ...    ...       ...         ...          ...      ...       ...   \n",
       "1387  2017  462.6         8  171.408333       1870.9     19.3     314.2   \n",
       "1388  2017  435.5         9  200.691667       1870.9     19.3     314.2   \n",
       "1389  2017  228.0        10  210.933333       1870.9     19.3     314.2   \n",
       "1390  2017  152.1        11  218.783333       1870.9     19.3     314.2   \n",
       "1391  2017   61.4        12  222.066667       1870.9     19.3     314.2   \n",
       "\n",
       "      last_jjas  last_ond  \n",
       "0        2122.8     666.1  \n",
       "1        2122.8     666.1  \n",
       "2        2122.8     666.1  \n",
       "3        2122.8     666.1  \n",
       "4        2122.8     666.1  \n",
       "...         ...       ...  \n",
       "1387     1352.3     185.0  \n",
       "1388     1352.3     185.0  \n",
       "1389     1352.3     185.0  \n",
       "1390     1352.3     185.0  \n",
       "1391     1352.3     185.0  \n",
       "\n",
       "[1392 rows x 9 columns]"
      ]
     },
     "execution_count": 60,
     "metadata": {},
     "output_type": "execute_result"
    }
   ],
   "source": [
    "df_last = df_sorted[df_sorted['YEAR']!=1901]\n",
    "\n",
    "annual_list_last, jf_list_last, mam_list_last, jjas_list_last, ond_list_last = [], [], [], [], []\n",
    "\n",
    "for year in range(1901, 2017):\n",
    "    ann_last = df.loc[df['YEAR']==year, 'ANNUAL']\n",
    "    jf_last = df.loc[df['YEAR']==year, 'JF']\n",
    "    mam_last = df.loc[df['YEAR']==year, 'MAM']\n",
    "    jjas_last = df.loc[df['YEAR']==year, 'JJAS']\n",
    "    ond_last = df.loc[df['YEAR']==year, 'OND']\n",
    "    for year_loop in range(12):\n",
    "        annual_list_last.append(float(ann_last))\n",
    "        jf_list_last.append(float(jf_last))\n",
    "        mam_list_last.append(float(mam_last))\n",
    "        jjas_list_last.append(float(jjas_last))\n",
    "        ond_list_last.append(float(ond_last))\n",
    "\n",
    "df_last = df_last.assign(last_annual=annual_list_last)\n",
    "df_last = df_last.assign(last_jf=jf_list_last)\n",
    "df_last = df_last.assign(last_mam=mam_list_last)\n",
    "df_last = df_last.assign(last_jjas=jjas_list_last)\n",
    "df_last = df_last.assign(last_ond=ond_list_last)\n",
    "\n",
    "df_ml = df_last[['YEAR', 'mms', 'month_no', 'mov_avg', 'last_annual', \n",
    "                 'last_jf', 'last_mam', 'last_jjas', 'last_ond']]\n",
    "df_ml = df_ml.reset_index(drop=True)\n",
    "df_ml"
   ]
  },
  {
   "cell_type": "code",
   "execution_count": 61,
   "metadata": {
    "execution": {
     "iopub.execute_input": "2021-08-25T08:42:53.402687Z",
     "iopub.status.busy": "2021-08-25T08:42:53.402383Z",
     "iopub.status.idle": "2021-08-25T08:42:53.453659Z",
     "shell.execute_reply": "2021-08-25T08:42:53.452701Z",
     "shell.execute_reply.started": "2021-08-25T08:42:53.402648Z"
    }
   },
   "outputs": [
    {
     "name": "stdout",
     "output_type": "stream",
     "text": [
      "Level 4 - Above 75%: Above 374.4 mms\n",
      "Level 3 - 75%-50%: 374.4 - 152.55 mms\n",
      "Level 2 - 50%-25%: 152.55 - 33.75 mms\n",
      "Level 1 - Below 25%: Below 33.75 mms\n"
     ]
    },
    {
     "data": {
      "text/html": [
       "<div>\n",
       "<style scoped>\n",
       "    .dataframe tbody tr th:only-of-type {\n",
       "        vertical-align: middle;\n",
       "    }\n",
       "\n",
       "    .dataframe tbody tr th {\n",
       "        vertical-align: top;\n",
       "    }\n",
       "\n",
       "    .dataframe thead th {\n",
       "        text-align: right;\n",
       "    }\n",
       "</style>\n",
       "<table border=\"1\" class=\"dataframe\">\n",
       "  <thead>\n",
       "    <tr style=\"text-align: right;\">\n",
       "      <th></th>\n",
       "      <th>YEAR</th>\n",
       "      <th>mms</th>\n",
       "      <th>month_no</th>\n",
       "      <th>mov_avg</th>\n",
       "      <th>last_annual</th>\n",
       "      <th>last_jf</th>\n",
       "      <th>last_mam</th>\n",
       "      <th>last_jjas</th>\n",
       "      <th>last_ond</th>\n",
       "      <th>mms_level</th>\n",
       "    </tr>\n",
       "  </thead>\n",
       "  <tbody>\n",
       "    <tr>\n",
       "      <th>0</th>\n",
       "      <td>1902</td>\n",
       "      <td>6.7</td>\n",
       "      <td>1</td>\n",
       "      <td>268.883333</td>\n",
       "      <td>3248.6</td>\n",
       "      <td>73.4</td>\n",
       "      <td>386.2</td>\n",
       "      <td>2122.8</td>\n",
       "      <td>666.1</td>\n",
       "      <td>1</td>\n",
       "    </tr>\n",
       "    <tr>\n",
       "      <th>1</th>\n",
       "      <td>1902</td>\n",
       "      <td>2.6</td>\n",
       "      <td>2</td>\n",
       "      <td>265.375000</td>\n",
       "      <td>3248.6</td>\n",
       "      <td>73.4</td>\n",
       "      <td>386.2</td>\n",
       "      <td>2122.8</td>\n",
       "      <td>666.1</td>\n",
       "      <td>1</td>\n",
       "    </tr>\n",
       "    <tr>\n",
       "      <th>2</th>\n",
       "      <td>1902</td>\n",
       "      <td>57.3</td>\n",
       "      <td>3</td>\n",
       "      <td>265.850000</td>\n",
       "      <td>3248.6</td>\n",
       "      <td>73.4</td>\n",
       "      <td>386.2</td>\n",
       "      <td>2122.8</td>\n",
       "      <td>666.1</td>\n",
       "      <td>2</td>\n",
       "    </tr>\n",
       "    <tr>\n",
       "      <th>3</th>\n",
       "      <td>1902</td>\n",
       "      <td>83.9</td>\n",
       "      <td>4</td>\n",
       "      <td>259.508333</td>\n",
       "      <td>3248.6</td>\n",
       "      <td>73.4</td>\n",
       "      <td>386.2</td>\n",
       "      <td>2122.8</td>\n",
       "      <td>666.1</td>\n",
       "      <td>2</td>\n",
       "    </tr>\n",
       "    <tr>\n",
       "      <th>4</th>\n",
       "      <td>1902</td>\n",
       "      <td>134.5</td>\n",
       "      <td>5</td>\n",
       "      <td>256.158333</td>\n",
       "      <td>3248.6</td>\n",
       "      <td>73.4</td>\n",
       "      <td>386.2</td>\n",
       "      <td>2122.8</td>\n",
       "      <td>666.1</td>\n",
       "      <td>2</td>\n",
       "    </tr>\n",
       "    <tr>\n",
       "      <th>...</th>\n",
       "      <td>...</td>\n",
       "      <td>...</td>\n",
       "      <td>...</td>\n",
       "      <td>...</td>\n",
       "      <td>...</td>\n",
       "      <td>...</td>\n",
       "      <td>...</td>\n",
       "      <td>...</td>\n",
       "      <td>...</td>\n",
       "      <td>...</td>\n",
       "    </tr>\n",
       "    <tr>\n",
       "      <th>1387</th>\n",
       "      <td>2017</td>\n",
       "      <td>462.6</td>\n",
       "      <td>8</td>\n",
       "      <td>171.408333</td>\n",
       "      <td>1870.9</td>\n",
       "      <td>19.3</td>\n",
       "      <td>314.2</td>\n",
       "      <td>1352.3</td>\n",
       "      <td>185.0</td>\n",
       "      <td>4</td>\n",
       "    </tr>\n",
       "    <tr>\n",
       "      <th>1388</th>\n",
       "      <td>2017</td>\n",
       "      <td>435.5</td>\n",
       "      <td>9</td>\n",
       "      <td>200.691667</td>\n",
       "      <td>1870.9</td>\n",
       "      <td>19.3</td>\n",
       "      <td>314.2</td>\n",
       "      <td>1352.3</td>\n",
       "      <td>185.0</td>\n",
       "      <td>4</td>\n",
       "    </tr>\n",
       "    <tr>\n",
       "      <th>1389</th>\n",
       "      <td>2017</td>\n",
       "      <td>228.0</td>\n",
       "      <td>10</td>\n",
       "      <td>210.933333</td>\n",
       "      <td>1870.9</td>\n",
       "      <td>19.3</td>\n",
       "      <td>314.2</td>\n",
       "      <td>1352.3</td>\n",
       "      <td>185.0</td>\n",
       "      <td>3</td>\n",
       "    </tr>\n",
       "    <tr>\n",
       "      <th>1390</th>\n",
       "      <td>2017</td>\n",
       "      <td>152.1</td>\n",
       "      <td>11</td>\n",
       "      <td>218.783333</td>\n",
       "      <td>1870.9</td>\n",
       "      <td>19.3</td>\n",
       "      <td>314.2</td>\n",
       "      <td>1352.3</td>\n",
       "      <td>185.0</td>\n",
       "      <td>2</td>\n",
       "    </tr>\n",
       "    <tr>\n",
       "      <th>1391</th>\n",
       "      <td>2017</td>\n",
       "      <td>61.4</td>\n",
       "      <td>12</td>\n",
       "      <td>222.066667</td>\n",
       "      <td>1870.9</td>\n",
       "      <td>19.3</td>\n",
       "      <td>314.2</td>\n",
       "      <td>1352.3</td>\n",
       "      <td>185.0</td>\n",
       "      <td>2</td>\n",
       "    </tr>\n",
       "  </tbody>\n",
       "</table>\n",
       "<p>1392 rows × 10 columns</p>\n",
       "</div>"
      ],
      "text/plain": [
       "      YEAR    mms  month_no     mov_avg  last_annual  last_jf  last_mam  \\\n",
       "0     1902    6.7         1  268.883333       3248.6     73.4     386.2   \n",
       "1     1902    2.6         2  265.375000       3248.6     73.4     386.2   \n",
       "2     1902   57.3         3  265.850000       3248.6     73.4     386.2   \n",
       "3     1902   83.9         4  259.508333       3248.6     73.4     386.2   \n",
       "4     1902  134.5         5  256.158333       3248.6     73.4     386.2   \n",
       "...    ...    ...       ...         ...          ...      ...       ...   \n",
       "1387  2017  462.6         8  171.408333       1870.9     19.3     314.2   \n",
       "1388  2017  435.5         9  200.691667       1870.9     19.3     314.2   \n",
       "1389  2017  228.0        10  210.933333       1870.9     19.3     314.2   \n",
       "1390  2017  152.1        11  218.783333       1870.9     19.3     314.2   \n",
       "1391  2017   61.4        12  222.066667       1870.9     19.3     314.2   \n",
       "\n",
       "      last_jjas  last_ond mms_level  \n",
       "0        2122.8     666.1         1  \n",
       "1        2122.8     666.1         1  \n",
       "2        2122.8     666.1         2  \n",
       "3        2122.8     666.1         2  \n",
       "4        2122.8     666.1         2  \n",
       "...         ...       ...       ...  \n",
       "1387     1352.3     185.0         4  \n",
       "1388     1352.3     185.0         4  \n",
       "1389     1352.3     185.0         3  \n",
       "1390     1352.3     185.0         2  \n",
       "1391     1352.3     185.0         2  \n",
       "\n",
       "[1392 rows x 10 columns]"
      ]
     },
     "execution_count": 61,
     "metadata": {},
     "output_type": "execute_result"
    }
   ],
   "source": [
    "# label the rainfall records into 4 ranges\n",
    "df_ml['mms_level']=pd.qcut(df_ml['mms'].rank(method='first'), q=4, labels=range(1,5))\n",
    "print('Level 4 - Above 75%: Above {} mms'.format(df_ml['mms'].quantile(q = 0.75)))\n",
    "print('Level 3 - 75%-50%: {} - {} mms'.format(df_ml['mms'].quantile(q = 0.75), df_ml['mms'].quantile(q = 0.5)))\n",
    "print('Level 2 - 50%-25%: {} - {} mms'.format(df_ml['mms'].quantile(q = 0.5), df_ml['mms'].quantile(q = 0.25)))\n",
    "print('Level 1 - Below 25%: Below {} mms'.format(df_ml['mms'].quantile(q = 0.25)))\n",
    "df_ml"
   ]
  },
  {
   "cell_type": "code",
   "execution_count": 62,
   "metadata": {
    "execution": {
     "iopub.execute_input": "2021-08-25T08:42:53.455671Z",
     "iopub.status.busy": "2021-08-25T08:42:53.455240Z",
     "iopub.status.idle": "2021-08-25T08:42:54.148383Z",
     "shell.execute_reply": "2021-08-25T08:42:54.147296Z",
     "shell.execute_reply.started": "2021-08-25T08:42:53.455629Z"
    }
   },
   "outputs": [],
   "source": [
    "# import machine learning packages\n",
    "from sklearn.model_selection import train_test_split\n",
    "from sklearn.pipeline import Pipeline\n",
    "from sklearn.metrics import accuracy_score, confusion_matrix, plot_confusion_matrix, classification_report\n",
    "from sklearn.model_selection import GridSearchCV\n",
    "from sklearn.model_selection import cross_val_score\n",
    "from sklearn.naive_bayes import GaussianNB\n",
    "from sklearn.linear_model import LogisticRegression\n",
    "from sklearn.ensemble import RandomForestClassifier\n",
    "from sklearn.tree import DecisionTreeClassifier"
   ]
  },
  {
   "cell_type": "code",
   "execution_count": 63,
   "metadata": {
    "execution": {
     "iopub.execute_input": "2021-08-25T08:42:54.151075Z",
     "iopub.status.busy": "2021-08-25T08:42:54.150750Z",
     "iopub.status.idle": "2021-08-25T08:42:54.158446Z",
     "shell.execute_reply": "2021-08-25T08:42:54.157288Z",
     "shell.execute_reply.started": "2021-08-25T08:42:54.151044Z"
    }
   },
   "outputs": [],
   "source": [
    "def run_multiclass(model, X_train, y_train, X_test, y_test, verbose=True):\n",
    "    if verbose == False:\n",
    "        model.fit(X_train,y_train, verbose=0)\n",
    "    else:\n",
    "        model.fit(X_train,y_train)\n",
    "    y_pred = model.predict(X_test)\n",
    "    accuracy = accuracy_score(y_test, y_pred)\n",
    "    c_matrix = confusion_matrix(y_test, y_pred)\n",
    "    c_report = classification_report(y_test, y_pred, digits=5)\n",
    "    \n",
    "    print(classification_report(y_test, y_pred, digits=5))\n",
    "    \n",
    "    return model, accuracy, c_matrix, c_report"
   ]
  },
  {
   "cell_type": "code",
   "execution_count": 64,
   "metadata": {
    "execution": {
     "iopub.execute_input": "2021-08-25T08:42:54.160179Z",
     "iopub.status.busy": "2021-08-25T08:42:54.159809Z",
     "iopub.status.idle": "2021-08-25T08:42:56.705023Z",
     "shell.execute_reply": "2021-08-25T08:42:56.703960Z",
     "shell.execute_reply.started": "2021-08-25T08:42:54.160147Z"
    }
   },
   "outputs": [
    {
     "name": "stdout",
     "output_type": "stream",
     "text": [
      "GaussianNB:\n",
      "              precision    recall  f1-score   support\n",
      "\n",
      "           1    0.67257   0.80000   0.73077        95\n",
      "           2    0.47222   0.20238   0.28333        84\n",
      "           3    0.53782   0.72727   0.61836        88\n",
      "           4    0.81250   0.80247   0.80745        81\n",
      "\n",
      "    accuracy                        0.63793       348\n",
      "   macro avg    0.62378   0.63303   0.60998       348\n",
      "weighted avg    0.62270   0.63793   0.61219       348\n",
      "\n",
      "Random Forest:\n",
      "              precision    recall  f1-score   support\n",
      "\n",
      "           1    0.82927   0.71579   0.76836        95\n",
      "           2    0.48193   0.47619   0.47904        84\n",
      "           3    0.54255   0.57955   0.56044        88\n",
      "           4    0.74157   0.81481   0.77647        81\n",
      "\n",
      "    accuracy                        0.64655       348\n",
      "   macro avg    0.64883   0.64659   0.64608       348\n",
      "weighted avg    0.65251   0.64655   0.64784       348\n",
      "\n",
      "Logistic Regression:\n",
      "              precision    recall  f1-score   support\n",
      "\n",
      "           1    0.58209   0.82105   0.68122        95\n",
      "           2    0.17143   0.07143   0.10084        84\n",
      "           3    0.46281   0.63636   0.53589        88\n",
      "           4    0.63793   0.45679   0.53237        81\n",
      "\n",
      "    accuracy                        0.50862       348\n",
      "   macro avg    0.46356   0.49641   0.46258       348\n",
      "weighted avg    0.46580   0.50862   0.46973       348\n",
      "\n",
      "Decision Tree:\n",
      "              precision    recall  f1-score   support\n",
      "\n",
      "           1    0.73404   0.72632   0.73016        95\n",
      "           2    0.45122   0.44048   0.44578        84\n",
      "           3    0.50549   0.52273   0.51397        88\n",
      "           4    0.64198   0.64198   0.64198        81\n",
      "\n",
      "    accuracy                        0.58621       348\n",
      "   macro avg    0.58318   0.58287   0.58297       348\n",
      "weighted avg    0.58655   0.58621   0.58632       348\n",
      "\n"
     ]
    }
   ],
   "source": [
    "X = df_ml.drop(['mms', 'mms_level'], axis=1)\n",
    "y = df_ml['mms_level']\n",
    "\n",
    "X_train, X_test, y_train, y_test = train_test_split(X, y, test_size=0.25, random_state=44)\n",
    "\n",
    "# GaussianNB\n",
    "print('GaussianNB:')\n",
    "params_gnb = {'var_smoothing': 1e-09}\n",
    "model_gnb = GaussianNB(**params_gnb)\n",
    "model_gnb, accuracy_gnb, c_matrix_gnb, c_report_gnb = run_multiclass(model_gnb, X_train, y_train, X_test, y_test)\n",
    "\n",
    "# Random Forest\n",
    "print('Random Forest:')\n",
    "params_rf = {'max_depth': 16,\n",
    "             'min_samples_leaf': 1,\n",
    "             'min_samples_split': 2,\n",
    "             'n_estimators': 100,\n",
    "             'random_state': 44}\n",
    "\n",
    "model_rf = RandomForestClassifier(**params_rf)\n",
    "model_rf, accuracy_rf, c_matrix_rf, c_report_rf = run_multiclass(model_rf, X_train, y_train, X_test, y_test)\n",
    "\n",
    "# Logistic Regression\n",
    "print('Logistic Regression:')\n",
    "params_lr = {'penalty': 'l1', 'solver':'liblinear', \n",
    "             'random_state': 44}\n",
    "\n",
    "model_lr = LogisticRegression(**params_lr)\n",
    "model_lr, accuracy_lr, c_matrix_lr, c_report_lr = run_multiclass(model_lr, X_train, y_train, X_test, y_test)\n",
    "\n",
    "# Decision Tree\n",
    "print('Decision Tree:')\n",
    "params_dt = {'max_depth': 16,\n",
    "             'max_features': \"sqrt\", 'random_state': 44}\n",
    "\n",
    "model_dt = DecisionTreeClassifier(**params_dt)\n",
    "model_dt, accuracy_dt, c_matrix_dt, c_report_dt = run_multiclass(model_dt, X_train, y_train, X_test, y_test)"
   ]
  },
  {
   "cell_type": "code",
   "execution_count": 65,
   "metadata": {
    "execution": {
     "iopub.execute_input": "2021-08-25T08:42:56.706850Z",
     "iopub.status.busy": "2021-08-25T08:42:56.706534Z",
     "iopub.status.idle": "2021-08-25T08:42:57.841208Z",
     "shell.execute_reply": "2021-08-25T08:42:57.840124Z",
     "shell.execute_reply.started": "2021-08-25T08:42:56.706821Z"
    }
   },
   "outputs": [
    {
     "data": {
      "application/vnd.plotly.v1+json": {
       "config": {
        "plotlyServerURL": "https://plot.ly"
       },
       "data": [
        {
         "alignmentgroup": "True",
         "hovertemplate": "Machine Learning Models=%{x}<br>Accuracy Score=%{y}<br>text=%{text}<br>color=%{marker.color}<extra></extra>",
         "legendgroup": "",
         "marker": {
          "color": [
           0.6379,
           0.6466,
           0.5086,
           0.5862
          ],
          "coloraxis": "coloraxis",
          "pattern": {
           "shape": ""
          }
         },
         "name": "",
         "offsetgroup": "",
         "orientation": "v",
         "showlegend": false,
         "text": [
          0.6379,
          0.6466,
          0.5086,
          0.5862
         ],
         "textposition": "auto",
         "type": "bar",
         "x": [
          "GaussianNB",
          "Random Forest",
          "Logistic Regression",
          "Decision Tree"
         ],
         "xaxis": "x",
         "y": [
          0.6379310344827587,
          0.646551724137931,
          0.5086206896551724,
          0.5862068965517241
         ],
         "yaxis": "y"
        }
       ],
       "layout": {
        "barmode": "relative",
        "coloraxis": {
         "colorbar": {
          "title": {
           "text": "color"
          }
         },
         "colorscale": [
          [
           0,
           "rgb(247,252,253)"
          ],
          [
           0.125,
           "rgb(224,236,244)"
          ],
          [
           0.25,
           "rgb(191,211,230)"
          ],
          [
           0.375,
           "rgb(158,188,218)"
          ],
          [
           0.5,
           "rgb(140,150,198)"
          ],
          [
           0.625,
           "rgb(140,107,177)"
          ],
          [
           0.75,
           "rgb(136,65,157)"
          ],
          [
           0.875,
           "rgb(129,15,124)"
          ],
          [
           1,
           "rgb(77,0,75)"
          ]
         ]
        },
        "height": 500,
        "legend": {
         "tracegroupgap": 0
        },
        "template": {
         "data": {
          "bar": [
           {
            "error_x": {
             "color": "#2a3f5f"
            },
            "error_y": {
             "color": "#2a3f5f"
            },
            "marker": {
             "line": {
              "color": "#E5ECF6",
              "width": 0.5
             },
             "pattern": {
              "fillmode": "overlay",
              "size": 10,
              "solidity": 0.2
             }
            },
            "type": "bar"
           }
          ],
          "barpolar": [
           {
            "marker": {
             "line": {
              "color": "#E5ECF6",
              "width": 0.5
             },
             "pattern": {
              "fillmode": "overlay",
              "size": 10,
              "solidity": 0.2
             }
            },
            "type": "barpolar"
           }
          ],
          "carpet": [
           {
            "aaxis": {
             "endlinecolor": "#2a3f5f",
             "gridcolor": "white",
             "linecolor": "white",
             "minorgridcolor": "white",
             "startlinecolor": "#2a3f5f"
            },
            "baxis": {
             "endlinecolor": "#2a3f5f",
             "gridcolor": "white",
             "linecolor": "white",
             "minorgridcolor": "white",
             "startlinecolor": "#2a3f5f"
            },
            "type": "carpet"
           }
          ],
          "choropleth": [
           {
            "colorbar": {
             "outlinewidth": 0,
             "ticks": ""
            },
            "type": "choropleth"
           }
          ],
          "contour": [
           {
            "colorbar": {
             "outlinewidth": 0,
             "ticks": ""
            },
            "colorscale": [
             [
              0,
              "#0d0887"
             ],
             [
              0.1111111111111111,
              "#46039f"
             ],
             [
              0.2222222222222222,
              "#7201a8"
             ],
             [
              0.3333333333333333,
              "#9c179e"
             ],
             [
              0.4444444444444444,
              "#bd3786"
             ],
             [
              0.5555555555555556,
              "#d8576b"
             ],
             [
              0.6666666666666666,
              "#ed7953"
             ],
             [
              0.7777777777777778,
              "#fb9f3a"
             ],
             [
              0.8888888888888888,
              "#fdca26"
             ],
             [
              1,
              "#f0f921"
             ]
            ],
            "type": "contour"
           }
          ],
          "contourcarpet": [
           {
            "colorbar": {
             "outlinewidth": 0,
             "ticks": ""
            },
            "type": "contourcarpet"
           }
          ],
          "heatmap": [
           {
            "colorbar": {
             "outlinewidth": 0,
             "ticks": ""
            },
            "colorscale": [
             [
              0,
              "#0d0887"
             ],
             [
              0.1111111111111111,
              "#46039f"
             ],
             [
              0.2222222222222222,
              "#7201a8"
             ],
             [
              0.3333333333333333,
              "#9c179e"
             ],
             [
              0.4444444444444444,
              "#bd3786"
             ],
             [
              0.5555555555555556,
              "#d8576b"
             ],
             [
              0.6666666666666666,
              "#ed7953"
             ],
             [
              0.7777777777777778,
              "#fb9f3a"
             ],
             [
              0.8888888888888888,
              "#fdca26"
             ],
             [
              1,
              "#f0f921"
             ]
            ],
            "type": "heatmap"
           }
          ],
          "heatmapgl": [
           {
            "colorbar": {
             "outlinewidth": 0,
             "ticks": ""
            },
            "colorscale": [
             [
              0,
              "#0d0887"
             ],
             [
              0.1111111111111111,
              "#46039f"
             ],
             [
              0.2222222222222222,
              "#7201a8"
             ],
             [
              0.3333333333333333,
              "#9c179e"
             ],
             [
              0.4444444444444444,
              "#bd3786"
             ],
             [
              0.5555555555555556,
              "#d8576b"
             ],
             [
              0.6666666666666666,
              "#ed7953"
             ],
             [
              0.7777777777777778,
              "#fb9f3a"
             ],
             [
              0.8888888888888888,
              "#fdca26"
             ],
             [
              1,
              "#f0f921"
             ]
            ],
            "type": "heatmapgl"
           }
          ],
          "histogram": [
           {
            "marker": {
             "pattern": {
              "fillmode": "overlay",
              "size": 10,
              "solidity": 0.2
             }
            },
            "type": "histogram"
           }
          ],
          "histogram2d": [
           {
            "colorbar": {
             "outlinewidth": 0,
             "ticks": ""
            },
            "colorscale": [
             [
              0,
              "#0d0887"
             ],
             [
              0.1111111111111111,
              "#46039f"
             ],
             [
              0.2222222222222222,
              "#7201a8"
             ],
             [
              0.3333333333333333,
              "#9c179e"
             ],
             [
              0.4444444444444444,
              "#bd3786"
             ],
             [
              0.5555555555555556,
              "#d8576b"
             ],
             [
              0.6666666666666666,
              "#ed7953"
             ],
             [
              0.7777777777777778,
              "#fb9f3a"
             ],
             [
              0.8888888888888888,
              "#fdca26"
             ],
             [
              1,
              "#f0f921"
             ]
            ],
            "type": "histogram2d"
           }
          ],
          "histogram2dcontour": [
           {
            "colorbar": {
             "outlinewidth": 0,
             "ticks": ""
            },
            "colorscale": [
             [
              0,
              "#0d0887"
             ],
             [
              0.1111111111111111,
              "#46039f"
             ],
             [
              0.2222222222222222,
              "#7201a8"
             ],
             [
              0.3333333333333333,
              "#9c179e"
             ],
             [
              0.4444444444444444,
              "#bd3786"
             ],
             [
              0.5555555555555556,
              "#d8576b"
             ],
             [
              0.6666666666666666,
              "#ed7953"
             ],
             [
              0.7777777777777778,
              "#fb9f3a"
             ],
             [
              0.8888888888888888,
              "#fdca26"
             ],
             [
              1,
              "#f0f921"
             ]
            ],
            "type": "histogram2dcontour"
           }
          ],
          "mesh3d": [
           {
            "colorbar": {
             "outlinewidth": 0,
             "ticks": ""
            },
            "type": "mesh3d"
           }
          ],
          "parcoords": [
           {
            "line": {
             "colorbar": {
              "outlinewidth": 0,
              "ticks": ""
             }
            },
            "type": "parcoords"
           }
          ],
          "pie": [
           {
            "automargin": true,
            "type": "pie"
           }
          ],
          "scatter": [
           {
            "marker": {
             "colorbar": {
              "outlinewidth": 0,
              "ticks": ""
             }
            },
            "type": "scatter"
           }
          ],
          "scatter3d": [
           {
            "line": {
             "colorbar": {
              "outlinewidth": 0,
              "ticks": ""
             }
            },
            "marker": {
             "colorbar": {
              "outlinewidth": 0,
              "ticks": ""
             }
            },
            "type": "scatter3d"
           }
          ],
          "scattercarpet": [
           {
            "marker": {
             "colorbar": {
              "outlinewidth": 0,
              "ticks": ""
             }
            },
            "type": "scattercarpet"
           }
          ],
          "scattergeo": [
           {
            "marker": {
             "colorbar": {
              "outlinewidth": 0,
              "ticks": ""
             }
            },
            "type": "scattergeo"
           }
          ],
          "scattergl": [
           {
            "marker": {
             "colorbar": {
              "outlinewidth": 0,
              "ticks": ""
             }
            },
            "type": "scattergl"
           }
          ],
          "scattermapbox": [
           {
            "marker": {
             "colorbar": {
              "outlinewidth": 0,
              "ticks": ""
             }
            },
            "type": "scattermapbox"
           }
          ],
          "scatterpolar": [
           {
            "marker": {
             "colorbar": {
              "outlinewidth": 0,
              "ticks": ""
             }
            },
            "type": "scatterpolar"
           }
          ],
          "scatterpolargl": [
           {
            "marker": {
             "colorbar": {
              "outlinewidth": 0,
              "ticks": ""
             }
            },
            "type": "scatterpolargl"
           }
          ],
          "scatterternary": [
           {
            "marker": {
             "colorbar": {
              "outlinewidth": 0,
              "ticks": ""
             }
            },
            "type": "scatterternary"
           }
          ],
          "surface": [
           {
            "colorbar": {
             "outlinewidth": 0,
             "ticks": ""
            },
            "colorscale": [
             [
              0,
              "#0d0887"
             ],
             [
              0.1111111111111111,
              "#46039f"
             ],
             [
              0.2222222222222222,
              "#7201a8"
             ],
             [
              0.3333333333333333,
              "#9c179e"
             ],
             [
              0.4444444444444444,
              "#bd3786"
             ],
             [
              0.5555555555555556,
              "#d8576b"
             ],
             [
              0.6666666666666666,
              "#ed7953"
             ],
             [
              0.7777777777777778,
              "#fb9f3a"
             ],
             [
              0.8888888888888888,
              "#fdca26"
             ],
             [
              1,
              "#f0f921"
             ]
            ],
            "type": "surface"
           }
          ],
          "table": [
           {
            "cells": {
             "fill": {
              "color": "#EBF0F8"
             },
             "line": {
              "color": "white"
             }
            },
            "header": {
             "fill": {
              "color": "#C8D4E3"
             },
             "line": {
              "color": "white"
             }
            },
            "type": "table"
           }
          ]
         },
         "layout": {
          "annotationdefaults": {
           "arrowcolor": "#2a3f5f",
           "arrowhead": 0,
           "arrowwidth": 1
          },
          "autotypenumbers": "strict",
          "coloraxis": {
           "colorbar": {
            "outlinewidth": 0,
            "ticks": ""
           }
          },
          "colorscale": {
           "diverging": [
            [
             0,
             "#8e0152"
            ],
            [
             0.1,
             "#c51b7d"
            ],
            [
             0.2,
             "#de77ae"
            ],
            [
             0.3,
             "#f1b6da"
            ],
            [
             0.4,
             "#fde0ef"
            ],
            [
             0.5,
             "#f7f7f7"
            ],
            [
             0.6,
             "#e6f5d0"
            ],
            [
             0.7,
             "#b8e186"
            ],
            [
             0.8,
             "#7fbc41"
            ],
            [
             0.9,
             "#4d9221"
            ],
            [
             1,
             "#276419"
            ]
           ],
           "sequential": [
            [
             0,
             "#0d0887"
            ],
            [
             0.1111111111111111,
             "#46039f"
            ],
            [
             0.2222222222222222,
             "#7201a8"
            ],
            [
             0.3333333333333333,
             "#9c179e"
            ],
            [
             0.4444444444444444,
             "#bd3786"
            ],
            [
             0.5555555555555556,
             "#d8576b"
            ],
            [
             0.6666666666666666,
             "#ed7953"
            ],
            [
             0.7777777777777778,
             "#fb9f3a"
            ],
            [
             0.8888888888888888,
             "#fdca26"
            ],
            [
             1,
             "#f0f921"
            ]
           ],
           "sequentialminus": [
            [
             0,
             "#0d0887"
            ],
            [
             0.1111111111111111,
             "#46039f"
            ],
            [
             0.2222222222222222,
             "#7201a8"
            ],
            [
             0.3333333333333333,
             "#9c179e"
            ],
            [
             0.4444444444444444,
             "#bd3786"
            ],
            [
             0.5555555555555556,
             "#d8576b"
            ],
            [
             0.6666666666666666,
             "#ed7953"
            ],
            [
             0.7777777777777778,
             "#fb9f3a"
            ],
            [
             0.8888888888888888,
             "#fdca26"
            ],
            [
             1,
             "#f0f921"
            ]
           ]
          },
          "colorway": [
           "#636efa",
           "#EF553B",
           "#00cc96",
           "#ab63fa",
           "#FFA15A",
           "#19d3f3",
           "#FF6692",
           "#B6E880",
           "#FF97FF",
           "#FECB52"
          ],
          "font": {
           "color": "#2a3f5f"
          },
          "geo": {
           "bgcolor": "white",
           "lakecolor": "white",
           "landcolor": "#E5ECF6",
           "showlakes": true,
           "showland": true,
           "subunitcolor": "white"
          },
          "hoverlabel": {
           "align": "left"
          },
          "hovermode": "closest",
          "mapbox": {
           "style": "light"
          },
          "paper_bgcolor": "white",
          "plot_bgcolor": "#E5ECF6",
          "polar": {
           "angularaxis": {
            "gridcolor": "white",
            "linecolor": "white",
            "ticks": ""
           },
           "bgcolor": "#E5ECF6",
           "radialaxis": {
            "gridcolor": "white",
            "linecolor": "white",
            "ticks": ""
           }
          },
          "scene": {
           "xaxis": {
            "backgroundcolor": "#E5ECF6",
            "gridcolor": "white",
            "gridwidth": 2,
            "linecolor": "white",
            "showbackground": true,
            "ticks": "",
            "zerolinecolor": "white"
           },
           "yaxis": {
            "backgroundcolor": "#E5ECF6",
            "gridcolor": "white",
            "gridwidth": 2,
            "linecolor": "white",
            "showbackground": true,
            "ticks": "",
            "zerolinecolor": "white"
           },
           "zaxis": {
            "backgroundcolor": "#E5ECF6",
            "gridcolor": "white",
            "gridwidth": 2,
            "linecolor": "white",
            "showbackground": true,
            "ticks": "",
            "zerolinecolor": "white"
           }
          },
          "shapedefaults": {
           "line": {
            "color": "#2a3f5f"
           }
          },
          "ternary": {
           "aaxis": {
            "gridcolor": "white",
            "linecolor": "white",
            "ticks": ""
           },
           "baxis": {
            "gridcolor": "white",
            "linecolor": "white",
            "ticks": ""
           },
           "bgcolor": "#E5ECF6",
           "caxis": {
            "gridcolor": "white",
            "linecolor": "white",
            "ticks": ""
           }
          },
          "title": {
           "x": 0.05
          },
          "xaxis": {
           "automargin": true,
           "gridcolor": "white",
           "linecolor": "white",
           "ticks": "",
           "title": {
            "standoff": 15
           },
           "zerolinecolor": "white",
           "zerolinewidth": 2
          },
          "yaxis": {
           "automargin": true,
           "gridcolor": "white",
           "linecolor": "white",
           "ticks": "",
           "title": {
            "standoff": 15
           },
           "zerolinecolor": "white",
           "zerolinewidth": 2
          }
         }
        },
        "title": {
         "text": "Accuracy Comparison between Models",
         "x": 0.5
        },
        "xaxis": {
         "anchor": "y",
         "domain": [
          0,
          1
         ],
         "title": {
          "text": "Machine Learning Models"
         }
        },
        "yaxis": {
         "anchor": "x",
         "domain": [
          0,
          1
         ],
         "title": {
          "text": "Accuracy Score"
         }
        }
       }
      },
      "text/html": [
       "<div>                            <div id=\"8a6ea786-3152-4fed-a76f-d209666771f0\" class=\"plotly-graph-div\" style=\"height:500px; width:100%;\"></div>            <script type=\"text/javascript\">                require([\"plotly\"], function(Plotly) {                    window.PLOTLYENV=window.PLOTLYENV || {};                                    if (document.getElementById(\"8a6ea786-3152-4fed-a76f-d209666771f0\")) {                    Plotly.newPlot(                        \"8a6ea786-3152-4fed-a76f-d209666771f0\",                        [{\"alignmentgroup\":\"True\",\"hovertemplate\":\"Machine Learning Models=%{x}<br>Accuracy Score=%{y}<br>text=%{text}<br>color=%{marker.color}<extra></extra>\",\"legendgroup\":\"\",\"marker\":{\"color\":[0.6379,0.6466,0.5086,0.5862],\"coloraxis\":\"coloraxis\",\"pattern\":{\"shape\":\"\"}},\"name\":\"\",\"offsetgroup\":\"\",\"orientation\":\"v\",\"showlegend\":false,\"text\":[0.6379,0.6466,0.5086,0.5862],\"textposition\":\"auto\",\"type\":\"bar\",\"x\":[\"GaussianNB\",\"Random Forest\",\"Logistic Regression\",\"Decision Tree\"],\"xaxis\":\"x\",\"y\":[0.6379310344827587,0.646551724137931,0.5086206896551724,0.5862068965517241],\"yaxis\":\"y\"}],                        {\"barmode\":\"relative\",\"coloraxis\":{\"colorbar\":{\"title\":{\"text\":\"color\"}},\"colorscale\":[[0.0,\"rgb(247,252,253)\"],[0.125,\"rgb(224,236,244)\"],[0.25,\"rgb(191,211,230)\"],[0.375,\"rgb(158,188,218)\"],[0.5,\"rgb(140,150,198)\"],[0.625,\"rgb(140,107,177)\"],[0.75,\"rgb(136,65,157)\"],[0.875,\"rgb(129,15,124)\"],[1.0,\"rgb(77,0,75)\"]]},\"height\":500,\"legend\":{\"tracegroupgap\":0},\"template\":{\"data\":{\"bar\":[{\"error_x\":{\"color\":\"#2a3f5f\"},\"error_y\":{\"color\":\"#2a3f5f\"},\"marker\":{\"line\":{\"color\":\"#E5ECF6\",\"width\":0.5},\"pattern\":{\"fillmode\":\"overlay\",\"size\":10,\"solidity\":0.2}},\"type\":\"bar\"}],\"barpolar\":[{\"marker\":{\"line\":{\"color\":\"#E5ECF6\",\"width\":0.5},\"pattern\":{\"fillmode\":\"overlay\",\"size\":10,\"solidity\":0.2}},\"type\":\"barpolar\"}],\"carpet\":[{\"aaxis\":{\"endlinecolor\":\"#2a3f5f\",\"gridcolor\":\"white\",\"linecolor\":\"white\",\"minorgridcolor\":\"white\",\"startlinecolor\":\"#2a3f5f\"},\"baxis\":{\"endlinecolor\":\"#2a3f5f\",\"gridcolor\":\"white\",\"linecolor\":\"white\",\"minorgridcolor\":\"white\",\"startlinecolor\":\"#2a3f5f\"},\"type\":\"carpet\"}],\"choropleth\":[{\"colorbar\":{\"outlinewidth\":0,\"ticks\":\"\"},\"type\":\"choropleth\"}],\"contour\":[{\"colorbar\":{\"outlinewidth\":0,\"ticks\":\"\"},\"colorscale\":[[0.0,\"#0d0887\"],[0.1111111111111111,\"#46039f\"],[0.2222222222222222,\"#7201a8\"],[0.3333333333333333,\"#9c179e\"],[0.4444444444444444,\"#bd3786\"],[0.5555555555555556,\"#d8576b\"],[0.6666666666666666,\"#ed7953\"],[0.7777777777777778,\"#fb9f3a\"],[0.8888888888888888,\"#fdca26\"],[1.0,\"#f0f921\"]],\"type\":\"contour\"}],\"contourcarpet\":[{\"colorbar\":{\"outlinewidth\":0,\"ticks\":\"\"},\"type\":\"contourcarpet\"}],\"heatmap\":[{\"colorbar\":{\"outlinewidth\":0,\"ticks\":\"\"},\"colorscale\":[[0.0,\"#0d0887\"],[0.1111111111111111,\"#46039f\"],[0.2222222222222222,\"#7201a8\"],[0.3333333333333333,\"#9c179e\"],[0.4444444444444444,\"#bd3786\"],[0.5555555555555556,\"#d8576b\"],[0.6666666666666666,\"#ed7953\"],[0.7777777777777778,\"#fb9f3a\"],[0.8888888888888888,\"#fdca26\"],[1.0,\"#f0f921\"]],\"type\":\"heatmap\"}],\"heatmapgl\":[{\"colorbar\":{\"outlinewidth\":0,\"ticks\":\"\"},\"colorscale\":[[0.0,\"#0d0887\"],[0.1111111111111111,\"#46039f\"],[0.2222222222222222,\"#7201a8\"],[0.3333333333333333,\"#9c179e\"],[0.4444444444444444,\"#bd3786\"],[0.5555555555555556,\"#d8576b\"],[0.6666666666666666,\"#ed7953\"],[0.7777777777777778,\"#fb9f3a\"],[0.8888888888888888,\"#fdca26\"],[1.0,\"#f0f921\"]],\"type\":\"heatmapgl\"}],\"histogram\":[{\"marker\":{\"pattern\":{\"fillmode\":\"overlay\",\"size\":10,\"solidity\":0.2}},\"type\":\"histogram\"}],\"histogram2d\":[{\"colorbar\":{\"outlinewidth\":0,\"ticks\":\"\"},\"colorscale\":[[0.0,\"#0d0887\"],[0.1111111111111111,\"#46039f\"],[0.2222222222222222,\"#7201a8\"],[0.3333333333333333,\"#9c179e\"],[0.4444444444444444,\"#bd3786\"],[0.5555555555555556,\"#d8576b\"],[0.6666666666666666,\"#ed7953\"],[0.7777777777777778,\"#fb9f3a\"],[0.8888888888888888,\"#fdca26\"],[1.0,\"#f0f921\"]],\"type\":\"histogram2d\"}],\"histogram2dcontour\":[{\"colorbar\":{\"outlinewidth\":0,\"ticks\":\"\"},\"colorscale\":[[0.0,\"#0d0887\"],[0.1111111111111111,\"#46039f\"],[0.2222222222222222,\"#7201a8\"],[0.3333333333333333,\"#9c179e\"],[0.4444444444444444,\"#bd3786\"],[0.5555555555555556,\"#d8576b\"],[0.6666666666666666,\"#ed7953\"],[0.7777777777777778,\"#fb9f3a\"],[0.8888888888888888,\"#fdca26\"],[1.0,\"#f0f921\"]],\"type\":\"histogram2dcontour\"}],\"mesh3d\":[{\"colorbar\":{\"outlinewidth\":0,\"ticks\":\"\"},\"type\":\"mesh3d\"}],\"parcoords\":[{\"line\":{\"colorbar\":{\"outlinewidth\":0,\"ticks\":\"\"}},\"type\":\"parcoords\"}],\"pie\":[{\"automargin\":true,\"type\":\"pie\"}],\"scatter\":[{\"marker\":{\"colorbar\":{\"outlinewidth\":0,\"ticks\":\"\"}},\"type\":\"scatter\"}],\"scatter3d\":[{\"line\":{\"colorbar\":{\"outlinewidth\":0,\"ticks\":\"\"}},\"marker\":{\"colorbar\":{\"outlinewidth\":0,\"ticks\":\"\"}},\"type\":\"scatter3d\"}],\"scattercarpet\":[{\"marker\":{\"colorbar\":{\"outlinewidth\":0,\"ticks\":\"\"}},\"type\":\"scattercarpet\"}],\"scattergeo\":[{\"marker\":{\"colorbar\":{\"outlinewidth\":0,\"ticks\":\"\"}},\"type\":\"scattergeo\"}],\"scattergl\":[{\"marker\":{\"colorbar\":{\"outlinewidth\":0,\"ticks\":\"\"}},\"type\":\"scattergl\"}],\"scattermapbox\":[{\"marker\":{\"colorbar\":{\"outlinewidth\":0,\"ticks\":\"\"}},\"type\":\"scattermapbox\"}],\"scatterpolar\":[{\"marker\":{\"colorbar\":{\"outlinewidth\":0,\"ticks\":\"\"}},\"type\":\"scatterpolar\"}],\"scatterpolargl\":[{\"marker\":{\"colorbar\":{\"outlinewidth\":0,\"ticks\":\"\"}},\"type\":\"scatterpolargl\"}],\"scatterternary\":[{\"marker\":{\"colorbar\":{\"outlinewidth\":0,\"ticks\":\"\"}},\"type\":\"scatterternary\"}],\"surface\":[{\"colorbar\":{\"outlinewidth\":0,\"ticks\":\"\"},\"colorscale\":[[0.0,\"#0d0887\"],[0.1111111111111111,\"#46039f\"],[0.2222222222222222,\"#7201a8\"],[0.3333333333333333,\"#9c179e\"],[0.4444444444444444,\"#bd3786\"],[0.5555555555555556,\"#d8576b\"],[0.6666666666666666,\"#ed7953\"],[0.7777777777777778,\"#fb9f3a\"],[0.8888888888888888,\"#fdca26\"],[1.0,\"#f0f921\"]],\"type\":\"surface\"}],\"table\":[{\"cells\":{\"fill\":{\"color\":\"#EBF0F8\"},\"line\":{\"color\":\"white\"}},\"header\":{\"fill\":{\"color\":\"#C8D4E3\"},\"line\":{\"color\":\"white\"}},\"type\":\"table\"}]},\"layout\":{\"annotationdefaults\":{\"arrowcolor\":\"#2a3f5f\",\"arrowhead\":0,\"arrowwidth\":1},\"autotypenumbers\":\"strict\",\"coloraxis\":{\"colorbar\":{\"outlinewidth\":0,\"ticks\":\"\"}},\"colorscale\":{\"diverging\":[[0,\"#8e0152\"],[0.1,\"#c51b7d\"],[0.2,\"#de77ae\"],[0.3,\"#f1b6da\"],[0.4,\"#fde0ef\"],[0.5,\"#f7f7f7\"],[0.6,\"#e6f5d0\"],[0.7,\"#b8e186\"],[0.8,\"#7fbc41\"],[0.9,\"#4d9221\"],[1,\"#276419\"]],\"sequential\":[[0.0,\"#0d0887\"],[0.1111111111111111,\"#46039f\"],[0.2222222222222222,\"#7201a8\"],[0.3333333333333333,\"#9c179e\"],[0.4444444444444444,\"#bd3786\"],[0.5555555555555556,\"#d8576b\"],[0.6666666666666666,\"#ed7953\"],[0.7777777777777778,\"#fb9f3a\"],[0.8888888888888888,\"#fdca26\"],[1.0,\"#f0f921\"]],\"sequentialminus\":[[0.0,\"#0d0887\"],[0.1111111111111111,\"#46039f\"],[0.2222222222222222,\"#7201a8\"],[0.3333333333333333,\"#9c179e\"],[0.4444444444444444,\"#bd3786\"],[0.5555555555555556,\"#d8576b\"],[0.6666666666666666,\"#ed7953\"],[0.7777777777777778,\"#fb9f3a\"],[0.8888888888888888,\"#fdca26\"],[1.0,\"#f0f921\"]]},\"colorway\":[\"#636efa\",\"#EF553B\",\"#00cc96\",\"#ab63fa\",\"#FFA15A\",\"#19d3f3\",\"#FF6692\",\"#B6E880\",\"#FF97FF\",\"#FECB52\"],\"font\":{\"color\":\"#2a3f5f\"},\"geo\":{\"bgcolor\":\"white\",\"lakecolor\":\"white\",\"landcolor\":\"#E5ECF6\",\"showlakes\":true,\"showland\":true,\"subunitcolor\":\"white\"},\"hoverlabel\":{\"align\":\"left\"},\"hovermode\":\"closest\",\"mapbox\":{\"style\":\"light\"},\"paper_bgcolor\":\"white\",\"plot_bgcolor\":\"#E5ECF6\",\"polar\":{\"angularaxis\":{\"gridcolor\":\"white\",\"linecolor\":\"white\",\"ticks\":\"\"},\"bgcolor\":\"#E5ECF6\",\"radialaxis\":{\"gridcolor\":\"white\",\"linecolor\":\"white\",\"ticks\":\"\"}},\"scene\":{\"xaxis\":{\"backgroundcolor\":\"#E5ECF6\",\"gridcolor\":\"white\",\"gridwidth\":2,\"linecolor\":\"white\",\"showbackground\":true,\"ticks\":\"\",\"zerolinecolor\":\"white\"},\"yaxis\":{\"backgroundcolor\":\"#E5ECF6\",\"gridcolor\":\"white\",\"gridwidth\":2,\"linecolor\":\"white\",\"showbackground\":true,\"ticks\":\"\",\"zerolinecolor\":\"white\"},\"zaxis\":{\"backgroundcolor\":\"#E5ECF6\",\"gridcolor\":\"white\",\"gridwidth\":2,\"linecolor\":\"white\",\"showbackground\":true,\"ticks\":\"\",\"zerolinecolor\":\"white\"}},\"shapedefaults\":{\"line\":{\"color\":\"#2a3f5f\"}},\"ternary\":{\"aaxis\":{\"gridcolor\":\"white\",\"linecolor\":\"white\",\"ticks\":\"\"},\"baxis\":{\"gridcolor\":\"white\",\"linecolor\":\"white\",\"ticks\":\"\"},\"bgcolor\":\"#E5ECF6\",\"caxis\":{\"gridcolor\":\"white\",\"linecolor\":\"white\",\"ticks\":\"\"}},\"title\":{\"x\":0.05},\"xaxis\":{\"automargin\":true,\"gridcolor\":\"white\",\"linecolor\":\"white\",\"ticks\":\"\",\"title\":{\"standoff\":15},\"zerolinecolor\":\"white\",\"zerolinewidth\":2},\"yaxis\":{\"automargin\":true,\"gridcolor\":\"white\",\"linecolor\":\"white\",\"ticks\":\"\",\"title\":{\"standoff\":15},\"zerolinecolor\":\"white\",\"zerolinewidth\":2}}},\"title\":{\"text\":\"Accuracy Comparison between Models\",\"x\":0.5},\"xaxis\":{\"anchor\":\"y\",\"domain\":[0.0,1.0],\"title\":{\"text\":\"Machine Learning Models\"}},\"yaxis\":{\"anchor\":\"x\",\"domain\":[0.0,1.0],\"title\":{\"text\":\"Accuracy Score\"}}},                        {\"responsive\": true}                    ).then(function(){\n",
       "                            \n",
       "var gd = document.getElementById('8a6ea786-3152-4fed-a76f-d209666771f0');\n",
       "var x = new MutationObserver(function (mutations, observer) {{\n",
       "        var display = window.getComputedStyle(gd).display;\n",
       "        if (!display || display === 'none') {{\n",
       "            console.log([gd, 'removed!']);\n",
       "            Plotly.purge(gd);\n",
       "            observer.disconnect();\n",
       "        }}\n",
       "}});\n",
       "\n",
       "// Listen for the removal of the full notebook cells\n",
       "var notebookContainer = gd.closest('#notebook-container');\n",
       "if (notebookContainer) {{\n",
       "    x.observe(notebookContainer, {childList: true});\n",
       "}}\n",
       "\n",
       "// Listen for the clearing of the current output cell\n",
       "var outputEl = gd.closest('.output');\n",
       "if (outputEl) {{\n",
       "    x.observe(outputEl, {childList: true});\n",
       "}}\n",
       "\n",
       "                        })                };                });            </script>        </div>"
      ]
     },
     "metadata": {},
     "output_type": "display_data"
    }
   ],
   "source": [
    "bar_x = ['GaussianNB', 'Random Forest', 'Logistic Regression', \n",
    "     'Decision Tree'] \n",
    "bar_y = [accuracy_gnb, accuracy_rf, accuracy_lr, accuracy_dt]\n",
    "rounded_y = [round(num, 4) for num in bar_y]\n",
    "\n",
    "fig = px.bar(x=bar_x, y=bar_y, text=rounded_y, title='Accuracy Comparison between Models',\n",
    "             color=rounded_y, color_continuous_scale='bupu',\n",
    "             labels={'x':'Machine Learning Models', 'y':'Accuracy Score'}, height=500)\n",
    "fig.update_layout(title_x=0.5)\n",
    "fig.show()"
   ]
  },
  {
   "cell_type": "code",
   "execution_count": 66,
   "metadata": {
    "execution": {
     "iopub.execute_input": "2021-08-25T08:42:57.843335Z",
     "iopub.status.busy": "2021-08-25T08:42:57.842727Z",
     "iopub.status.idle": "2021-08-25T08:42:59.672975Z",
     "shell.execute_reply": "2021-08-25T08:42:59.671940Z",
     "shell.execute_reply.started": "2021-08-25T08:42:57.843291Z"
    }
   },
   "outputs": [
    {
     "data": {
      "image/png": "[encoded data removed]",
      "text/plain": [
       "<Figure size 1080x720 with 8 Axes>"
      ]
     },
     "metadata": {},
     "output_type": "display_data"
    }
   ],
   "source": [
    "classifiers = [model_gnb, model_rf, model_lr, model_dt]\n",
    "\n",
    "fig, axes = plt.subplots(nrows=2, ncols=2, figsize=(15,10))\n",
    "\n",
    "plt.style.use('seaborn-white') \n",
    "sns.set_context(\"notebook\")\n",
    "for cls, ax in zip(classifiers, axes.flatten()):\n",
    "    plot_confusion_matrix(cls,X_test,y_test,ax=ax)\n",
    "    ax.title.set_text(type(cls).__name__)\n",
    "plt.tight_layout()  \n",
    "plt.show()"
   ]
  },
  {
   "cell_type": "code",
   "execution_count": 67,
   "metadata": {
    "execution": {
     "iopub.execute_input": "2021-08-25T08:42:59.674590Z",
     "iopub.status.busy": "2021-08-25T08:42:59.674243Z",
     "iopub.status.idle": "2021-08-25T08:42:59.682540Z",
     "shell.execute_reply": "2021-08-25T08:42:59.681022Z",
     "shell.execute_reply.started": "2021-08-25T08:42:59.674558Z"
    }
   },
   "outputs": [],
   "source": [
    "# calculate the false predictions that accurately forecast droughts and floods\n",
    "model_list = [c_matrix_gnb, c_matrix_rf, c_matrix_lr, c_matrix_dt]\n",
    "\n",
    "f_drought_list = []\n",
    "f_flood_list = []\n",
    "for matrix in model_list:\n",
    "    f_to_drought = round(matrix[0, 1:4].sum() / matrix[:, 1:4].sum(), 2)\n",
    "    f_to_flood = round(matrix[3, :3].sum() / matrix[:, :3].sum(), 2)\n",
    "    f_drought_list.append(f_to_drought)\n",
    "    f_flood_list.append(f_to_flood)"
   ]
  },
  {
   "cell_type": "code",
   "execution_count": 68,
   "metadata": {
    "execution": {
     "iopub.execute_input": "2021-08-25T08:42:59.684822Z",
     "iopub.status.busy": "2021-08-25T08:42:59.684297Z",
     "iopub.status.idle": "2021-08-25T08:42:59.729917Z",
     "shell.execute_reply": "2021-08-25T08:42:59.729181Z",
     "shell.execute_reply.started": "2021-08-25T08:42:59.684773Z"
    }
   },
   "outputs": [
    {
     "data": {
      "application/vnd.plotly.v1+json": {
       "config": {
        "plotlyServerURL": "https://plot.ly"
       },
       "data": [
        {
         "marker": {
          "color": "lightgrey"
         },
         "name": "False Prediction of Droughts",
         "orientation": "h",
         "text": [
          "0.08",
          "0.1",
          "0.08",
          "0.1"
         ],
         "textposition": "auto",
         "type": "bar",
         "x": [
          0.08,
          0.1,
          0.08,
          0.1
         ],
         "y": [
          "GaussianNB",
          "Random Forest",
          "Logistic Regression",
          "Decision Tree"
         ]
        },
        {
         "marker": {
          "color": "lightsalmon"
         },
         "name": "False Prediction of Floods",
         "orientation": "h",
         "text": [
          "0.06",
          "0.06",
          "0.15",
          "0.11"
         ],
         "textposition": "auto",
         "type": "bar",
         "x": [
          0.06,
          0.06,
          0.15,
          0.11
         ],
         "y": [
          "GaussianNB",
          "Random Forest",
          "Logistic Regression",
          "Decision Tree"
         ]
        }
       ],
       "layout": {
        "barmode": "group",
        "legend": {
         "bgcolor": "rgb(246, 228, 129)",
         "x": 0.7,
         "y": 0.94
        },
        "showlegend": true,
        "template": {
         "data": {
          "bar": [
           {
            "error_x": {
             "color": "#2a3f5f"
            },
            "error_y": {
             "color": "#2a3f5f"
            },
            "marker": {
             "line": {
              "color": "#E5ECF6",
              "width": 0.5
             },
             "pattern": {
              "fillmode": "overlay",
              "size": 10,
              "solidity": 0.2
             }
            },
            "type": "bar"
           }
          ],
          "barpolar": [
           {
            "marker": {
             "line": {
              "color": "#E5ECF6",
              "width": 0.5
             },
             "pattern": {
              "fillmode": "overlay",
              "size": 10,
              "solidity": 0.2
             }
            },
            "type": "barpolar"
           }
          ],
          "carpet": [
           {
            "aaxis": {
             "endlinecolor": "#2a3f5f",
             "gridcolor": "white",
             "linecolor": "white",
             "minorgridcolor": "white",
             "startlinecolor": "#2a3f5f"
            },
            "baxis": {
             "endlinecolor": "#2a3f5f",
             "gridcolor": "white",
             "linecolor": "white",
             "minorgridcolor": "white",
             "startlinecolor": "#2a3f5f"
            },
            "type": "carpet"
           }
          ],
          "choropleth": [
           {
            "colorbar": {
             "outlinewidth": 0,
             "ticks": ""
            },
            "type": "choropleth"
           }
          ],
          "contour": [
           {
            "colorbar": {
             "outlinewidth": 0,
             "ticks": ""
            },
            "colorscale": [
             [
              0,
              "#0d0887"
             ],
             [
              0.1111111111111111,
              "#46039f"
             ],
             [
              0.2222222222222222,
              "#7201a8"
             ],
             [
              0.3333333333333333,
              "#9c179e"
             ],
             [
              0.4444444444444444,
              "#bd3786"
             ],
             [
              0.5555555555555556,
              "#d8576b"
             ],
             [
              0.6666666666666666,
              "#ed7953"
             ],
             [
              0.7777777777777778,
              "#fb9f3a"
             ],
             [
              0.8888888888888888,
              "#fdca26"
             ],
             [
              1,
              "#f0f921"
             ]
            ],
            "type": "contour"
           }
          ],
          "contourcarpet": [
           {
            "colorbar": {
             "outlinewidth": 0,
             "ticks": ""
            },
            "type": "contourcarpet"
           }
          ],
          "heatmap": [
           {
            "colorbar": {
             "outlinewidth": 0,
             "ticks": ""
            },
            "colorscale": [
             [
              0,
              "#0d0887"
             ],
             [
              0.1111111111111111,
              "#46039f"
             ],
             [
              0.2222222222222222,
              "#7201a8"
             ],
             [
              0.3333333333333333,
              "#9c179e"
             ],
             [
              0.4444444444444444,
              "#bd3786"
             ],
             [
              0.5555555555555556,
              "#d8576b"
             ],
             [
              0.6666666666666666,
              "#ed7953"
             ],
             [
              0.7777777777777778,
              "#fb9f3a"
             ],
             [
              0.8888888888888888,
              "#fdca26"
             ],
             [
              1,
              "#f0f921"
             ]
            ],
            "type": "heatmap"
           }
          ],
          "heatmapgl": [
           {
            "colorbar": {
             "outlinewidth": 0,
             "ticks": ""
            },
            "colorscale": [
             [
              0,
              "#0d0887"
             ],
             [
              0.1111111111111111,
              "#46039f"
             ],
             [
              0.2222222222222222,
              "#7201a8"
             ],
             [
              0.3333333333333333,
              "#9c179e"
             ],
             [
              0.4444444444444444,
              "#bd3786"
             ],
             [
              0.5555555555555556,
              "#d8576b"
             ],
             [
              0.6666666666666666,
              "#ed7953"
             ],
             [
              0.7777777777777778,
              "#fb9f3a"
             ],
             [
              0.8888888888888888,
              "#fdca26"
             ],
             [
              1,
              "#f0f921"
             ]
            ],
            "type": "heatmapgl"
           }
          ],
          "histogram": [
           {
            "marker": {
             "pattern": {
              "fillmode": "overlay",
              "size": 10,
              "solidity": 0.2
             }
            },
            "type": "histogram"
           }
          ],
          "histogram2d": [
           {
            "colorbar": {
             "outlinewidth": 0,
             "ticks": ""
            },
            "colorscale": [
             [
              0,
              "#0d0887"
             ],
             [
              0.1111111111111111,
              "#46039f"
             ],
             [
              0.2222222222222222,
              "#7201a8"
             ],
             [
              0.3333333333333333,
              "#9c179e"
             ],
             [
              0.4444444444444444,
              "#bd3786"
             ],
             [
              0.5555555555555556,
              "#d8576b"
             ],
             [
              0.6666666666666666,
              "#ed7953"
             ],
             [
              0.7777777777777778,
              "#fb9f3a"
             ],
             [
              0.8888888888888888,
              "#fdca26"
             ],
             [
              1,
              "#f0f921"
             ]
            ],
            "type": "histogram2d"
           }
          ],
          "histogram2dcontour": [
           {
            "colorbar": {
             "outlinewidth": 0,
             "ticks": ""
            },
            "colorscale": [
             [
              0,
              "#0d0887"
             ],
             [
              0.1111111111111111,
              "#46039f"
             ],
             [
              0.2222222222222222,
              "#7201a8"
             ],
             [
              0.3333333333333333,
              "#9c179e"
             ],
             [
              0.4444444444444444,
              "#bd3786"
             ],
             [
              0.5555555555555556,
              "#d8576b"
             ],
             [
              0.6666666666666666,
              "#ed7953"
             ],
             [
              0.7777777777777778,
              "#fb9f3a"
             ],
             [
              0.8888888888888888,
              "#fdca26"
             ],
             [
              1,
              "#f0f921"
             ]
            ],
            "type": "histogram2dcontour"
           }
          ],
          "mesh3d": [
           {
            "colorbar": {
             "outlinewidth": 0,
             "ticks": ""
            },
            "type": "mesh3d"
           }
          ],
          "parcoords": [
           {
            "line": {
             "colorbar": {
              "outlinewidth": 0,
              "ticks": ""
             }
            },
            "type": "parcoords"
           }
          ],
          "pie": [
           {
            "automargin": true,
            "type": "pie"
           }
          ],
          "scatter": [
           {
            "marker": {
             "colorbar": {
              "outlinewidth": 0,
              "ticks": ""
             }
            },
            "type": "scatter"
           }
          ],
          "scatter3d": [
           {
            "line": {
             "colorbar": {
              "outlinewidth": 0,
              "ticks": ""
             }
            },
            "marker": {
             "colorbar": {
              "outlinewidth": 0,
              "ticks": ""
             }
            },
            "type": "scatter3d"
           }
          ],
          "scattercarpet": [
           {
            "marker": {
             "colorbar": {
              "outlinewidth": 0,
              "ticks": ""
             }
            },
            "type": "scattercarpet"
           }
          ],
          "scattergeo": [
           {
            "marker": {
             "colorbar": {
              "outlinewidth": 0,
              "ticks": ""
             }
            },
            "type": "scattergeo"
           }
          ],
          "scattergl": [
           {
            "marker": {
             "colorbar": {
              "outlinewidth": 0,
              "ticks": ""
             }
            },
            "type": "scattergl"
           }
          ],
          "scattermapbox": [
           {
            "marker": {
             "colorbar": {
              "outlinewidth": 0,
              "ticks": ""
             }
            },
            "type": "scattermapbox"
           }
          ],
          "scatterpolar": [
           {
            "marker": {
             "colorbar": {
              "outlinewidth": 0,
              "ticks": ""
             }
            },
            "type": "scatterpolar"
           }
          ],
          "scatterpolargl": [
           {
            "marker": {
             "colorbar": {
              "outlinewidth": 0,
              "ticks": ""
             }
            },
            "type": "scatterpolargl"
           }
          ],
          "scatterternary": [
           {
            "marker": {
             "colorbar": {
              "outlinewidth": 0,
              "ticks": ""
             }
            },
            "type": "scatterternary"
           }
          ],
          "surface": [
           {
            "colorbar": {
             "outlinewidth": 0,
             "ticks": ""
            },
            "colorscale": [
             [
              0,
              "#0d0887"
             ],
             [
              0.1111111111111111,
              "#46039f"
             ],
             [
              0.2222222222222222,
              "#7201a8"
             ],
             [
              0.3333333333333333,
              "#9c179e"
             ],
             [
              0.4444444444444444,
              "#bd3786"
             ],
             [
              0.5555555555555556,
              "#d8576b"
             ],
             [
              0.6666666666666666,
              "#ed7953"
             ],
             [
              0.7777777777777778,
              "#fb9f3a"
             ],
             [
              0.8888888888888888,
              "#fdca26"
             ],
             [
              1,
              "#f0f921"
             ]
            ],
            "type": "surface"
           }
          ],
          "table": [
           {
            "cells": {
             "fill": {
              "color": "#EBF0F8"
             },
             "line": {
              "color": "white"
             }
            },
            "header": {
             "fill": {
              "color": "#C8D4E3"
             },
             "line": {
              "color": "white"
             }
            },
            "type": "table"
           }
          ]
         },
         "layout": {
          "annotationdefaults": {
           "arrowcolor": "#2a3f5f",
           "arrowhead": 0,
           "arrowwidth": 1
          },
          "autotypenumbers": "strict",
          "coloraxis": {
           "colorbar": {
            "outlinewidth": 0,
            "ticks": ""
           }
          },
          "colorscale": {
           "diverging": [
            [
             0,
             "#8e0152"
            ],
            [
             0.1,
             "#c51b7d"
            ],
            [
             0.2,
             "#de77ae"
            ],
            [
             0.3,
             "#f1b6da"
            ],
            [
             0.4,
             "#fde0ef"
            ],
            [
             0.5,
             "#f7f7f7"
            ],
            [
             0.6,
             "#e6f5d0"
            ],
            [
             0.7,
             "#b8e186"
            ],
            [
             0.8,
             "#7fbc41"
            ],
            [
             0.9,
             "#4d9221"
            ],
            [
             1,
             "#276419"
            ]
           ],
           "sequential": [
            [
             0,
             "#0d0887"
            ],
            [
             0.1111111111111111,
             "#46039f"
            ],
            [
             0.2222222222222222,
             "#7201a8"
            ],
            [
             0.3333333333333333,
             "#9c179e"
            ],
            [
             0.4444444444444444,
             "#bd3786"
            ],
            [
             0.5555555555555556,
             "#d8576b"
            ],
            [
             0.6666666666666666,
             "#ed7953"
            ],
            [
             0.7777777777777778,
             "#fb9f3a"
            ],
            [
             0.8888888888888888,
             "#fdca26"
            ],
            [
             1,
             "#f0f921"
            ]
           ],
           "sequentialminus": [
            [
             0,
             "#0d0887"
            ],
            [
             0.1111111111111111,
             "#46039f"
            ],
            [
             0.2222222222222222,
             "#7201a8"
            ],
            [
             0.3333333333333333,
             "#9c179e"
            ],
            [
             0.4444444444444444,
             "#bd3786"
            ],
            [
             0.5555555555555556,
             "#d8576b"
            ],
            [
             0.6666666666666666,
             "#ed7953"
            ],
            [
             0.7777777777777778,
             "#fb9f3a"
            ],
            [
             0.8888888888888888,
             "#fdca26"
            ],
            [
             1,
             "#f0f921"
            ]
           ]
          },
          "colorway": [
           "#636efa",
           "#EF553B",
           "#00cc96",
           "#ab63fa",
           "#FFA15A",
           "#19d3f3",
           "#FF6692",
           "#B6E880",
           "#FF97FF",
           "#FECB52"
          ],
          "font": {
           "color": "#2a3f5f"
          },
          "geo": {
           "bgcolor": "white",
           "lakecolor": "white",
           "landcolor": "#E5ECF6",
           "showlakes": true,
           "showland": true,
           "subunitcolor": "white"
          },
          "hoverlabel": {
           "align": "left"
          },
          "hovermode": "closest",
          "mapbox": {
           "style": "light"
          },
          "paper_bgcolor": "white",
          "plot_bgcolor": "#E5ECF6",
          "polar": {
           "angularaxis": {
            "gridcolor": "white",
            "linecolor": "white",
            "ticks": ""
           },
           "bgcolor": "#E5ECF6",
           "radialaxis": {
            "gridcolor": "white",
            "linecolor": "white",
            "ticks": ""
           }
          },
          "scene": {
           "xaxis": {
            "backgroundcolor": "#E5ECF6",
            "gridcolor": "white",
            "gridwidth": 2,
            "linecolor": "white",
            "showbackground": true,
            "ticks": "",
            "zerolinecolor": "white"
           },
           "yaxis": {
            "backgroundcolor": "#E5ECF6",
            "gridcolor": "white",
            "gridwidth": 2,
            "linecolor": "white",
            "showbackground": true,
            "ticks": "",
            "zerolinecolor": "white"
           },
           "zaxis": {
            "backgroundcolor": "#E5ECF6",
            "gridcolor": "white",
            "gridwidth": 2,
            "linecolor": "white",
            "showbackground": true,
            "ticks": "",
            "zerolinecolor": "white"
           }
          },
          "shapedefaults": {
           "line": {
            "color": "#2a3f5f"
           }
          },
          "ternary": {
           "aaxis": {
            "gridcolor": "white",
            "linecolor": "white",
            "ticks": ""
           },
           "baxis": {
            "gridcolor": "white",
            "linecolor": "white",
            "ticks": ""
           },
           "bgcolor": "#E5ECF6",
           "caxis": {
            "gridcolor": "white",
            "linecolor": "white",
            "ticks": ""
           }
          },
          "title": {
           "x": 0.05
          },
          "xaxis": {
           "automargin": true,
           "gridcolor": "white",
           "linecolor": "white",
           "ticks": "",
           "title": {
            "standoff": 15
           },
           "zerolinecolor": "white",
           "zerolinewidth": 2
          },
          "yaxis": {
           "automargin": true,
           "gridcolor": "white",
           "linecolor": "white",
           "ticks": "",
           "title": {
            "standoff": 15
           },
           "zerolinecolor": "white",
           "zerolinewidth": 2
          }
         }
        },
        "title": {
         "text": "False Prediction of Droughts and Floods (The Lower, The Better)",
         "x": 0.5,
         "y": 0.88
        },
        "xaxis": {
         "tickangle": 0,
         "title": {
          "font": {
           "size": 16
          },
          "standoff": 12,
          "text": "Machine Learning Models"
         }
        },
        "yaxis": {
         "title": {
          "font": {
           "size": 16
          },
          "standoff": 12,
          "text": "False Prediction Rate"
         }
        }
       }
      },
      "text/html": [
       "<div>                            <div id=\"0b3aca92-bdda-40f7-8ce7-d89f4a8d0167\" class=\"plotly-graph-div\" style=\"height:525px; width:100%;\"></div>            <script type=\"text/javascript\">                require([\"plotly\"], function(Plotly) {                    window.PLOTLYENV=window.PLOTLYENV || {};                                    if (document.getElementById(\"0b3aca92-bdda-40f7-8ce7-d89f4a8d0167\")) {                    Plotly.newPlot(                        \"0b3aca92-bdda-40f7-8ce7-d89f4a8d0167\",                        [{\"marker\":{\"color\":\"lightgrey\"},\"name\":\"False Prediction of Droughts\",\"orientation\":\"h\",\"text\":[\"0.08\",\"0.1\",\"0.08\",\"0.1\"],\"textposition\":\"auto\",\"type\":\"bar\",\"x\":[0.08,0.1,0.08,0.1],\"y\":[\"GaussianNB\",\"Random Forest\",\"Logistic Regression\",\"Decision Tree\"]},{\"marker\":{\"color\":\"lightsalmon\"},\"name\":\"False Prediction of Floods\",\"orientation\":\"h\",\"text\":[\"0.06\",\"0.06\",\"0.15\",\"0.11\"],\"textposition\":\"auto\",\"type\":\"bar\",\"x\":[0.06,0.06,0.15,0.11],\"y\":[\"GaussianNB\",\"Random Forest\",\"Logistic Regression\",\"Decision Tree\"]}],                        {\"barmode\":\"group\",\"legend\":{\"bgcolor\":\"rgb(246, 228, 129)\",\"x\":0.7,\"y\":0.94},\"showlegend\":true,\"template\":{\"data\":{\"bar\":[{\"error_x\":{\"color\":\"#2a3f5f\"},\"error_y\":{\"color\":\"#2a3f5f\"},\"marker\":{\"line\":{\"color\":\"#E5ECF6\",\"width\":0.5},\"pattern\":{\"fillmode\":\"overlay\",\"size\":10,\"solidity\":0.2}},\"type\":\"bar\"}],\"barpolar\":[{\"marker\":{\"line\":{\"color\":\"#E5ECF6\",\"width\":0.5},\"pattern\":{\"fillmode\":\"overlay\",\"size\":10,\"solidity\":0.2}},\"type\":\"barpolar\"}],\"carpet\":[{\"aaxis\":{\"endlinecolor\":\"#2a3f5f\",\"gridcolor\":\"white\",\"linecolor\":\"white\",\"minorgridcolor\":\"white\",\"startlinecolor\":\"#2a3f5f\"},\"baxis\":{\"endlinecolor\":\"#2a3f5f\",\"gridcolor\":\"white\",\"linecolor\":\"white\",\"minorgridcolor\":\"white\",\"startlinecolor\":\"#2a3f5f\"},\"type\":\"carpet\"}],\"choropleth\":[{\"colorbar\":{\"outlinewidth\":0,\"ticks\":\"\"},\"type\":\"choropleth\"}],\"contour\":[{\"colorbar\":{\"outlinewidth\":0,\"ticks\":\"\"},\"colorscale\":[[0.0,\"#0d0887\"],[0.1111111111111111,\"#46039f\"],[0.2222222222222222,\"#7201a8\"],[0.3333333333333333,\"#9c179e\"],[0.4444444444444444,\"#bd3786\"],[0.5555555555555556,\"#d8576b\"],[0.6666666666666666,\"#ed7953\"],[0.7777777777777778,\"#fb9f3a\"],[0.8888888888888888,\"#fdca26\"],[1.0,\"#f0f921\"]],\"type\":\"contour\"}],\"contourcarpet\":[{\"colorbar\":{\"outlinewidth\":0,\"ticks\":\"\"},\"type\":\"contourcarpet\"}],\"heatmap\":[{\"colorbar\":{\"outlinewidth\":0,\"ticks\":\"\"},\"colorscale\":[[0.0,\"#0d0887\"],[0.1111111111111111,\"#46039f\"],[0.2222222222222222,\"#7201a8\"],[0.3333333333333333,\"#9c179e\"],[0.4444444444444444,\"#bd3786\"],[0.5555555555555556,\"#d8576b\"],[0.6666666666666666,\"#ed7953\"],[0.7777777777777778,\"#fb9f3a\"],[0.8888888888888888,\"#fdca26\"],[1.0,\"#f0f921\"]],\"type\":\"heatmap\"}],\"heatmapgl\":[{\"colorbar\":{\"outlinewidth\":0,\"ticks\":\"\"},\"colorscale\":[[0.0,\"#0d0887\"],[0.1111111111111111,\"#46039f\"],[0.2222222222222222,\"#7201a8\"],[0.3333333333333333,\"#9c179e\"],[0.4444444444444444,\"#bd3786\"],[0.5555555555555556,\"#d8576b\"],[0.6666666666666666,\"#ed7953\"],[0.7777777777777778,\"#fb9f3a\"],[0.8888888888888888,\"#fdca26\"],[1.0,\"#f0f921\"]],\"type\":\"heatmapgl\"}],\"histogram\":[{\"marker\":{\"pattern\":{\"fillmode\":\"overlay\",\"size\":10,\"solidity\":0.2}},\"type\":\"histogram\"}],\"histogram2d\":[{\"colorbar\":{\"outlinewidth\":0,\"ticks\":\"\"},\"colorscale\":[[0.0,\"#0d0887\"],[0.1111111111111111,\"#46039f\"],[0.2222222222222222,\"#7201a8\"],[0.3333333333333333,\"#9c179e\"],[0.4444444444444444,\"#bd3786\"],[0.5555555555555556,\"#d8576b\"],[0.6666666666666666,\"#ed7953\"],[0.7777777777777778,\"#fb9f3a\"],[0.8888888888888888,\"#fdca26\"],[1.0,\"#f0f921\"]],\"type\":\"histogram2d\"}],\"histogram2dcontour\":[{\"colorbar\":{\"outlinewidth\":0,\"ticks\":\"\"},\"colorscale\":[[0.0,\"#0d0887\"],[0.1111111111111111,\"#46039f\"],[0.2222222222222222,\"#7201a8\"],[0.3333333333333333,\"#9c179e\"],[0.4444444444444444,\"#bd3786\"],[0.5555555555555556,\"#d8576b\"],[0.6666666666666666,\"#ed7953\"],[0.7777777777777778,\"#fb9f3a\"],[0.8888888888888888,\"#fdca26\"],[1.0,\"#f0f921\"]],\"type\":\"histogram2dcontour\"}],\"mesh3d\":[{\"colorbar\":{\"outlinewidth\":0,\"ticks\":\"\"},\"type\":\"mesh3d\"}],\"parcoords\":[{\"line\":{\"colorbar\":{\"outlinewidth\":0,\"ticks\":\"\"}},\"type\":\"parcoords\"}],\"pie\":[{\"automargin\":true,\"type\":\"pie\"}],\"scatter\":[{\"marker\":{\"colorbar\":{\"outlinewidth\":0,\"ticks\":\"\"}},\"type\":\"scatter\"}],\"scatter3d\":[{\"line\":{\"colorbar\":{\"outlinewidth\":0,\"ticks\":\"\"}},\"marker\":{\"colorbar\":{\"outlinewidth\":0,\"ticks\":\"\"}},\"type\":\"scatter3d\"}],\"scattercarpet\":[{\"marker\":{\"colorbar\":{\"outlinewidth\":0,\"ticks\":\"\"}},\"type\":\"scattercarpet\"}],\"scattergeo\":[{\"marker\":{\"colorbar\":{\"outlinewidth\":0,\"ticks\":\"\"}},\"type\":\"scattergeo\"}],\"scattergl\":[{\"marker\":{\"colorbar\":{\"outlinewidth\":0,\"ticks\":\"\"}},\"type\":\"scattergl\"}],\"scattermapbox\":[{\"marker\":{\"colorbar\":{\"outlinewidth\":0,\"ticks\":\"\"}},\"type\":\"scattermapbox\"}],\"scatterpolar\":[{\"marker\":{\"colorbar\":{\"outlinewidth\":0,\"ticks\":\"\"}},\"type\":\"scatterpolar\"}],\"scatterpolargl\":[{\"marker\":{\"colorbar\":{\"outlinewidth\":0,\"ticks\":\"\"}},\"type\":\"scatterpolargl\"}],\"scatterternary\":[{\"marker\":{\"colorbar\":{\"outlinewidth\":0,\"ticks\":\"\"}},\"type\":\"scatterternary\"}],\"surface\":[{\"colorbar\":{\"outlinewidth\":0,\"ticks\":\"\"},\"colorscale\":[[0.0,\"#0d0887\"],[0.1111111111111111,\"#46039f\"],[0.2222222222222222,\"#7201a8\"],[0.3333333333333333,\"#9c179e\"],[0.4444444444444444,\"#bd3786\"],[0.5555555555555556,\"#d8576b\"],[0.6666666666666666,\"#ed7953\"],[0.7777777777777778,\"#fb9f3a\"],[0.8888888888888888,\"#fdca26\"],[1.0,\"#f0f921\"]],\"type\":\"surface\"}],\"table\":[{\"cells\":{\"fill\":{\"color\":\"#EBF0F8\"},\"line\":{\"color\":\"white\"}},\"header\":{\"fill\":{\"color\":\"#C8D4E3\"},\"line\":{\"color\":\"white\"}},\"type\":\"table\"}]},\"layout\":{\"annotationdefaults\":{\"arrowcolor\":\"#2a3f5f\",\"arrowhead\":0,\"arrowwidth\":1},\"autotypenumbers\":\"strict\",\"coloraxis\":{\"colorbar\":{\"outlinewidth\":0,\"ticks\":\"\"}},\"colorscale\":{\"diverging\":[[0,\"#8e0152\"],[0.1,\"#c51b7d\"],[0.2,\"#de77ae\"],[0.3,\"#f1b6da\"],[0.4,\"#fde0ef\"],[0.5,\"#f7f7f7\"],[0.6,\"#e6f5d0\"],[0.7,\"#b8e186\"],[0.8,\"#7fbc41\"],[0.9,\"#4d9221\"],[1,\"#276419\"]],\"sequential\":[[0.0,\"#0d0887\"],[0.1111111111111111,\"#46039f\"],[0.2222222222222222,\"#7201a8\"],[0.3333333333333333,\"#9c179e\"],[0.4444444444444444,\"#bd3786\"],[0.5555555555555556,\"#d8576b\"],[0.6666666666666666,\"#ed7953\"],[0.7777777777777778,\"#fb9f3a\"],[0.8888888888888888,\"#fdca26\"],[1.0,\"#f0f921\"]],\"sequentialminus\":[[0.0,\"#0d0887\"],[0.1111111111111111,\"#46039f\"],[0.2222222222222222,\"#7201a8\"],[0.3333333333333333,\"#9c179e\"],[0.4444444444444444,\"#bd3786\"],[0.5555555555555556,\"#d8576b\"],[0.6666666666666666,\"#ed7953\"],[0.7777777777777778,\"#fb9f3a\"],[0.8888888888888888,\"#fdca26\"],[1.0,\"#f0f921\"]]},\"colorway\":[\"#636efa\",\"#EF553B\",\"#00cc96\",\"#ab63fa\",\"#FFA15A\",\"#19d3f3\",\"#FF6692\",\"#B6E880\",\"#FF97FF\",\"#FECB52\"],\"font\":{\"color\":\"#2a3f5f\"},\"geo\":{\"bgcolor\":\"white\",\"lakecolor\":\"white\",\"landcolor\":\"#E5ECF6\",\"showlakes\":true,\"showland\":true,\"subunitcolor\":\"white\"},\"hoverlabel\":{\"align\":\"left\"},\"hovermode\":\"closest\",\"mapbox\":{\"style\":\"light\"},\"paper_bgcolor\":\"white\",\"plot_bgcolor\":\"#E5ECF6\",\"polar\":{\"angularaxis\":{\"gridcolor\":\"white\",\"linecolor\":\"white\",\"ticks\":\"\"},\"bgcolor\":\"#E5ECF6\",\"radialaxis\":{\"gridcolor\":\"white\",\"linecolor\":\"white\",\"ticks\":\"\"}},\"scene\":{\"xaxis\":{\"backgroundcolor\":\"#E5ECF6\",\"gridcolor\":\"white\",\"gridwidth\":2,\"linecolor\":\"white\",\"showbackground\":true,\"ticks\":\"\",\"zerolinecolor\":\"white\"},\"yaxis\":{\"backgroundcolor\":\"#E5ECF6\",\"gridcolor\":\"white\",\"gridwidth\":2,\"linecolor\":\"white\",\"showbackground\":true,\"ticks\":\"\",\"zerolinecolor\":\"white\"},\"zaxis\":{\"backgroundcolor\":\"#E5ECF6\",\"gridcolor\":\"white\",\"gridwidth\":2,\"linecolor\":\"white\",\"showbackground\":true,\"ticks\":\"\",\"zerolinecolor\":\"white\"}},\"shapedefaults\":{\"line\":{\"color\":\"#2a3f5f\"}},\"ternary\":{\"aaxis\":{\"gridcolor\":\"white\",\"linecolor\":\"white\",\"ticks\":\"\"},\"baxis\":{\"gridcolor\":\"white\",\"linecolor\":\"white\",\"ticks\":\"\"},\"bgcolor\":\"#E5ECF6\",\"caxis\":{\"gridcolor\":\"white\",\"linecolor\":\"white\",\"ticks\":\"\"}},\"title\":{\"x\":0.05},\"xaxis\":{\"automargin\":true,\"gridcolor\":\"white\",\"linecolor\":\"white\",\"ticks\":\"\",\"title\":{\"standoff\":15},\"zerolinecolor\":\"white\",\"zerolinewidth\":2},\"yaxis\":{\"automargin\":true,\"gridcolor\":\"white\",\"linecolor\":\"white\",\"ticks\":\"\",\"title\":{\"standoff\":15},\"zerolinecolor\":\"white\",\"zerolinewidth\":2}}},\"title\":{\"text\":\"False Prediction of Droughts and Floods (The Lower, The Better)\",\"x\":0.5,\"y\":0.88},\"xaxis\":{\"tickangle\":0,\"title\":{\"font\":{\"size\":16},\"standoff\":12,\"text\":\"Machine Learning Models\"}},\"yaxis\":{\"title\":{\"font\":{\"size\":16},\"standoff\":12,\"text\":\"False Prediction Rate\"}}},                        {\"responsive\": true}                    ).then(function(){\n",
       "                            \n",
       "var gd = document.getElementById('0b3aca92-bdda-40f7-8ce7-d89f4a8d0167');\n",
       "var x = new MutationObserver(function (mutations, observer) {{\n",
       "        var display = window.getComputedStyle(gd).display;\n",
       "        if (!display || display === 'none') {{\n",
       "            console.log([gd, 'removed!']);\n",
       "            Plotly.purge(gd);\n",
       "            observer.disconnect();\n",
       "        }}\n",
       "}});\n",
       "\n",
       "// Listen for the removal of the full notebook cells\n",
       "var notebookContainer = gd.closest('#notebook-container');\n",
       "if (notebookContainer) {{\n",
       "    x.observe(notebookContainer, {childList: true});\n",
       "}}\n",
       "\n",
       "// Listen for the clearing of the current output cell\n",
       "var outputEl = gd.closest('.output');\n",
       "if (outputEl) {{\n",
       "    x.observe(outputEl, {childList: true});\n",
       "}}\n",
       "\n",
       "                        })                };                });            </script>        </div>"
      ]
     },
     "metadata": {},
     "output_type": "display_data"
    }
   ],
   "source": [
    "fig = go.Figure()\n",
    "fig.add_trace(go.Bar(x=f_drought_list, y=bar_x, name='False Prediction of Droughts', \n",
    "                     marker_color='lightgrey', text=f_drought_list, \n",
    "                     textposition='auto', orientation='h'))\n",
    "fig.add_trace(go.Bar(x=f_flood_list, y=bar_x, name='False Prediction of Floods', \n",
    "                     marker_color='lightsalmon', text=f_flood_list, \n",
    "                     textposition='auto', orientation='h'))\n",
    "fig.update_layout(barmode='group', xaxis_tickangle=0)\n",
    "fig.update_layout({'showlegend':True, \n",
    "                   'legend':{'x':0.7, 'y':0.94, \n",
    "                             'bgcolor':'rgb(246, 228, 129)'}})\n",
    "fig.update_xaxes(\n",
    "        title_text = \"Machine Learning Models\",\n",
    "        title_font = {\"size\": 16},\n",
    "        title_standoff = 12)\n",
    "fig.update_yaxes(\n",
    "        title_text = \"False Prediction Rate\",\n",
    "        title_font = {\"size\": 16},\n",
    "        title_standoff = 12)\n",
    "fig.update_layout(title_text=\"False Prediction of Droughts and Floods (The Lower, The Better)\", title_x=0.5, title_y=0.88)\n",
    "fig.show()"
   ]
  },
  {
   "cell_type": "code",
   "execution_count": null,
   "metadata": {},
   "outputs": [],
   "source": []
  }
 ],
 "metadata": {
  "kernelspec": {
   "display_name": "Python 3",
   "language": "python",
   "name": "python3"
  },
  "language_info": {
   "codemirror_mode": {
    "name": "ipython",
    "version": 3
   },
   "file_extension": ".py",
   "mimetype": "text/x-python",
   "name": "python",
   "nbconvert_exporter": "python",
   "pygments_lexer": "ipython3",
   "version": "3.7.6"
  }
 },
 "nbformat": 4,
 "nbformat_minor": 4
}
